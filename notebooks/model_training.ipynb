{
 "cells": [
  {
   "cell_type": "code",
   "id": "initial_id",
   "metadata": {
    "collapsed": true,
    "ExecuteTime": {
     "end_time": "2025-08-30T18:43:32.584824Z",
     "start_time": "2025-08-30T18:43:31.424400Z"
    }
   },
   "source": [
    "import sys\n",
    "import os\n",
    "import pandas as pd\n",
    "from pathlib import Path\n",
    "import warnings\n",
    "import lightgbm as lgb\n",
    "\n",
    "warnings.filterwarnings('ignore')"
   ],
   "outputs": [],
   "execution_count": 1
  },
  {
   "metadata": {
    "ExecuteTime": {
     "end_time": "2025-08-30T18:43:32.593822Z",
     "start_time": "2025-08-30T18:43:32.591092Z"
    }
   },
   "cell_type": "code",
   "source": [
    "project_root = os.path.abspath(os.path.join(os.getcwd(), '..'))\n",
    "if project_root not in sys.path:\n",
    "    sys.path.append(project_root)"
   ],
   "id": "1ff8e6124afacac6",
   "outputs": [],
   "execution_count": 2
  },
  {
   "metadata": {
    "ExecuteTime": {
     "end_time": "2025-08-30T18:43:32.983420Z",
     "start_time": "2025-08-30T18:43:32.596884Z"
    }
   },
   "cell_type": "code",
   "source": [
    "from src.model import train, test\n",
    "from src.model.model import (\n",
    "    LightGBMModel,\n",
    "    XGBoostModel,\n",
    "    CatBoostModel,\n",
    "    LogisticRegressionModel,\n",
    "    StackingEnsemble\n",
    ")\n",
    "from src.utils import get_config"
   ],
   "id": "e65d6d2b24c3ac66",
   "outputs": [],
   "execution_count": 3
  },
  {
   "metadata": {
    "ExecuteTime": {
     "end_time": "2025-08-30T18:43:32.993912Z",
     "start_time": "2025-08-30T18:43:32.987732Z"
    }
   },
   "cell_type": "code",
   "source": [
    "config = get_config.read_yaml_from_main()\n",
    "print(\"Configuration loaded successfully!\")"
   ],
   "id": "f8661607222d67d7",
   "outputs": [
    {
     "name": "stdout",
     "output_type": "stream",
     "text": [
      "Configuration loaded successfully!\n"
     ]
    }
   ],
   "execution_count": 4
  },
  {
   "metadata": {
    "ExecuteTime": {
     "end_time": "2025-08-30T18:43:32.999779Z",
     "start_time": "2025-08-30T18:43:32.997382Z"
    }
   },
   "cell_type": "code",
   "source": [
    "def run_model(model_name):\n",
    "    model_dir = Path(config['paths']['model_data_directory'])\n",
    "    model_path = model_dir / f\"{model_name}_model.joblib\"\n",
    "    train.train_model(model_name, model_path)\n",
    "    test.test_model(model_name)"
   ],
   "id": "b04221cbbbf8e1ef",
   "outputs": [],
   "execution_count": 5
  },
  {
   "metadata": {
    "ExecuteTime": {
     "end_time": "2025-08-30T18:43:39.723746Z",
     "start_time": "2025-08-30T18:43:33.005878Z"
    }
   },
   "cell_type": "code",
   "source": [
    "model_name = 'lightgbm'\n",
    "run_model(model_name)"
   ],
   "id": "8cfd708239eff64e",
   "outputs": [
    {
     "name": "stdout",
     "output_type": "stream",
     "text": [
      "--- Preparing to Train Model: lightgbm ---\n",
      "--- Fitting LightGBMModel ---\n",
      "[LightGBM] [Warning] Found whitespace in feature_names, replace with underlines\n",
      "[LightGBM] [Info] Number of positive: 17377, number of negative: 197880\n",
      "[LightGBM] [Info] Auto-choosing col-wise multi-threading, the overhead of testing was 0.061776 seconds.\n",
      "You can set `force_col_wise=true` to remove the overhead.\n",
      "[LightGBM] [Info] Total Bins 15686\n",
      "[LightGBM] [Info] Number of data points in the train set: 215257, number of used features: 96\n",
      "[LightGBM] [Info] [binary:BoostFromScore]: pavg=0.500000 -> initscore=-0.000000\n",
      "[LightGBM] [Info] Start training from score -0.000000\n",
      "Validation ROC AUC: 0.6125\n",
      "Validation PR AUC (AUC-PR): 0.1277\n",
      "Model saved to ..\\models\\lightgbm_model.joblib\n",
      "--- Testing Model from: ../models/lightgbm_model.joblib ---\n",
      "\n",
      "--- Test Set Performance ---\n",
      "Test ROC AUC: 0.6133\n",
      "Test PR AUC: 0.1268\n"
     ]
    }
   ],
   "execution_count": 6
  },
  {
   "metadata": {
    "ExecuteTime": {
     "end_time": "2025-08-30T18:43:44.153151Z",
     "start_time": "2025-08-30T18:43:39.729898Z"
    }
   },
   "cell_type": "code",
   "source": [
    "model_name = 'xgboost'\n",
    "run_model(model_name)"
   ],
   "id": "5deb95454ff25d57",
   "outputs": [
    {
     "name": "stdout",
     "output_type": "stream",
     "text": [
      "--- Preparing to Train Model: xgboost ---\n",
      "--- Fitting XGBoostModel ---\n",
      "Validation ROC AUC: 0.5797\n",
      "Validation PR AUC (AUC-PR): 0.1156\n",
      "Model saved to ..\\models\\xgboost_model.joblib\n",
      "--- Testing Model from: ../models/xgboost_model.joblib ---\n",
      "\n",
      "--- Test Set Performance ---\n",
      "Test ROC AUC: 0.5875\n",
      "Test PR AUC: 0.1158\n"
     ]
    }
   ],
   "execution_count": 7
  },
  {
   "metadata": {
    "ExecuteTime": {
     "end_time": "2025-08-30T18:44:09.223394Z",
     "start_time": "2025-08-30T18:43:44.157390Z"
    }
   },
   "cell_type": "code",
   "source": [
    "model_name = 'catboost'\n",
    "run_model(model_name)"
   ],
   "id": "3e377e92357517e8",
   "outputs": [
    {
     "name": "stdout",
     "output_type": "stream",
     "text": [
      "--- Preparing to Train Model: catboost ---\n",
      "--- Fitting CatBoostModel ---\n",
      "Validation ROC AUC: 0.5856\n",
      "Validation PR AUC (AUC-PR): 0.1205\n",
      "Model saved to ..\\models\\catboost_model.joblib\n",
      "--- Testing Model from: ../models/catboost_model.joblib ---\n",
      "\n",
      "--- Test Set Performance ---\n",
      "Test ROC AUC: 0.5948\n",
      "Test PR AUC: 0.1211\n"
     ]
    }
   ],
   "execution_count": 8
  },
  {
   "metadata": {
    "ExecuteTime": {
     "end_time": "2025-08-30T18:44:13.800229Z",
     "start_time": "2025-08-30T18:44:09.227736Z"
    }
   },
   "cell_type": "code",
   "source": [
    "model_name = 'logistic_regression'\n",
    "run_model(model_name)"
   ],
   "id": "94811a29876db1ad",
   "outputs": [
    {
     "name": "stdout",
     "output_type": "stream",
     "text": [
      "--- Preparing to Train Model: logistic_regression ---\n",
      "--- Fitting LogisticRegressionModel ---\n",
      "Validation ROC AUC: 0.6114\n",
      "Validation PR AUC (AUC-PR): 0.1242\n",
      "Model saved to ..\\models\\logistic_regression_model.joblib\n",
      "--- Testing Model from: ../models/logistic_regression_model.joblib ---\n",
      "\n",
      "--- Test Set Performance ---\n",
      "Test ROC AUC: 0.6140\n",
      "Test PR AUC: 0.1263\n"
     ]
    }
   ],
   "execution_count": 9
  },
  {
   "metadata": {
    "ExecuteTime": {
     "end_time": "2025-08-30T18:44:45.360872Z",
     "start_time": "2025-08-30T18:44:13.805462Z"
    }
   },
   "cell_type": "code",
   "source": [
    "model_name = 'ensemble'\n",
    "run_model(model_name)"
   ],
   "id": "a46444a23db73b63",
   "outputs": [
    {
     "name": "stdout",
     "output_type": "stream",
     "text": [
      "--- Preparing to Train Model: ensemble ---\n",
      "--- Fitting Stacking Ensemble ---\n",
      "Fitting base model: LightGBMModel\n",
      "--- Fitting LightGBMModel ---\n",
      "[LightGBM] [Warning] Found whitespace in feature_names, replace with underlines\n",
      "[LightGBM] [Info] Number of positive: 17377, number of negative: 197880\n",
      "[LightGBM] [Info] Auto-choosing col-wise multi-threading, the overhead of testing was 0.067780 seconds.\n",
      "You can set `force_col_wise=true` to remove the overhead.\n",
      "[LightGBM] [Info] Total Bins 15686\n",
      "[LightGBM] [Info] Number of data points in the train set: 215257, number of used features: 96\n",
      "[LightGBM] [Info] [binary:BoostFromScore]: pavg=0.500000 -> initscore=-0.000000\n",
      "[LightGBM] [Info] Start training from score -0.000000\n",
      "Fitting base model: XGBoostModel\n",
      "--- Fitting XGBoostModel ---\n",
      "Fitting base model: CatBoostModel\n",
      "--- Fitting CatBoostModel ---\n",
      "Fitting base model: LogisticRegressionModel\n",
      "--- Fitting LogisticRegressionModel ---\n",
      "Fitting meta-learner...\n",
      "--- Ensemble Fitting Complete ---\n",
      "Validation ROC AUC: 0.5483\n",
      "Validation PR AUC (AUC-PR): 0.1002\n",
      "Ensemble model saved to ..\\models\\ensemble_model.joblib\n",
      "--- Testing Model from: ../models/ensemble_model.joblib ---\n",
      "\n",
      "--- Test Set Performance ---\n",
      "Test ROC AUC: 0.5592\n",
      "Test PR AUC: 0.1018\n"
     ]
    }
   ],
   "execution_count": 10
  },
  {
   "metadata": {
    "jupyter": {
     "is_executing": true
    },
    "ExecuteTime": {
     "start_time": "2025-08-30T18:44:45.365894Z"
    }
   },
   "cell_type": "code",
   "source": [
    "import optuna\n",
    "from sklearn.metrics import average_precision_score\n",
    "\n",
    "# --- This code goes in a new cell in your notebook ---\n",
    "\n",
    "def objective(trial):\n",
    "    # 1. Define the hyperparameters to search\n",
    "    params = {\n",
    "        'objective': 'binary',\n",
    "        'metric': 'aucpr', # Optimize directly for PR AUC\n",
    "        'n_estimators': trial.suggest_int('n_estimators', 200, 2000),\n",
    "        'learning_rate': trial.suggest_float('learning_rate', 0.01, 0.3),\n",
    "        'num_leaves': trial.suggest_int('num_leaves', 20, 300),\n",
    "        'max_depth': trial.suggest_int('max_depth', 3, 12),\n",
    "        'min_child_samples': trial.suggest_int('min_child_samples', 20, 200),\n",
    "        'feature_fraction': trial.suggest_float('feature_fraction', 0.6, 1.0),\n",
    "        'bagging_fraction': trial.suggest_float('bagging_fraction', 0.6, 1.0),\n",
    "        'bagging_freq': trial.suggest_int('bagging_freq', 1, 7),\n",
    "        'lambda_l1': trial.suggest_float('lambda_l1', 1e-8, 10.0, log=True),\n",
    "        'lambda_l2': trial.suggest_float('lambda_l2', 1e-8, 10.0, log=True),\n",
    "        'class_weight': 'balanced',\n",
    "        'random_state': 42,\n",
    "        'verbose': -1\n",
    "    }\n",
    "\n",
    "    data_dir = config['paths']['processed_data_directory']\n",
    "    train_df = pd.read_csv(data_dir + \"/clean_train_data.csv\")\n",
    "    val_df = pd.read_csv(data_dir + \"/clean_val_data.csv\")\n",
    "\n",
    "    # 2. Prepare Data\n",
    "    id_col = config['data']['id']\n",
    "    target_col = config['data']['target']\n",
    "\n",
    "    X_train = train_df.drop(columns=[id_col, target_col])\n",
    "    y_train = train_df[target_col]\n",
    "    X_val = val_df.drop(columns=[id_col, target_col])\n",
    "    y_val = val_df[target_col]\n",
    "\n",
    "    # 2. Train the model with the suggested params\n",
    "    model = lgb.LGBMClassifier(**params)\n",
    "    model.fit(X_train, y_train)\n",
    "\n",
    "    # 3. Evaluate on the validation set and return the score\n",
    "    val_preds = model.predict_proba(X_val)[:, 1]\n",
    "    pr_auc = average_precision_score(y_val, val_preds)\n",
    "\n",
    "    return pr_auc\n",
    "\n",
    "# --- Create and run the study ---\n",
    "# We want to MAXIMIZE the PR AUC, so the direction is 'maximize'\n",
    "study = optuna.create_study(direction='maximize')\n",
    "study.optimize(objective, n_trials=50) # Run 50 trials\n",
    "\n",
    "print(\"Best trial:\")\n",
    "trial = study.best_trial\n",
    "print(f\"  Value: {trial.value:.4f}\")\n",
    "print(\"  Params: \")\n",
    "for key, value in trial.params.items():\n",
    "    print(f\"    {key}: {value}\")\n",
    "\n",
    "# You can now retrain your model using these best parameters."
   ],
   "id": "a2f83c1de8e3d954",
   "outputs": [
    {
     "name": "stderr",
     "output_type": "stream",
     "text": [
      "[I 2025-08-31 00:14:45,457] A new study created in memory with name: no-name-82c8d754-47c3-4eab-83b8-0982434f9224\n",
      "[I 2025-08-31 00:15:04,083] Trial 0 finished with value: 0.11253618417909872 and parameters: {'n_estimators': 1531, 'learning_rate': 0.08193804506956746, 'num_leaves': 256, 'max_depth': 6, 'min_child_samples': 60, 'feature_fraction': 0.8894446497697917, 'bagging_fraction': 0.849287818365226, 'bagging_freq': 6, 'lambda_l1': 0.35071927152709953, 'lambda_l2': 0.00018952537261190583}. Best is trial 0 with value: 0.11253618417909872.\n",
      "[I 2025-08-31 00:15:11,335] Trial 1 finished with value: 0.09909539305130538 and parameters: {'n_estimators': 217, 'learning_rate': 0.2693647809206803, 'num_leaves': 143, 'max_depth': 12, 'min_child_samples': 23, 'feature_fraction': 0.8286621733038, 'bagging_fraction': 0.6055241521847665, 'bagging_freq': 1, 'lambda_l1': 1.792182465879176e-08, 'lambda_l2': 0.019844995224682926}. Best is trial 0 with value: 0.11253618417909872.\n"
     ]
    }
   ],
   "execution_count": null
  },
  {
   "metadata": {},
   "cell_type": "code",
   "source": "",
   "id": "2f79a5565ffb18f3",
   "outputs": [],
   "execution_count": null
  }
 ],
 "metadata": {
  "kernelspec": {
   "display_name": "Python 3",
   "language": "python",
   "name": "python3"
  },
  "language_info": {
   "codemirror_mode": {
    "name": "ipython",
    "version": 2
   },
   "file_extension": ".py",
   "mimetype": "text/x-python",
   "name": "python",
   "nbconvert_exporter": "python",
   "pygments_lexer": "ipython2",
   "version": "2.7.6"
  }
 },
 "nbformat": 4,
 "nbformat_minor": 5
}
