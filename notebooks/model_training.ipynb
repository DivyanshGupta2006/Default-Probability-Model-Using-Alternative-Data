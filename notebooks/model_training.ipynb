{
 "cells": [
  {
   "cell_type": "code",
   "id": "initial_id",
   "metadata": {
    "collapsed": true,
    "ExecuteTime": {
     "end_time": "2025-09-01T06:20:57.591554Z",
     "start_time": "2025-09-01T06:20:57.586993Z"
    }
   },
   "source": [
    "import sys\n",
    "import os\n",
    "from pathlib import Path\n",
    "import warnings\n",
    "\n",
    "warnings.filterwarnings('ignore')"
   ],
   "outputs": [],
   "execution_count": 1
  },
  {
   "metadata": {
    "ExecuteTime": {
     "end_time": "2025-09-01T06:20:57.603031Z",
     "start_time": "2025-09-01T06:20:57.599047Z"
    }
   },
   "cell_type": "code",
   "source": [
    "project_root = os.path.abspath(os.path.join(os.getcwd(), '..'))\n",
    "if project_root not in sys.path:\n",
    "    sys.path.append(project_root)"
   ],
   "id": "1ff8e6124afacac6",
   "outputs": [],
   "execution_count": 2
  },
  {
   "metadata": {
    "ExecuteTime": {
     "end_time": "2025-09-01T06:21:03.193739Z",
     "start_time": "2025-09-01T06:20:57.611808Z"
    }
   },
   "cell_type": "code",
   "source": [
    "from src.model import model, train, test\n",
    "from src.utils import get_config"
   ],
   "id": "e65d6d2b24c3ac66",
   "outputs": [
    {
     "name": "stdout",
     "output_type": "stream",
     "text": [
      "Reading file: clean_train_data.csv\n",
      "Successfully read file!\n",
      "Reading file: clean_val_data.csv\n",
      "Successfully read file!\n"
     ]
    }
   ],
   "execution_count": 3
  },
  {
   "metadata": {
    "ExecuteTime": {
     "end_time": "2025-09-01T06:21:03.206906Z",
     "start_time": "2025-09-01T06:21:03.199795Z"
    }
   },
   "cell_type": "code",
   "source": [
    "config = get_config.read_yaml_from_main()\n",
    "print(\"Configuration loaded successfully!\")"
   ],
   "id": "f8661607222d67d7",
   "outputs": [
    {
     "name": "stdout",
     "output_type": "stream",
     "text": [
      "Configuration loaded successfully!\n"
     ]
    }
   ],
   "execution_count": 4
  },
  {
   "metadata": {
    "ExecuteTime": {
     "end_time": "2025-09-01T06:21:03.213513Z",
     "start_time": "2025-09-01T06:21:03.211019Z"
    }
   },
   "cell_type": "code",
   "source": [
    "def run_model(model_name, params=None):\n",
    "    model_dir = Path(config['paths']['model_data_directory'])\n",
    "    model_path = model_dir / f\"{model_name}_model.joblib\"\n",
    "    train.train_model(model_name, model_path, params=params)\n",
    "    test.test_model(model_name)"
   ],
   "id": "b04221cbbbf8e1ef",
   "outputs": [],
   "execution_count": 5
  },
  {
   "metadata": {
    "ExecuteTime": {
     "end_time": "2025-09-01T06:21:06.960751Z",
     "start_time": "2025-09-01T06:21:03.221663Z"
    }
   },
   "cell_type": "code",
   "source": [
    "model_name = 'lightgbm'\n",
    "# params = {\n",
    "#     'n_estimators': 508,\n",
    "#     'learning_rate': 0.010301380745564075,\n",
    "#     'num_leaves': 22,\n",
    "#     'max_depth': 5,\n",
    "#     'lambda_l1': 1.0321664963934156e-08,\n",
    "#     'lambda_l2': 1.0132852112278953e-08\n",
    "# }\n",
    "run_model(model_name)\n",
    "# params = train.tune_model_with_optuna(model_name, n_trials=50)\n",
    "# run_model(model_name, params=params)"
   ],
   "id": "8cfd708239eff64e",
   "outputs": [
    {
     "name": "stdout",
     "output_type": "stream",
     "text": [
      "--- Preparing to Train Model: lightgbm ---\n",
      "--- Fitting LightGBMModel ---\n",
      "[LightGBM] [Warning] Found whitespace in feature_names, replace with underlines\n",
      "[LightGBM] [Info] Number of positive: 17377, number of negative: 197880\n",
      "[LightGBM] [Info] Auto-choosing col-wise multi-threading, the overhead of testing was 0.035202 seconds.\n",
      "You can set `force_col_wise=true` to remove the overhead.\n",
      "[LightGBM] [Info] Total Bins 14406\n",
      "[LightGBM] [Info] Number of data points in the train set: 215257, number of used features: 88\n",
      "[LightGBM] [Info] [binary:BoostFromScore]: pavg=0.500000 -> initscore=-0.000000\n",
      "[LightGBM] [Info] Start training from score -0.000000\n",
      "Validation accuracy: 0.9156\n",
      "Validation ROC AUC: 0.6157\n",
      "Validation PR AUC (AUC-PR): 0.1298\n",
      "Model saved to ..\\models\\lightgbm_model.joblib\n",
      "Reading file: lightgbm_model.joblib\n",
      "Successfully read file!\n",
      "Reading file: clean_test_data.csv\n",
      "Successfully read file!\n",
      "\n",
      "--- Test Set Performance ---\n",
      "Test accuracy: 0.9156\n",
      "Test ROC AUC: 0.6143\n",
      "Test PR AUC: 0.1273\n"
     ]
    }
   ],
   "execution_count": 6
  },
  {
   "metadata": {},
   "cell_type": "code",
   "source": [
    "# model_name = 'xgboost'\n",
    "# run_model(model_name)\n",
    "# params = train.tune_model_with_optuna(model_name, n_trials=1)\n",
    "# run_model(model_name, params=params)"
   ],
   "id": "5deb95454ff25d57",
   "outputs": [],
   "execution_count": null
  },
  {
   "metadata": {},
   "cell_type": "code",
   "source": [
    "model_name = 'catboost'\n",
    "run_model(model_name)\n",
    "params = train.tune_model_with_optuna(model_name, n_trials=50)\n",
    "run_model(model_name, params=params)"
   ],
   "id": "3e377e92357517e8",
   "outputs": [],
   "execution_count": null
  },
  {
   "metadata": {},
   "cell_type": "code",
   "source": [
    "# model_name = 'logistic_regression'\n",
    "# run_model(model_name)\n",
    "# params = train.tune_model_with_optuna(model_name, n_trials=1)\n",
    "# run_model(model_name, params=params)"
   ],
   "id": "94811a29876db1ad",
   "outputs": [],
   "execution_count": null
  },
  {
   "metadata": {},
   "cell_type": "code",
   "source": [
    "model_name = 'ensemble'\n",
    "run_model(model_name)\n",
    "params = train.tune_model_with_optuna(model_name, n_trials=1)\n",
    "run_model(model_name, params=params)"
   ],
   "id": "a46444a23db73b63",
   "outputs": [],
   "execution_count": null
  },
  {
   "metadata": {},
   "cell_type": "code",
   "source": [
    "# model_name = 'tabnet'\n",
    "# run_model(model_name)\n",
    "# params = train.tune_model_with_optuna(model_name, n_trials=1)\n",
    "# run_model(model_name, params=params)"
   ],
   "id": "a682fd1e533afe32",
   "outputs": [],
   "execution_count": null
  },
  {
   "metadata": {},
   "cell_type": "code",
   "source": [
    "model = 'ziber'\n",
    "run_model(model)\n",
    "# params = train.tune_model_with_optuna(model_name, n_trials=1)\n",
    "# run_model(model_name, params=params)"
   ],
   "id": "ea3e50ebe2b3e3eb",
   "outputs": [],
   "execution_count": null
  },
  {
   "metadata": {},
   "cell_type": "code",
   "source": [
    "model = 'lightgbm-ziber'\n",
    "run_model(model)"
   ],
   "id": "df8cb30c59b76471",
   "outputs": [],
   "execution_count": null
  },
  {
   "metadata": {},
   "cell_type": "code",
   "source": "",
   "id": "e49507e041ac6a13",
   "outputs": [],
   "execution_count": null
  }
 ],
 "metadata": {
  "kernelspec": {
   "display_name": "Python 3",
   "language": "python",
   "name": "python3"
  },
  "language_info": {
   "codemirror_mode": {
    "name": "ipython",
    "version": 2
   },
   "file_extension": ".py",
   "mimetype": "text/x-python",
   "name": "python",
   "nbconvert_exporter": "python",
   "pygments_lexer": "ipython2",
   "version": "2.7.6"
  }
 },
 "nbformat": 4,
 "nbformat_minor": 5
}
