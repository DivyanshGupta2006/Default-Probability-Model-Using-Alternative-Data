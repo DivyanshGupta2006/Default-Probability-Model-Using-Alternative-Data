{
 "cells": [
  {
   "cell_type": "code",
   "id": "initial_id",
   "metadata": {
    "collapsed": true,
    "ExecuteTime": {
     "end_time": "2025-08-30T17:11:01.529966Z",
     "start_time": "2025-08-30T17:11:00.585447Z"
    }
   },
   "source": [
    "import sys\n",
    "import os\n",
    "import pandas as pd\n",
    "import yaml\n",
    "from pathlib import Path\n",
    "from sklearn.metrics import roc_auc_score, average_precision_score\n",
    "import warnings\n",
    "\n",
    "warnings.filterwarnings('ignore')"
   ],
   "outputs": [],
   "execution_count": 1
  },
  {
   "metadata": {
    "ExecuteTime": {
     "end_time": "2025-08-30T17:11:01.535852Z",
     "start_time": "2025-08-30T17:11:01.533543Z"
    }
   },
   "cell_type": "code",
   "source": [
    "project_root = os.path.abspath(os.path.join(os.getcwd(), '..'))\n",
    "if project_root not in sys.path:\n",
    "    sys.path.append(project_root)"
   ],
   "id": "1ff8e6124afacac6",
   "outputs": [],
   "execution_count": 2
  },
  {
   "metadata": {
    "ExecuteTime": {
     "end_time": "2025-08-30T17:11:02.010202Z",
     "start_time": "2025-08-30T17:11:01.539037Z"
    }
   },
   "cell_type": "code",
   "source": "from src.model import model, train, test",
   "id": "e65d6d2b24c3ac66",
   "outputs": [],
   "execution_count": 3
  },
  {
   "metadata": {
    "ExecuteTime": {
     "end_time": "2025-08-30T17:11:02.021055Z",
     "start_time": "2025-08-30T17:11:02.014551Z"
    }
   },
   "cell_type": "code",
   "source": [
    "config_path = Path('../config.yaml')\n",
    "with open(config_path, 'r') as file:\n",
    "    config = yaml.safe_load(file)\n",
    "\n",
    "print(\"Configuration loaded successfully!\")"
   ],
   "id": "f8661607222d67d7",
   "outputs": [
    {
     "name": "stdout",
     "output_type": "stream",
     "text": [
      "Configuration loaded successfully!\n"
     ]
    }
   ],
   "execution_count": 4
  },
  {
   "metadata": {
    "ExecuteTime": {
     "end_time": "2025-08-30T17:11:07.431311Z",
     "start_time": "2025-08-30T17:11:02.027661Z"
    }
   },
   "cell_type": "code",
   "source": [
    "model_name = 'lightgbm'\n",
    "model_dir = Path(config['paths']['model_data_directory'])\n",
    "model_dir.mkdir(exist_ok=True)\n",
    "model_path = model_dir / f\"{model_name}_model.joblib\"\n",
    "train.train_model(model_name, model_path)"
   ],
   "id": "8cfd708239eff64e",
   "outputs": [
    {
     "name": "stdout",
     "output_type": "stream",
     "text": [
      "--- Preparing to Train Model: lightgbm ---\n",
      "--- Fitting LightGBMModel ---\n",
      "[LightGBM] [Warning] Found whitespace in feature_names, replace with underlines\n",
      "[LightGBM] [Info] Number of positive: 17377, number of negative: 197880\n",
      "[LightGBM] [Info] Auto-choosing col-wise multi-threading, the overhead of testing was 0.045116 seconds.\n",
      "You can set `force_col_wise=true` to remove the overhead.\n",
      "[LightGBM] [Info] Total Bins 15686\n",
      "[LightGBM] [Info] Number of data points in the train set: 215257, number of used features: 96\n",
      "[LightGBM] [Info] [binary:BoostFromScore]: pavg=0.080727 -> initscore=-2.432513\n",
      "[LightGBM] [Info] Start training from score -2.432513\n",
      "Validation ROC AUC: 0.6146\n",
      "Validation PR AUC (AUC-PR): 0.1275\n",
      "Model saved to ..\\models\\lightgbm_model.joblib\n"
     ]
    }
   ],
   "execution_count": 5
  },
  {
   "metadata": {
    "ExecuteTime": {
     "end_time": "2025-08-30T17:11:08.002901Z",
     "start_time": "2025-08-30T17:11:07.437128Z"
    }
   },
   "cell_type": "code",
   "source": "test.test_model(model_name)",
   "id": "5deb95454ff25d57",
   "outputs": [
    {
     "name": "stdout",
     "output_type": "stream",
     "text": [
      "--- Testing Model from: ../models/lightgbm_model.joblib ---\n",
      "\n",
      "--- Test Set Performance ---\n",
      "Test ROC AUC: 0.6129\n",
      "Test PR AUC: 0.1260\n"
     ]
    }
   ],
   "execution_count": 6
  }
 ],
 "metadata": {
  "kernelspec": {
   "display_name": "Python 3",
   "language": "python",
   "name": "python3"
  },
  "language_info": {
   "codemirror_mode": {
    "name": "ipython",
    "version": 2
   },
   "file_extension": ".py",
   "mimetype": "text/x-python",
   "name": "python",
   "nbconvert_exporter": "python",
   "pygments_lexer": "ipython2",
   "version": "2.7.6"
  }
 },
 "nbformat": 4,
 "nbformat_minor": 5
}
