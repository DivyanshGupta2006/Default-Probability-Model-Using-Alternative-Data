{
 "cells": [
  {
   "cell_type": "code",
   "id": "initial_id",
   "metadata": {
    "collapsed": true,
    "ExecuteTime": {
     "end_time": "2025-09-01T08:31:59.420171Z",
     "start_time": "2025-09-01T08:31:59.416322Z"
    }
   },
   "source": [
    "import sys\n",
    "import os\n",
    "from pathlib import Path\n",
    "import warnings\n",
    "\n",
    "warnings.filterwarnings('ignore')"
   ],
   "outputs": [],
   "execution_count": 1
  },
  {
   "metadata": {
    "ExecuteTime": {
     "end_time": "2025-09-01T08:32:00.299301Z",
     "start_time": "2025-09-01T08:32:00.296798Z"
    }
   },
   "cell_type": "code",
   "source": [
    "project_root = os.path.abspath(os.path.join(os.getcwd(), '..'))\n",
    "if project_root not in sys.path:\n",
    "    sys.path.append(project_root)"
   ],
   "id": "1ff8e6124afacac6",
   "outputs": [],
   "execution_count": 2
  },
  {
   "metadata": {
    "ExecuteTime": {
     "end_time": "2025-09-01T08:32:07.524783Z",
     "start_time": "2025-09-01T08:32:01.165019Z"
    }
   },
   "cell_type": "code",
   "source": [
    "from src.model import model, train, test\n",
    "from src.utils import get_config"
   ],
   "id": "e65d6d2b24c3ac66",
   "outputs": [
    {
     "name": "stdout",
     "output_type": "stream",
     "text": [
      "Reading file: clean_train_data.csv\n",
      "Successfully read file!\n",
      "Reading file: clean_val_data.csv\n",
      "Successfully read file!\n"
     ]
    }
   ],
   "execution_count": 3
  },
  {
   "metadata": {
    "ExecuteTime": {
     "end_time": "2025-09-01T08:32:07.543499Z",
     "start_time": "2025-09-01T08:32:07.535913Z"
    }
   },
   "cell_type": "code",
   "source": [
    "config = get_config.read_yaml_from_main()\n",
    "print(\"Configuration loaded successfully!\")"
   ],
   "id": "f8661607222d67d7",
   "outputs": [
    {
     "name": "stdout",
     "output_type": "stream",
     "text": [
      "Configuration loaded successfully!\n"
     ]
    }
   ],
   "execution_count": 4
  },
  {
   "metadata": {
    "ExecuteTime": {
     "end_time": "2025-09-01T08:32:07.553191Z",
     "start_time": "2025-09-01T08:32:07.550708Z"
    }
   },
   "cell_type": "code",
   "source": [
    "def run_model(model_name, params=None):\n",
    "    model_dir = Path(config['paths']['model_data_directory'])\n",
    "    model_path = model_dir / f\"{model_name}_model.joblib\"\n",
    "    train.train_model(model_name, model_path, params=params)\n",
    "    test.test_model(model_name)"
   ],
   "id": "b04221cbbbf8e1ef",
   "outputs": [],
   "execution_count": 5
  },
  {
   "metadata": {
    "ExecuteTime": {
     "end_time": "2025-09-01T07:27:48.757666Z",
     "start_time": "2025-09-01T06:48:50.925228Z"
    }
   },
   "cell_type": "code",
   "source": [
    "model_name = 'lightgbm'\n",
    "run_model(model_name)\n",
    "params = train.tune_model_with_optuna(model_name, n_trials=250)\n",
    "run_model(model_name, params=params)"
   ],
   "id": "8cfd708239eff64e",
   "outputs": [
    {
     "name": "stdout",
     "output_type": "stream",
     "text": [
      "--- Preparing to Train Model: lightgbm ---\n",
      "--- Fitting LightGBMModel ---\n",
      "[LightGBM] [Warning] Found whitespace in feature_names, replace with underlines\n",
      "[LightGBM] [Info] Number of positive: 17377, number of negative: 197880\n",
      "[LightGBM] [Info] Auto-choosing row-wise multi-threading, the overhead of testing was 0.016029 seconds.\n",
      "You can set `force_row_wise=true` to remove the overhead.\n",
      "And if memory is not enough, you can set `force_col_wise=true`.\n",
      "[LightGBM] [Info] Total Bins 14406\n",
      "[LightGBM] [Info] Number of data points in the train set: 215257, number of used features: 88\n",
      "[LightGBM] [Info] [binary:BoostFromScore]: pavg=0.500000 -> initscore=-0.000000\n",
      "[LightGBM] [Info] Start training from score -0.000000\n",
      "Validation accuracy: 0.9156\n",
      "Validation ROC AUC: 0.6157\n",
      "Validation PR AUC (AUC-PR): 0.1298\n",
      "Model saved to ..\\models\\lightgbm_model.joblib\n",
      "Reading file: lightgbm_model.joblib\n",
      "Successfully read file!\n",
      "Reading file: clean_test_data.csv\n"
     ]
    },
    {
     "name": "stderr",
     "output_type": "stream",
     "text": [
      "[I 2025-09-01 12:18:55,701] A new study created in memory with name: no-name-13d3abfb-1462-4ad5-8fc0-a54063fd8bae\n"
     ]
    },
    {
     "name": "stdout",
     "output_type": "stream",
     "text": [
      "Successfully read file!\n",
      "\n",
      "--- Test Set Performance ---\n",
      "Test accuracy: 0.9156\n",
      "Test ROC AUC: 0.6143\n",
      "Test PR AUC: 0.1273\n",
      "--- Starting Hyperparameter Tuning for lightgbm ---\n"
     ]
    },
    {
     "name": "stderr",
     "output_type": "stream",
     "text": [
      "[I 2025-09-01 12:19:02,857] Trial 0 finished with value: 0.12104046467257669 and parameters: {'n_estimators': 690, 'learning_rate': 0.06826479968008267, 'num_leaves': 52, 'max_depth': 6, 'lambda_l1': 0.0007725281567892143, 'lambda_l2': 2.469155474113354e-05}. Best is trial 0 with value: 0.12104046467257669.\n",
      "[I 2025-09-01 12:19:10,428] Trial 1 finished with value: 0.12331174063900445 and parameters: {'n_estimators': 595, 'learning_rate': 0.09628590698979872, 'num_leaves': 21, 'max_depth': 9, 'lambda_l1': 0.0008486088928431798, 'lambda_l2': 0.0019117128888578932}. Best is trial 1 with value: 0.12331174063900445.\n",
      "[I 2025-09-01 12:20:16,938] Trial 2 finished with value: 0.1002667097861284 and parameters: {'n_estimators': 1935, 'learning_rate': 0.08717758250370142, 'num_leaves': 166, 'max_depth': 8, 'lambda_l1': 5.269240130438481e-07, 'lambda_l2': 7.3297897484069995e-06}. Best is trial 1 with value: 0.12331174063900445.\n",
      "[I 2025-09-01 12:20:36,556] Trial 3 finished with value: 0.11035714837848401 and parameters: {'n_estimators': 810, 'learning_rate': 0.06763239864883838, 'num_leaves': 95, 'max_depth': 9, 'lambda_l1': 0.0038373889892273773, 'lambda_l2': 1.7332557065386776e-06}. Best is trial 1 with value: 0.12331174063900445.\n",
      "[I 2025-09-01 12:22:46,076] Trial 4 finished with value: 0.10377561698833604 and parameters: {'n_estimators': 1133, 'learning_rate': 0.07307310453830278, 'num_leaves': 158, 'max_depth': 10, 'lambda_l1': 0.15166960791858794, 'lambda_l2': 0.1775084786837229}. Best is trial 1 with value: 0.12331174063900445.\n",
      "[I 2025-09-01 12:23:04,284] Trial 5 finished with value: 0.12664604768663795 and parameters: {'n_estimators': 500, 'learning_rate': 0.06556604243894891, 'num_leaves': 55, 'max_depth': 5, 'lambda_l1': 0.04798407181681221, 'lambda_l2': 3.778513695340975e-05}. Best is trial 5 with value: 0.12664604768663795.\n",
      "[I 2025-09-01 12:23:26,808] Trial 6 finished with value: 0.09922254283452947 and parameters: {'n_estimators': 971, 'learning_rate': 0.09583280223340919, 'num_leaves': 282, 'max_depth': 9, 'lambda_l1': 0.0008575728163597868, 'lambda_l2': 0.0005771288909672995}. Best is trial 5 with value: 0.12664604768663795.\n",
      "[I 2025-09-01 12:23:34,603] Trial 7 finished with value: 0.1251918371857671 and parameters: {'n_estimators': 588, 'learning_rate': 0.043334701070831094, 'num_leaves': 226, 'max_depth': 6, 'lambda_l1': 0.018731277688124374, 'lambda_l2': 0.4116537279774418}. Best is trial 5 with value: 0.12664604768663795.\n",
      "[I 2025-09-01 12:24:33,156] Trial 8 finished with value: 0.10112818370182444 and parameters: {'n_estimators': 1927, 'learning_rate': 0.0927452408662116, 'num_leaves': 205, 'max_depth': 11, 'lambda_l1': 0.03864444026125384, 'lambda_l2': 0.5813053094748184}. Best is trial 5 with value: 0.12664604768663795.\n",
      "[I 2025-09-01 12:24:38,493] Trial 9 finished with value: 0.1280512060591889 and parameters: {'n_estimators': 666, 'learning_rate': 0.04561221864174163, 'num_leaves': 39, 'max_depth': 5, 'lambda_l1': 0.020065852187184433, 'lambda_l2': 0.4602502889480313}. Best is trial 9 with value: 0.1280512060591889.\n",
      "[I 2025-09-01 12:24:59,686] Trial 10 finished with value: 0.12471072466457507 and parameters: {'n_estimators': 1546, 'learning_rate': 0.01219748133135861, 'num_leaves': 105, 'max_depth': 7, 'lambda_l1': 4.798846913119216e-06, 'lambda_l2': 3.1069894651637976e-08}. Best is trial 9 with value: 0.1280512060591889.\n",
      "[I 2025-09-01 12:25:13,289] Trial 11 finished with value: 0.1241651729715432 and parameters: {'n_estimators': 1343, 'learning_rate': 0.043114114075298214, 'num_leaves': 71, 'max_depth': 5, 'lambda_l1': 0.8862944587976233, 'lambda_l2': 0.012980189108645375}. Best is trial 9 with value: 0.1280512060591889.\n",
      "[I 2025-09-01 12:25:18,632] Trial 12 finished with value: 0.1295392145885898 and parameters: {'n_estimators': 513, 'learning_rate': 0.04754156857544531, 'num_leaves': 25, 'max_depth': 5, 'lambda_l1': 8.01593628549543, 'lambda_l2': 3.3793314409860247}. Best is trial 12 with value: 0.1295392145885898.\n",
      "[I 2025-09-01 12:25:27,737] Trial 13 finished with value: 0.12884695095005028 and parameters: {'n_estimators': 917, 'learning_rate': 0.027063147744327505, 'num_leaves': 28, 'max_depth': 7, 'lambda_l1': 9.149252205779154, 'lambda_l2': 1.6613552429223517}. Best is trial 12 with value: 0.1295392145885898.\n",
      "[I 2025-09-01 12:25:42,027] Trial 14 finished with value: 0.12509448901405984 and parameters: {'n_estimators': 938, 'learning_rate': 0.02652598066722813, 'num_leaves': 128, 'max_depth': 7, 'lambda_l1': 4.899154066407834, 'lambda_l2': 8.659722625853675}. Best is trial 12 with value: 0.1295392145885898.\n",
      "[I 2025-09-01 12:26:00,282] Trial 15 finished with value: 0.12167033007083197 and parameters: {'n_estimators': 1233, 'learning_rate': 0.027608412143847776, 'num_leaves': 77, 'max_depth': 7, 'lambda_l1': 7.146806939826621, 'lambda_l2': 0.04859701025051372}. Best is trial 12 with value: 0.1295392145885898.\n",
      "[I 2025-09-01 12:26:07,107] Trial 16 finished with value: 0.12885150939584294 and parameters: {'n_estimators': 862, 'learning_rate': 0.027284830146373396, 'num_leaves': 21, 'max_depth': 12, 'lambda_l1': 9.187359802877747e-06, 'lambda_l2': 6.2536184576248255}. Best is trial 12 with value: 0.1295392145885898.\n",
      "[I 2025-09-01 12:26:37,211] Trial 17 finished with value: 0.10945053008009858 and parameters: {'n_estimators': 1510, 'learning_rate': 0.054080494387170816, 'num_leaves': 133, 'max_depth': 12, 'lambda_l1': 3.3847523797423854e-05, 'lambda_l2': 7.653672487741425}. Best is trial 12 with value: 0.1295392145885898.\n",
      "[I 2025-09-01 12:27:08,512] Trial 18 finished with value: 0.11944144017448385 and parameters: {'n_estimators': 792, 'learning_rate': 0.010386672246923141, 'num_leaves': 289, 'max_depth': 12, 'lambda_l1': 2.8921501894951112e-08, 'lambda_l2': 0.008773528275087669}. Best is trial 12 with value: 0.1295392145885898.\n",
      "[I 2025-09-01 12:27:25,539] Trial 19 finished with value: 0.1139292983517439 and parameters: {'n_estimators': 1030, 'learning_rate': 0.035918721631287405, 'num_leaves': 96, 'max_depth': 11, 'lambda_l1': 4.2456491429533624e-05, 'lambda_l2': 5.825605539203637e-08}. Best is trial 12 with value: 0.1295392145885898.\n",
      "[I 2025-09-01 12:27:33,848] Trial 20 finished with value: 0.12534933793151604 and parameters: {'n_estimators': 831, 'learning_rate': 0.05441346811491369, 'num_leaves': 20, 'max_depth': 10, 'lambda_l1': 1.376098535091045e-07, 'lambda_l2': 0.06148906379333702}. Best is trial 12 with value: 0.1295392145885898.\n",
      "[I 2025-09-01 12:27:44,750] Trial 21 finished with value: 0.1268091923175349 and parameters: {'n_estimators': 1106, 'learning_rate': 0.022789676473448414, 'num_leaves': 38, 'max_depth': 6, 'lambda_l1': 0.38526339779198265, 'lambda_l2': 2.7420205317260415}. Best is trial 12 with value: 0.1295392145885898.\n",
      "[I 2025-09-01 12:27:57,212] Trial 22 finished with value: 0.12129814030376133 and parameters: {'n_estimators': 864, 'learning_rate': 0.03317538209611028, 'num_leaves': 67, 'max_depth': 8, 'lambda_l1': 1.119165272704161, 'lambda_l2': 0.8632797335753173}. Best is trial 12 with value: 0.1295392145885898.\n",
      "[I 2025-09-01 12:28:02,628] Trial 23 finished with value: 0.1316600876283136 and parameters: {'n_estimators': 514, 'learning_rate': 0.017790931512211387, 'num_leaves': 24, 'max_depth': 6, 'lambda_l1': 5.763546551509828e-06, 'lambda_l2': 2.313454424348639}. Best is trial 23 with value: 0.1316600876283136.\n",
      "[I 2025-09-01 12:28:08,010] Trial 24 finished with value: 0.13163408745957927 and parameters: {'n_estimators': 537, 'learning_rate': 0.017154544312402983, 'num_leaves': 48, 'max_depth': 6, 'lambda_l1': 5.16396122299281e-06, 'lambda_l2': 9.494746765271353}. Best is trial 23 with value: 0.1316600876283136.\n",
      "[I 2025-09-01 12:28:15,998] Trial 25 finished with value: 0.13066193937723972 and parameters: {'n_estimators': 503, 'learning_rate': 0.016435767107039322, 'num_leaves': 49, 'max_depth': 6, 'lambda_l1': 1.3198029901746384e-06, 'lambda_l2': 0.09539101091175732}. Best is trial 23 with value: 0.1316600876283136.\n",
      "[I 2025-09-01 12:28:24,337] Trial 26 finished with value: 0.12911761516295583 and parameters: {'n_estimators': 709, 'learning_rate': 0.017829760434737305, 'num_leaves': 86, 'max_depth': 6, 'lambda_l1': 1.0187314382150852e-06, 'lambda_l2': 0.10442619418406161}. Best is trial 23 with value: 0.1316600876283136.\n",
      "[I 2025-09-01 12:28:30,250] Trial 27 finished with value: 0.12964267467781979 and parameters: {'n_estimators': 608, 'learning_rate': 0.018089726810507013, 'num_leaves': 116, 'max_depth': 6, 'lambda_l1': 4.833213683408291e-05, 'lambda_l2': 0.0152465438164444}. Best is trial 23 with value: 0.1316600876283136.\n",
      "[I 2025-09-01 12:28:39,106] Trial 28 finished with value: 0.12238619026019461 and parameters: {'n_estimators': 740, 'learning_rate': 0.036202504571906935, 'num_leaves': 52, 'max_depth': 8, 'lambda_l1': 2.1559626390508638e-06, 'lambda_l2': 0.0010639516987030972}. Best is trial 23 with value: 0.1316600876283136.\n",
      "[I 2025-09-01 12:28:43,596] Trial 29 finished with value: 0.1297909553606086 and parameters: {'n_estimators': 512, 'learning_rate': 0.01790654451060448, 'num_leaves': 55, 'max_depth': 6, 'lambda_l1': 1.0924497736907337e-08, 'lambda_l2': 5.236746713820219e-05}. Best is trial 23 with value: 0.1316600876283136.\n",
      "[I 2025-09-01 12:28:50,779] Trial 30 finished with value: 0.128569205213117 and parameters: {'n_estimators': 635, 'learning_rate': 0.010279936933793626, 'num_leaves': 145, 'max_depth': 7, 'lambda_l1': 2.881368057683134e-07, 'lambda_l2': 0.0032927952914426494}. Best is trial 23 with value: 0.1316600876283136.\n",
      "[I 2025-09-01 12:28:55,565] Trial 31 finished with value: 0.12969137924101132 and parameters: {'n_estimators': 516, 'learning_rate': 0.018267713200293117, 'num_leaves': 55, 'max_depth': 6, 'lambda_l1': 4.270181287746442e-08, 'lambda_l2': 3.370369462061863e-05}. Best is trial 23 with value: 0.1316600876283136.\n",
      "[I 2025-09-01 12:29:01,650] Trial 32 finished with value: 0.13033611386158545 and parameters: {'n_estimators': 708, 'learning_rate': 0.01672365586678496, 'num_leaves': 47, 'max_depth': 6, 'lambda_l1': 1.0180349617015416e-08, 'lambda_l2': 0.00022617536014712}. Best is trial 23 with value: 0.1316600876283136.\n",
      "[I 2025-09-01 12:29:06,728] Trial 33 finished with value: 0.12917851275313746 and parameters: {'n_estimators': 703, 'learning_rate': 0.03204525441159907, 'num_leaves': 67, 'max_depth': 5, 'lambda_l1': 1.2185745538922606e-05, 'lambda_l2': 0.0002574133298579536}. Best is trial 23 with value: 0.1316600876283136.\n",
      "[I 2025-09-01 12:29:11,879] Trial 34 finished with value: 0.12904764442571262 and parameters: {'n_estimators': 610, 'learning_rate': 0.023452944412541553, 'num_leaves': 41, 'max_depth': 6, 'lambda_l1': 0.00021927651428297503, 'lambda_l2': 0.00018509953530242382}. Best is trial 23 with value: 0.1316600876283136.\n",
      "[I 2025-09-01 12:29:20,456] Trial 35 finished with value: 0.12603197442890374 and parameters: {'n_estimators': 770, 'learning_rate': 0.01463274092222096, 'num_leaves': 187, 'max_depth': 7, 'lambda_l1': 1.243359421767236e-07, 'lambda_l2': 2.8656377103830795e-06}. Best is trial 23 with value: 0.1316600876283136.\n",
      "[I 2025-09-01 12:29:27,259] Trial 36 finished with value: 0.12517916361311981 and parameters: {'n_estimators': 585, 'learning_rate': 0.022026031965626268, 'num_leaves': 85, 'max_depth': 8, 'lambda_l1': 7.757820965354834e-07, 'lambda_l2': 1.6475376383804445}. Best is trial 23 with value: 0.1316600876283136.\n",
      "[I 2025-09-01 12:29:32,224] Trial 37 finished with value: 0.12258490002617066 and parameters: {'n_estimators': 698, 'learning_rate': 0.0773165055431359, 'num_leaves': 256, 'max_depth': 5, 'lambda_l1': 2.305307466809127e-06, 'lambda_l2': 2.0965609458947736e-07}. Best is trial 23 with value: 0.1316600876283136.\n",
      "[I 2025-09-01 12:29:44,613] Trial 38 finished with value: 0.11402510733674948 and parameters: {'n_estimators': 1796, 'learning_rate': 0.06169619739997385, 'num_leaves': 40, 'max_depth': 7, 'lambda_l1': 0.00023001398132911, 'lambda_l2': 0.2015272430858184}. Best is trial 23 with value: 0.1316600876283136.\n",
      "[I 2025-09-01 12:29:51,994] Trial 39 finished with value: 0.11938115095535774 and parameters: {'n_estimators': 574, 'learning_rate': 0.03924262556830006, 'num_leaves': 110, 'max_depth': 9, 'lambda_l1': 0.0018671224537372237, 'lambda_l2': 9.574730587532693e-06}. Best is trial 23 with value: 0.1316600876283136.\n",
      "[I 2025-09-01 12:29:55,909] Trial 40 finished with value: 0.13126796375824062 and parameters: {'n_estimators': 501, 'learning_rate': 0.030933276300188342, 'num_leaves': 61, 'max_depth': 5, 'lambda_l1': 3.5148026817951237e-07, 'lambda_l2': 8.802502392299818e-05}. Best is trial 23 with value: 0.1316600876283136.\n",
      "[I 2025-09-01 12:30:00,230] Trial 41 finished with value: 0.1318015698579358 and parameters: {'n_estimators': 501, 'learning_rate': 0.015011156258498621, 'num_leaves': 61, 'max_depth': 5, 'lambda_l1': 2.1287144927245317e-07, 'lambda_l2': 0.00011471239252360273}. Best is trial 41 with value: 0.1318015698579358.\n",
      "[I 2025-09-01 12:30:04,834] Trial 42 finished with value: 0.13169733821592935 and parameters: {'n_estimators': 556, 'learning_rate': 0.014339857284814834, 'num_leaves': 62, 'max_depth': 5, 'lambda_l1': 1.9912899563824138e-07, 'lambda_l2': 1.1409384258610713e-05}. Best is trial 41 with value: 0.1318015698579358.\n",
      "[I 2025-09-01 12:30:10,205] Trial 43 finished with value: 0.13172428124910235 and parameters: {'n_estimators': 639, 'learning_rate': 0.02151894190267119, 'num_leaves': 67, 'max_depth': 5, 'lambda_l1': 3.2115294215866025e-07, 'lambda_l2': 9.100090347220047e-05}. Best is trial 41 with value: 0.1318015698579358.\n",
      "[I 2025-09-01 12:30:15,136] Trial 44 finished with value: 0.13150430187749507 and parameters: {'n_estimators': 636, 'learning_rate': 0.02141960100025231, 'num_leaves': 82, 'max_depth': 5, 'lambda_l1': 8.272092238129929e-08, 'lambda_l2': 7.5244143781742395e-06}. Best is trial 41 with value: 0.1318015698579358.\n",
      "[I 2025-09-01 12:30:20,431] Trial 45 finished with value: 0.13184780854919073 and parameters: {'n_estimators': 586, 'learning_rate': 0.012907886264238454, 'num_leaves': 95, 'max_depth': 5, 'lambda_l1': 2.457348950883169e-07, 'lambda_l2': 7.735283083021823e-07}. Best is trial 45 with value: 0.13184780854919073.\n",
      "[I 2025-09-01 12:30:26,245] Trial 46 finished with value: 0.13172632312216115 and parameters: {'n_estimators': 654, 'learning_rate': 0.01266386965961872, 'num_leaves': 96, 'max_depth': 5, 'lambda_l1': 4.85919032065981e-07, 'lambda_l2': 5.672433112559189e-07}. Best is trial 45 with value: 0.13184780854919073.\n",
      "[I 2025-09-01 12:30:31,434] Trial 47 finished with value: 0.13133461839894806 and parameters: {'n_estimators': 651, 'learning_rate': 0.012764293407342498, 'num_leaves': 98, 'max_depth': 5, 'lambda_l1': 4.612922534836874e-08, 'lambda_l2': 5.63777942913601e-07}. Best is trial 45 with value: 0.13184780854919073.\n",
      "[I 2025-09-01 12:30:37,426] Trial 48 finished with value: 0.13176889230113623 and parameters: {'n_estimators': 775, 'learning_rate': 0.013000627184861186, 'num_leaves': 166, 'max_depth': 5, 'lambda_l1': 3.029819050996164e-07, 'lambda_l2': 1.8053551698409743e-06}. Best is trial 45 with value: 0.13184780854919073.\n",
      "[I 2025-09-01 12:30:44,794] Trial 49 finished with value: 0.13211747681073038 and parameters: {'n_estimators': 974, 'learning_rate': 0.010236740021622753, 'num_leaves': 157, 'max_depth': 5, 'lambda_l1': 5.35979135087957e-07, 'lambda_l2': 1.5710603582909652e-06}. Best is trial 49 with value: 0.13211747681073038.\n",
      "[I 2025-09-01 12:30:51,776] Trial 50 finished with value: 0.12097160093303938 and parameters: {'n_estimators': 988, 'learning_rate': 0.08358151055385507, 'num_leaves': 170, 'max_depth': 5, 'lambda_l1': 5.687929781387735e-07, 'lambda_l2': 1.4334062633964433e-06}. Best is trial 49 with value: 0.13211747681073038.\n",
      "[I 2025-09-01 12:30:58,077] Trial 51 finished with value: 0.13203220445743624 and parameters: {'n_estimators': 789, 'learning_rate': 0.010695561810261644, 'num_leaves': 211, 'max_depth': 5, 'lambda_l1': 3.1410351981022745e-07, 'lambda_l2': 1.7936694106210492e-07}. Best is trial 49 with value: 0.13211747681073038.\n",
      "[I 2025-09-01 12:31:05,000] Trial 52 finished with value: 0.1320076978947637 and parameters: {'n_estimators': 903, 'learning_rate': 0.01180081206380184, 'num_leaves': 238, 'max_depth': 5, 'lambda_l1': 8.61749995892437e-08, 'lambda_l2': 1.354127856080459e-07}. Best is trial 49 with value: 0.13211747681073038.\n",
      "[I 2025-09-01 12:31:13,079] Trial 53 finished with value: 0.1321788135904321 and parameters: {'n_estimators': 1069, 'learning_rate': 0.010147202437168651, 'num_leaves': 228, 'max_depth': 5, 'lambda_l1': 2.2637972710777558e-08, 'lambda_l2': 1.0330513561060722e-07}. Best is trial 53 with value: 0.1321788135904321.\n",
      "[I 2025-09-01 12:31:21,133] Trial 54 finished with value: 0.1320235520764343 and parameters: {'n_estimators': 1069, 'learning_rate': 0.010640084171422017, 'num_leaves': 228, 'max_depth': 5, 'lambda_l1': 2.7821318556455003e-08, 'lambda_l2': 7.817582202834332e-08}. Best is trial 53 with value: 0.1321788135904321.\n",
      "[I 2025-09-01 12:31:29,335] Trial 55 finished with value: 0.13197143487010504 and parameters: {'n_estimators': 1102, 'learning_rate': 0.01117648463947423, 'num_leaves': 230, 'max_depth': 5, 'lambda_l1': 2.3516901358330227e-08, 'lambda_l2': 2.7336168229448247e-08}. Best is trial 53 with value: 0.1321788135904321.\n",
      "[I 2025-09-01 12:31:38,052] Trial 56 finished with value: 0.13143547767158306 and parameters: {'n_estimators': 1172, 'learning_rate': 0.010583163185718652, 'num_leaves': 232, 'max_depth': 5, 'lambda_l1': 3.903393564672377e-08, 'lambda_l2': 1.0718626576453736e-08}. Best is trial 53 with value: 0.1321788135904321.\n",
      "[I 2025-09-01 12:31:47,223] Trial 57 finished with value: 0.12547587068949084 and parameters: {'n_estimators': 1079, 'learning_rate': 0.02511474717668321, 'num_leaves': 221, 'max_depth': 6, 'lambda_l1': 1.9619200952470155e-08, 'lambda_l2': 1.1130306502479468e-07}. Best is trial 53 with value: 0.1321788135904321.\n",
      "[I 2025-09-01 12:32:10,641] Trial 58 finished with value: 0.11150783124800712 and parameters: {'n_estimators': 1233, 'learning_rate': 0.020861597575432364, 'num_leaves': 242, 'max_depth': 10, 'lambda_l1': 1.822801399709559e-08, 'lambda_l2': 2.0582473626512347e-08}. Best is trial 53 with value: 0.1321788135904321.\n",
      "[I 2025-09-01 12:32:18,713] Trial 59 finished with value: 0.13210087934809306 and parameters: {'n_estimators': 1045, 'learning_rate': 0.010038765886947255, 'num_leaves': 268, 'max_depth': 5, 'lambda_l1': 7.253079886532037e-08, 'lambda_l2': 1.8869938808032508e-07}. Best is trial 53 with value: 0.1321788135904321.\n",
      "[I 2025-09-01 12:32:30,173] Trial 60 finished with value: 0.1227260822517862 and parameters: {'n_estimators': 1336, 'learning_rate': 0.029811950525456096, 'num_leaves': 271, 'max_depth': 6, 'lambda_l1': 8.391879488305437e-08, 'lambda_l2': 2.009586942362084e-07}. Best is trial 53 with value: 0.1321788135904321.\n",
      "[I 2025-09-01 12:32:37,891] Trial 61 finished with value: 0.13173907688011866 and parameters: {'n_estimators': 1013, 'learning_rate': 0.010306468592984128, 'num_leaves': 208, 'max_depth': 5, 'lambda_l1': 5.805951858113099e-08, 'lambda_l2': 5.382812618954524e-08}. Best is trial 53 with value: 0.1321788135904321.\n",
      "[I 2025-09-01 12:32:44,690] Trial 62 finished with value: 0.13142778230822402 and parameters: {'n_estimators': 896, 'learning_rate': 0.015243985544270006, 'num_leaves': 255, 'max_depth': 5, 'lambda_l1': 2.0977946760728592e-08, 'lambda_l2': 2.2371381642514178e-07}. Best is trial 53 with value: 0.1321788135904321.\n",
      "[I 2025-09-01 12:32:52,379] Trial 63 finished with value: 0.1295648433553229 and parameters: {'n_estimators': 1074, 'learning_rate': 0.019474302851999695, 'num_leaves': 203, 'max_depth': 5, 'lambda_l1': 1.2143162175939045e-07, 'lambda_l2': 5.172991081773999e-08}. Best is trial 53 with value: 0.1321788135904321.\n",
      "[I 2025-09-01 12:33:01,386] Trial 64 finished with value: 0.1316926592051856 and parameters: {'n_estimators': 1190, 'learning_rate': 0.01032113701617183, 'num_leaves': 272, 'max_depth': 5, 'lambda_l1': 2.338118359597311e-08, 'lambda_l2': 2.1078474484374743e-08}. Best is trial 53 with value: 0.1321788135904321.\n",
      "[I 2025-09-01 12:33:09,532] Trial 65 finished with value: 0.11394433609402226 and parameters: {'n_estimators': 958, 'learning_rate': 0.09892391563300729, 'num_leaves': 298, 'max_depth': 6, 'lambda_l1': 7.02532435617962e-08, 'lambda_l2': 8.93649513415278e-08}. Best is trial 53 with value: 0.1321788135904321.\n",
      "[I 2025-09-01 12:33:17,038] Trial 66 finished with value: 0.12842173075491398 and parameters: {'n_estimators': 1050, 'learning_rate': 0.02518951418710609, 'num_leaves': 246, 'max_depth': 5, 'lambda_l1': 3.624120045335614e-08, 'lambda_l2': 1.2343397884325726e-07}. Best is trial 53 with value: 0.1321788135904321.\n",
      "[I 2025-09-01 12:33:27,088] Trial 67 finished with value: 0.1281038655238528 and parameters: {'n_estimators': 1128, 'learning_rate': 0.014990546695523979, 'num_leaves': 217, 'max_depth': 6, 'lambda_l1': 1.3584990233912593e-06, 'lambda_l2': 1.0675983561240004e-08}. Best is trial 53 with value: 0.1321788135904321.\n",
      "[I 2025-09-01 12:33:36,634] Trial 68 finished with value: 0.12891377977997634 and parameters: {'n_estimators': 1340, 'learning_rate': 0.019779625551688267, 'num_leaves': 190, 'max_depth': 5, 'lambda_l1': 1.024190478003155e-08, 'lambda_l2': 3.656191660316416e-07}. Best is trial 53 with value: 0.1321788135904321.\n",
      "[I 2025-09-01 12:33:44,861] Trial 69 finished with value: 0.13004842017190646 and parameters: {'n_estimators': 847, 'learning_rate': 0.010063736295339623, 'num_leaves': 235, 'max_depth': 6, 'lambda_l1': 1.1032715989494238e-07, 'lambda_l2': 2.7919720057542688e-08}. Best is trial 53 with value: 0.1321788135904321.\n",
      "[I 2025-09-01 12:33:51,562] Trial 70 finished with value: 0.12971083891517715 and parameters: {'n_estimators': 911, 'learning_rate': 0.023876905223189852, 'num_leaves': 178, 'max_depth': 5, 'lambda_l1': 0.008773859321920893, 'lambda_l2': 4.319516991858504e-06}. Best is trial 53 with value: 0.1321788135904321.\n",
      "[I 2025-09-01 12:33:59,994] Trial 71 finished with value: 0.1309675419462568 and parameters: {'n_estimators': 1168, 'learning_rate': 0.01336513791544382, 'num_leaves': 212, 'max_depth': 5, 'lambda_l1': 2.0280649166017433e-07, 'lambda_l2': 9.268666470524883e-07}. Best is trial 53 with value: 0.1321788135904321.\n",
      "[I 2025-09-01 12:34:06,954] Trial 72 finished with value: 0.12477448910196245 and parameters: {'n_estimators': 970, 'learning_rate': 0.05080738441289613, 'num_leaves': 263, 'max_depth': 5, 'lambda_l1': 2.2061680883698637e-06, 'lambda_l2': 4.7539212238009777e-07}. Best is trial 53 with value: 0.1321788135904321.\n",
      "[I 2025-09-01 12:34:14,575] Trial 73 finished with value: 0.13166246354165248 and parameters: {'n_estimators': 1018, 'learning_rate': 0.012653728669691298, 'num_leaves': 197, 'max_depth': 5, 'lambda_l1': 2.8706494586202582e-08, 'lambda_l2': 4.8292591771581456e-08}. Best is trial 53 with value: 0.1321788135904321.\n",
      "[I 2025-09-01 12:34:37,220] Trial 74 finished with value: 0.11588651768434302 and parameters: {'n_estimators': 1101, 'learning_rate': 0.01612652343304962, 'num_leaves': 241, 'max_depth': 11, 'lambda_l1': 7.388777645163682e-08, 'lambda_l2': 9.528919607162042e-07}. Best is trial 53 with value: 0.1321788135904321.\n",
      "[I 2025-09-01 12:34:45,098] Trial 75 finished with value: 0.12841268214705148 and parameters: {'n_estimators': 879, 'learning_rate': 0.019004879001786826, 'num_leaves': 228, 'max_depth': 6, 'lambda_l1': 6.815646765762638e-07, 'lambda_l2': 2.3473822013290767e-07}. Best is trial 53 with value: 0.1321788135904321.\n",
      "[I 2025-09-01 12:34:51,759] Trial 76 finished with value: 0.12324560378798886 and parameters: {'n_estimators': 934, 'learning_rate': 0.06145342398364444, 'num_leaves': 141, 'max_depth': 5, 'lambda_l1': 1.652712407312318e-07, 'lambda_l2': 1.0714314517364873e-07}. Best is trial 53 with value: 0.1321788135904321.\n",
      "[I 2025-09-01 12:35:01,479] Trial 77 finished with value: 0.12928092606940406 and parameters: {'n_estimators': 1061, 'learning_rate': 0.012086454165588963, 'num_leaves': 248, 'max_depth': 6, 'lambda_l1': 5.013759153210465e-08, 'lambda_l2': 7.767591814592913e-08}. Best is trial 53 with value: 0.1321788135904321.\n",
      "[I 2025-09-01 12:35:07,568] Trial 78 finished with value: 0.1313241650579616 and parameters: {'n_estimators': 800, 'learning_rate': 0.01622145531197414, 'num_leaves': 278, 'max_depth': 5, 'lambda_l1': 1.7582859296169435e-08, 'lambda_l2': 3.538754060641435e-07}. Best is trial 53 with value: 0.1321788135904321.\n",
      "[I 2025-09-01 12:35:16,504] Trial 79 finished with value: 0.12618440493626887 and parameters: {'n_estimators': 1300, 'learning_rate': 0.028414437593471866, 'num_leaves': 222, 'max_depth': 5, 'lambda_l1': 2.0994374514861803e-05, 'lambda_l2': 2.8705584369867477e-08}. Best is trial 53 with value: 0.1321788135904321.\n",
      "[I 2025-09-01 12:35:27,529] Trial 80 finished with value: 0.12735994352665134 and parameters: {'n_estimators': 1265, 'learning_rate': 0.013565844922473095, 'num_leaves': 260, 'max_depth': 6, 'lambda_l1': 1.3539375308328644e-08, 'lambda_l2': 1.5093645532263726e-07}. Best is trial 53 with value: 0.1321788135904321.\n",
      "[I 2025-09-01 12:35:34,893] Trial 81 finished with value: 0.13106851011443277 and parameters: {'n_estimators': 1004, 'learning_rate': 0.015424101426492132, 'num_leaves': 234, 'max_depth': 5, 'lambda_l1': 2.175019847898347e-07, 'lambda_l2': 1.768113200151176e-05}. Best is trial 53 with value: 0.1321788135904321.\n",
      "[I 2025-09-01 12:35:45,458] Trial 82 finished with value: 0.13157662903455805 and parameters: {'n_estimators': 1458, 'learning_rate': 0.010046871433791467, 'num_leaves': 154, 'max_depth': 5, 'lambda_l1': 3.7485771448743197e-07, 'lambda_l2': 3.1913307508756065e-06}. Best is trial 53 with value: 0.1321788135904321.\n",
      "[I 2025-09-01 12:35:53,675] Trial 83 finished with value: 0.12988866997809395 and parameters: {'n_estimators': 1136, 'learning_rate': 0.0172835366081225, 'num_leaves': 118, 'max_depth': 5, 'lambda_l1': 1.0746663207055986e-06, 'lambda_l2': 7.461498911277956e-07}. Best is trial 53 with value: 0.1321788135904321.\n",
      "[I 2025-09-01 12:36:00,101] Trial 84 finished with value: 0.13203516272396862 and parameters: {'n_estimators': 815, 'learning_rate': 0.012313502548672828, 'num_leaves': 216, 'max_depth': 5, 'lambda_l1': 3.798524326579692e-08, 'lambda_l2': 1.9833789742750237e-06}. Best is trial 53 with value: 0.1321788135904321.\n",
      "[I 2025-09-01 12:36:06,689] Trial 85 finished with value: 0.1316323380102838 and parameters: {'n_estimators': 839, 'learning_rate': 0.012273890095912152, 'num_leaves': 215, 'max_depth': 5, 'lambda_l1': 9.686976051133952e-05, 'lambda_l2': 1.9847797709018285e-06}. Best is trial 53 with value: 0.1321788135904321.\n",
      "[I 2025-09-01 12:36:13,664] Trial 86 finished with value: 0.12852976816317724 and parameters: {'n_estimators': 758, 'learning_rate': 0.01935369377695851, 'num_leaves': 203, 'max_depth': 6, 'lambda_l1': 3.085932843112174e-08, 'lambda_l2': 1.1510938045174188e-06}. Best is trial 53 with value: 0.1321788135904321.\n",
      "[I 2025-09-01 12:36:20,978] Trial 87 finished with value: 0.13184374936625043 and parameters: {'n_estimators': 952, 'learning_rate': 0.012514461179784301, 'num_leaves': 225, 'max_depth': 5, 'lambda_l1': 1.0067476367959699e-07, 'lambda_l2': 2.8585975367514243e-07}. Best is trial 53 with value: 0.1321788135904321.\n",
      "[I 2025-09-01 12:36:27,352] Trial 88 finished with value: 0.1318743714780588 and parameters: {'n_estimators': 812, 'learning_rate': 0.014891580509957238, 'num_leaves': 252, 'max_depth': 5, 'lambda_l1': 0.09056413302981642, 'lambda_l2': 5.496506990205659e-06}. Best is trial 53 with value: 0.1321788135904321.\n",
      "[I 2025-09-01 12:36:34,242] Trial 89 finished with value: 0.12795022773097542 and parameters: {'n_estimators': 736, 'learning_rate': 0.02268387896808066, 'num_leaves': 253, 'max_depth': 6, 'lambda_l1': 0.9567485026935421, 'lambda_l2': 5.175161730150577e-06}. Best is trial 53 with value: 0.1321788135904321.\n",
      "[I 2025-09-01 12:36:40,424] Trial 90 finished with value: 0.13170658340578545 and parameters: {'n_estimators': 803, 'learning_rate': 0.014600245055996719, 'num_leaves': 193, 'max_depth': 5, 'lambda_l1': 0.058844632145434006, 'lambda_l2': 1.4655441682013991e-08}. Best is trial 53 with value: 0.1321788135904321.\n",
      "[I 2025-09-01 12:36:47,420] Trial 91 finished with value: 0.1320480350048116 and parameters: {'n_estimators': 887, 'learning_rate': 0.01169278323546528, 'num_leaves': 263, 'max_depth': 5, 'lambda_l1': 0.0009669125070055326, 'lambda_l2': 3.5010660334032054e-08}. Best is trial 53 with value: 0.1321788135904321.\n",
      "[I 2025-09-01 12:36:54,042] Trial 92 finished with value: 0.13106615402598787 and parameters: {'n_estimators': 880, 'learning_rate': 0.0173007112750826, 'num_leaves': 270, 'max_depth': 5, 'lambda_l1': 0.002078555455775402, 'lambda_l2': 3.6791298037291635e-08}. Best is trial 53 with value: 0.1321788135904321.\n",
      "[I 2025-09-01 12:37:01,236] Trial 93 finished with value: 0.13207072739226786 and parameters: {'n_estimators': 924, 'learning_rate': 0.0114045550347928, 'num_leaves': 240, 'max_depth': 5, 'lambda_l1': 0.10787725565766358, 'lambda_l2': 1.3792483765152345e-07}. Best is trial 53 with value: 0.1321788135904321.\n",
      "[I 2025-09-01 12:37:08,369] Trial 94 finished with value: 0.13239218318839277 and parameters: {'n_estimators': 929, 'learning_rate': 0.011642321250934683, 'num_leaves': 240, 'max_depth': 5, 'lambda_l1': 0.012788081388569975, 'lambda_l2': 7.578340131302252e-08}. Best is trial 94 with value: 0.13239218318839277.\n",
      "[I 2025-09-01 12:37:15,485] Trial 95 finished with value: 0.131992375668196 and parameters: {'n_estimators': 920, 'learning_rate': 0.011545023235278264, 'num_leaves': 242, 'max_depth': 5, 'lambda_l1': 0.014410326288381197, 'lambda_l2': 7.466685909622214e-08}. Best is trial 94 with value: 0.13239218318839277.\n",
      "[I 2025-09-01 12:37:32,773] Trial 96 finished with value: 0.11637437622361907 and parameters: {'n_estimators': 1047, 'learning_rate': 0.020105488801266225, 'num_leaves': 261, 'max_depth': 9, 'lambda_l1': 0.2817243194261486, 'lambda_l2': 1.256839565389793e-07}. Best is trial 94 with value: 0.13239218318839277.\n",
      "[I 2025-09-01 12:37:40,053] Trial 97 finished with value: 0.13102628886772652 and parameters: {'n_estimators': 985, 'learning_rate': 0.01686877364319077, 'num_leaves': 288, 'max_depth': 5, 'lambda_l1': 0.0008631143511352977, 'lambda_l2': 1.720636281639005e-07}. Best is trial 94 with value: 0.13239218318839277.\n",
      "[I 2025-09-01 12:37:46,901] Trial 98 finished with value: 0.13159824852017096 and parameters: {'n_estimators': 860, 'learning_rate': 0.013765139571646701, 'num_leaves': 267, 'max_depth': 5, 'lambda_l1': 2.5410980553841904, 'lambda_l2': 3.989007970278792e-08}. Best is trial 94 with value: 0.13239218318839277.\n",
      "[I 2025-09-01 12:37:55,749] Trial 99 finished with value: 0.12987235737456065 and parameters: {'n_estimators': 934, 'learning_rate': 0.010079326363040285, 'num_leaves': 238, 'max_depth': 6, 'lambda_l1': 0.006518468430828336, 'lambda_l2': 1.7364186321759615e-08}. Best is trial 94 with value: 0.13239218318839277.\n",
      "[I 2025-09-01 12:38:01,848] Trial 100 finished with value: 0.11973397235403417 and parameters: {'n_estimators': 822, 'learning_rate': 0.08960355469146153, 'num_leaves': 181, 'max_depth': 5, 'lambda_l1': 0.13855317466517825, 'lambda_l2': 7.622883285774942e-08}. Best is trial 94 with value: 0.13239218318839277.\n",
      "[I 2025-09-01 12:38:08,798] Trial 101 finished with value: 0.13181046219123116 and parameters: {'n_estimators': 908, 'learning_rate': 0.011992200539187736, 'num_leaves': 245, 'max_depth': 5, 'lambda_l1': 0.015255092883632287, 'lambda_l2': 6.406763084497798e-08}. Best is trial 94 with value: 0.13239218318839277.\n",
      "[I 2025-09-01 12:38:16,198] Trial 102 finished with value: 0.12082805771249286 and parameters: {'n_estimators': 1028, 'learning_rate': 0.07219067569580484, 'num_leaves': 240, 'max_depth': 5, 'lambda_l1': 0.025112861030500765, 'lambda_l2': 4.4851787201928213e-07}. Best is trial 94 with value: 0.13239218318839277.\n",
      "[I 2025-09-01 12:38:23,126] Trial 103 finished with value: 0.13188916122866753 and parameters: {'n_estimators': 907, 'learning_rate': 0.011546874920296398, 'num_leaves': 220, 'max_depth': 5, 'lambda_l1': 0.00047500528876036205, 'lambda_l2': 2.9225317894172363e-07}. Best is trial 94 with value: 0.13239218318839277.\n",
      "[I 2025-09-01 12:38:30,392] Trial 104 finished with value: 0.13160552013767196 and parameters: {'n_estimators': 964, 'learning_rate': 0.01436934764696831, 'num_leaves': 279, 'max_depth': 5, 'lambda_l1': 0.002064570419783201, 'lambda_l2': 1.6808966724330185e-07}. Best is trial 94 with value: 0.13239218318839277.\n",
      "[I 2025-09-01 12:38:37,024] Trial 105 finished with value: 0.13105734632735058 and parameters: {'n_estimators': 871, 'learning_rate': 0.015907392338403367, 'num_leaves': 250, 'max_depth': 5, 'lambda_l1': 0.01743425567544599, 'lambda_l2': 8.289207080065103e-08}. Best is trial 94 with value: 0.13239218318839277.\n",
      "[I 2025-09-01 12:38:46,110] Trial 106 finished with value: 0.1293677067524384 and parameters: {'n_estimators': 990, 'learning_rate': 0.011617325716838755, 'num_leaves': 226, 'max_depth': 6, 'lambda_l1': 0.043929685898051435, 'lambda_l2': 0.0004643420366149731}. Best is trial 94 with value: 0.13239218318839277.\n",
      "[I 2025-09-01 12:38:51,798] Trial 107 finished with value: 0.13124661029415113 and parameters: {'n_estimators': 736, 'learning_rate': 0.017952792365731697, 'num_leaves': 209, 'max_depth': 5, 'lambda_l1': 0.27323021549808796, 'lambda_l2': 4.4458350174681155e-08}. Best is trial 94 with value: 0.13239218318839277.\n",
      "[I 2025-09-01 12:38:58,713] Trial 108 finished with value: 0.13077691887273343 and parameters: {'n_estimators': 942, 'learning_rate': 0.02070727942235792, 'num_leaves': 238, 'max_depth': 5, 'lambda_l1': 0.005590237402028899, 'lambda_l2': 1.1253901477629763e-07}. Best is trial 94 with value: 0.13239218318839277.\n",
      "[I 2025-09-01 12:39:04,752] Trial 109 finished with value: 0.13159806651963257 and parameters: {'n_estimators': 770, 'learning_rate': 0.013758920069627836, 'num_leaves': 157, 'max_depth': 5, 'lambda_l1': 0.5161035070577371, 'lambda_l2': 1.4759431185864511e-08}. Best is trial 94 with value: 0.13239218318839277.\n",
      "[I 2025-09-01 12:39:12,952] Trial 110 finished with value: 0.13007005213081013 and parameters: {'n_estimators': 837, 'learning_rate': 0.0100267828134262, 'num_leaves': 232, 'max_depth': 6, 'lambda_l1': 0.000934682795714872, 'lambda_l2': 6.042068978776473e-07}. Best is trial 94 with value: 0.13239218318839277.\n",
      "[I 2025-09-01 12:39:21,260] Trial 111 finished with value: 0.13171111586770146 and parameters: {'n_estimators': 1099, 'learning_rate': 0.011961438336043493, 'num_leaves': 228, 'max_depth': 5, 'lambda_l1': 0.003049978423818093, 'lambda_l2': 2.9052949548419468e-08}. Best is trial 94 with value: 0.13239218318839277.\n",
      "[I 2025-09-01 12:39:29,875] Trial 112 finished with value: 0.13140931628442437 and parameters: {'n_estimators': 1148, 'learning_rate': 0.011509078141972565, 'num_leaves': 216, 'max_depth': 5, 'lambda_l1': 5.820850992050564e-08, 'lambda_l2': 6.452025409542003e-08}. Best is trial 94 with value: 0.13239218318839277.\n",
      "[I 2025-09-01 12:39:37,482] Trial 113 finished with value: 0.13140789651431892 and parameters: {'n_estimators': 1020, 'learning_rate': 0.01590991227874028, 'num_leaves': 230, 'max_depth': 5, 'lambda_l1': 1.6413430534157513e-08, 'lambda_l2': 3.0123132844345894e-08}. Best is trial 94 with value: 0.13239218318839277.\n",
      "[I 2025-09-01 12:39:46,020] Trial 114 finished with value: 0.12505989698970843 and parameters: {'n_estimators': 1208, 'learning_rate': 0.04242295631634307, 'num_leaves': 258, 'max_depth': 5, 'lambda_l1': 3.6606830952686666e-08, 'lambda_l2': 2.2042901480857053e-08}. Best is trial 94 with value: 0.13239218318839277.\n",
      "[I 2025-09-01 12:39:52,838] Trial 115 finished with value: 0.13152273831031452 and parameters: {'n_estimators': 920, 'learning_rate': 0.01381826464814017, 'num_leaves': 245, 'max_depth': 5, 'lambda_l1': 0.012246877608976798, 'lambda_l2': 2.2034428164850882e-07}. Best is trial 94 with value: 0.13239218318839277.\n",
      "[I 2025-09-01 12:40:05,850] Trial 116 finished with value: 0.1276582698480225 and parameters: {'n_estimators': 1835, 'learning_rate': 0.017702912860347163, 'num_leaves': 264, 'max_depth': 5, 'lambda_l1': 0.03376222743970882, 'lambda_l2': 3.553055500010614e-07}. Best is trial 94 with value: 0.13239218318839277.\n",
      "[I 2025-09-01 12:40:14,095] Trial 117 finished with value: 0.1316059979616513 and parameters: {'n_estimators': 1085, 'learning_rate': 0.01156412095611297, 'num_leaves': 235, 'max_depth': 5, 'lambda_l1': 2.3060485771122167e-08, 'lambda_l2': 1.4199201276123222e-07}. Best is trial 94 with value: 0.13239218318839277.\n",
      "[I 2025-09-01 12:40:21,909] Trial 118 finished with value: 0.1310967358919347 and parameters: {'n_estimators': 1039, 'learning_rate': 0.01366241472326538, 'num_leaves': 222, 'max_depth': 5, 'lambda_l1': 5.218459773355992e-08, 'lambda_l2': 4.790629700546362e-08}. Best is trial 94 with value: 0.13239218318839277.\n",
      "[I 2025-09-01 12:40:27,239] Trial 119 finished with value: 0.13116137735118358 and parameters: {'n_estimators': 680, 'learning_rate': 0.018802874246942776, 'num_leaves': 150, 'max_depth': 5, 'lambda_l1': 1.3407742407309084e-07, 'lambda_l2': 8.704666457762432e-08}. Best is trial 94 with value: 0.13239218318839277.\n",
      "[I 2025-09-01 12:40:37,192] Trial 120 finished with value: 0.12750701125152822 and parameters: {'n_estimators': 1123, 'learning_rate': 0.016208419001753363, 'num_leaves': 201, 'max_depth': 6, 'lambda_l1': 7.20981901169237e-08, 'lambda_l2': 1.146524284618069e-08}. Best is trial 94 with value: 0.13239218318839277.\n",
      "[I 2025-09-01 12:40:44,323] Trial 121 finished with value: 0.1316674029310141 and parameters: {'n_estimators': 906, 'learning_rate': 0.011549267417607298, 'num_leaves': 219, 'max_depth': 5, 'lambda_l1': 0.0006081877745873076, 'lambda_l2': 2.997534211534198e-07}. Best is trial 94 with value: 0.13239218318839277.\n",
      "[I 2025-09-01 12:40:51,204] Trial 122 finished with value: 0.13185653373724499 and parameters: {'n_estimators': 887, 'learning_rate': 0.011411771349869308, 'num_leaves': 213, 'max_depth': 5, 'lambda_l1': 0.00012454823746198878, 'lambda_l2': 2.62754915479876e-07}. Best is trial 94 with value: 0.13239218318839277.\n",
      "[I 2025-09-01 12:40:58,600] Trial 123 finished with value: 0.1309521409525878 and parameters: {'n_estimators': 986, 'learning_rate': 0.01445971873758814, 'num_leaves': 241, 'max_depth': 5, 'lambda_l1': 0.00012047972272756946, 'lambda_l2': 2.126043168993492e-06}. Best is trial 94 with value: 0.13239218318839277.\n",
      "[I 2025-09-01 12:41:05,791] Trial 124 finished with value: 0.13175809973326447 and parameters: {'n_estimators': 947, 'learning_rate': 0.012891144137122949, 'num_leaves': 249, 'max_depth': 5, 'lambda_l1': 0.0011490475054703956, 'lambda_l2': 1.6823597909283148e-07}. Best is trial 94 with value: 0.13239218318839277.\n",
      "[I 2025-09-01 12:41:12,505] Trial 125 finished with value: 0.1319562484682545 and parameters: {'n_estimators': 860, 'learning_rate': 0.010495279433029189, 'num_leaves': 208, 'max_depth': 5, 'lambda_l1': 0.0003382266258462843, 'lambda_l2': 6.35140134604418e-08}. Best is trial 94 with value: 0.13239218318839277.\n",
      "[I 2025-09-01 12:41:28,876] Trial 126 finished with value: 0.12329959006478372 and parameters: {'n_estimators': 842, 'learning_rate': 0.010360189905651147, 'num_leaves': 198, 'max_depth': 10, 'lambda_l1': 0.0004404342073152938, 'lambda_l2': 2.2225315598660484e-08}. Best is trial 94 with value: 0.13239218318839277.\n",
      "[I 2025-09-01 12:41:36,743] Trial 127 finished with value: 0.13075737801550721 and parameters: {'n_estimators': 1070, 'learning_rate': 0.014692223827363736, 'num_leaves': 176, 'max_depth': 5, 'lambda_l1': 0.00024533392385923307, 'lambda_l2': 5.642880597894576e-08}. Best is trial 94 with value: 0.13239218318839277.\n",
      "[I 2025-09-01 12:41:43,180] Trial 128 finished with value: 0.13187819065639203 and parameters: {'n_estimators': 798, 'learning_rate': 0.0102042922317542, 'num_leaves': 209, 'max_depth': 5, 'lambda_l1': 6.546821550531968e-05, 'lambda_l2': 1.13659259839743e-07}. Best is trial 94 with value: 0.13239218318839277.\n",
      "[I 2025-09-01 12:41:49,615] Trial 129 finished with value: 0.1312466175214757 and parameters: {'n_estimators': 861, 'learning_rate': 0.016104689328440065, 'num_leaves': 226, 'max_depth': 5, 'lambda_l1': 1.2162787435433724e-08, 'lambda_l2': 7.532628200826802e-08}. Best is trial 94 with value: 0.13239218318839277.\n",
      "[I 2025-09-01 12:42:02,838] Trial 130 finished with value: 0.12359651003479394 and parameters: {'n_estimators': 960, 'learning_rate': 0.013406431588466449, 'num_leaves': 163, 'max_depth': 8, 'lambda_l1': 0.08771916268917851, 'lambda_l2': 2.9635516051881413e-08}. Best is trial 94 with value: 0.13239218318839277.\n",
      "[I 2025-09-01 12:42:09,833] Trial 131 finished with value: 0.132115802733745 and parameters: {'n_estimators': 902, 'learning_rate': 0.010047010656448594, 'num_leaves': 219, 'max_depth': 5, 'lambda_l1': 0.0003442871520472281, 'lambda_l2': 4.636552161231793e-07}. Best is trial 94 with value: 0.13239218318839277.\n",
      "[I 2025-09-01 12:42:17,614] Trial 132 finished with value: 0.1323174513499955 and parameters: {'n_estimators': 1006, 'learning_rate': 0.010123921766792911, 'num_leaves': 235, 'max_depth': 5, 'lambda_l1': 3.098235691038674e-08, 'lambda_l2': 1.364332428313847e-06}. Best is trial 94 with value: 0.13239218318839277.\n",
      "[I 2025-09-01 12:42:25,250] Trial 133 finished with value: 0.1318799826651358 and parameters: {'n_estimators': 999, 'learning_rate': 0.012526604759536283, 'num_leaves': 235, 'max_depth': 5, 'lambda_l1': 3.362486160939559e-08, 'lambda_l2': 1.1398043747120257e-06}. Best is trial 94 with value: 0.13239218318839277.\n",
      "[I 2025-09-01 12:42:32,848] Trial 134 finished with value: 0.13112223343911714 and parameters: {'n_estimators': 1037, 'learning_rate': 0.015025859803444718, 'num_leaves': 274, 'max_depth': 5, 'lambda_l1': 9.812932966917394e-08, 'lambda_l2': 8.631250186061342e-07}. Best is trial 94 with value: 0.13239218318839277.\n",
      "[I 2025-09-01 12:42:40,162] Trial 135 finished with value: 0.13176084880580707 and parameters: {'n_estimators': 924, 'learning_rate': 0.010033341486657188, 'num_leaves': 286, 'max_depth': 5, 'lambda_l1': 2.5833646592710495e-08, 'lambda_l2': 4.7374596812627324e-07}. Best is trial 94 with value: 0.13239218318839277.\n",
      "[I 2025-09-01 12:42:47,884] Trial 136 finished with value: 0.13164229147373177 and parameters: {'n_estimators': 1010, 'learning_rate': 0.013043814532425138, 'num_leaves': 252, 'max_depth': 5, 'lambda_l1': 5.335554324284333e-08, 'lambda_l2': 2.9540485607135083e-06}. Best is trial 94 with value: 0.13239218318839277.\n",
      "[I 2025-09-01 12:42:55,081] Trial 137 finished with value: 0.1309679409280431 and parameters: {'n_estimators': 976, 'learning_rate': 0.017987832765954656, 'num_leaves': 244, 'max_depth': 5, 'lambda_l1': 0.003395048725128762, 'lambda_l2': 5.950354692339461e-07}. Best is trial 94 with value: 0.13239218318839277.\n",
      "[I 2025-09-01 12:43:02,804] Trial 138 finished with value: 0.13047384945776938 and parameters: {'n_estimators': 1060, 'learning_rate': 0.01672595502265254, 'num_leaves': 231, 'max_depth': 5, 'lambda_l1': 1.673124024908776e-07, 'lambda_l2': 1.446659177673998e-06}. Best is trial 94 with value: 0.13239218318839277.\n",
      "[I 2025-09-01 12:43:11,062] Trial 139 finished with value: 0.12965977535764261 and parameters: {'n_estimators': 879, 'learning_rate': 0.012326967769812982, 'num_leaves': 255, 'max_depth': 6, 'lambda_l1': 1.0147152437075769e-08, 'lambda_l2': 1.8376456569651553e-07}. Best is trial 94 with value: 0.13239218318839277.\n",
      "[I 2025-09-01 12:43:19,184] Trial 140 finished with value: 0.1311789750734107 and parameters: {'n_estimators': 1115, 'learning_rate': 0.01470477711729018, 'num_leaves': 224, 'max_depth': 5, 'lambda_l1': 0.0014138194887722136, 'lambda_l2': 3.90180907720888e-07}. Best is trial 94 with value: 0.13239218318839277.\n",
      "[I 2025-09-01 12:43:25,992] Trial 141 finished with value: 0.13203841934542998 and parameters: {'n_estimators': 835, 'learning_rate': 0.010120596370147662, 'num_leaves': 219, 'max_depth': 5, 'lambda_l1': 0.0003031329011576678, 'lambda_l2': 9.973539640741432e-08}. Best is trial 94 with value: 0.13239218318839277.\n",
      "[I 2025-09-01 12:43:32,670] Trial 142 finished with value: 0.13178804908835495 and parameters: {'n_estimators': 820, 'learning_rate': 0.011520517732610695, 'num_leaves': 237, 'max_depth': 5, 'lambda_l1': 1.6454476014200808e-08, 'lambda_l2': 4.6626476280847984e-08}. Best is trial 94 with value: 0.13239218318839277.\n",
      "[I 2025-09-01 12:43:39,777] Trial 143 finished with value: 0.13181617854603012 and parameters: {'n_estimators': 900, 'learning_rate': 0.013119648277044147, 'num_leaves': 216, 'max_depth': 5, 'lambda_l1': 2.911514733158537e-05, 'lambda_l2': 1.3197544617977808e-07}. Best is trial 94 with value: 0.13239218318839277.\n",
      "[I 2025-09-01 12:43:47,154] Trial 144 finished with value: 0.13222124379441763 and parameters: {'n_estimators': 943, 'learning_rate': 0.010288083905564903, 'num_leaves': 231, 'max_depth': 5, 'lambda_l1': 4.6011208322052725e-07, 'lambda_l2': 0.0016565929768510648}. Best is trial 94 with value: 0.13239218318839277.\n",
      "[I 2025-09-01 12:43:54,205] Trial 145 finished with value: 0.13098009324786955 and parameters: {'n_estimators': 929, 'learning_rate': 0.015115800046289936, 'num_leaves': 242, 'max_depth': 5, 'lambda_l1': 1.7100280922531894e-06, 'lambda_l2': 0.003788481906406078}. Best is trial 94 with value: 0.13239218318839277.\n",
      "[I 2025-09-01 12:44:00,457] Trial 146 finished with value: 0.13175601375368226 and parameters: {'n_estimators': 760, 'learning_rate': 0.010136688948557853, 'num_leaves': 220, 'max_depth': 5, 'lambda_l1': 4.980805623693943e-07, 'lambda_l2': 0.001119396799214599}. Best is trial 94 with value: 0.13239218318839277.\n",
      "[I 2025-09-01 12:44:06,613] Trial 147 finished with value: 0.1319301636486995 and parameters: {'n_estimators': 786, 'learning_rate': 0.013314171910869237, 'num_leaves': 142, 'max_depth': 5, 'lambda_l1': 3.6194341418253324e-07, 'lambda_l2': 2.1622055041699342e-07}. Best is trial 94 with value: 0.13239218318839277.\n",
      "[I 2025-09-01 12:44:13,540] Trial 148 finished with value: 0.12292179932295827 and parameters: {'n_estimators': 960, 'learning_rate': 0.05735021341204134, 'num_leaves': 248, 'max_depth': 5, 'lambda_l1': 9.22439297366666e-06, 'lambda_l2': 0.0014613784549078824}. Best is trial 94 with value: 0.13239218318839277.\n",
      "[I 2025-09-01 12:44:20,562] Trial 149 finished with value: 0.13186344809037276 and parameters: {'n_estimators': 892, 'learning_rate': 0.01176384859881119, 'num_leaves': 228, 'max_depth': 5, 'lambda_l1': 7.995812481776533e-07, 'lambda_l2': 1.000109822186531e-07}. Best is trial 94 with value: 0.13239218318839277.\n",
      "[I 2025-09-01 12:44:26,209] Trial 150 finished with value: 0.13110390822335838 and parameters: {'n_estimators': 718, 'learning_rate': 0.019942555550886105, 'num_leaves': 295, 'max_depth': 5, 'lambda_l1': 3.409827538822913e-06, 'lambda_l2': 0.0007621008958176187}. Best is trial 94 with value: 0.13239218318839277.\n",
      "[I 2025-09-01 12:44:34,044] Trial 151 finished with value: 0.132107948871831 and parameters: {'n_estimators': 1007, 'learning_rate': 0.010136331644377942, 'num_leaves': 231, 'max_depth': 5, 'lambda_l1': 8.44359589512497e-08, 'lambda_l2': 0.007664568565428504}. Best is trial 94 with value: 0.13239218318839277.\n",
      "[I 2025-09-01 12:44:41,688] Trial 152 finished with value: 0.1321606841635794 and parameters: {'n_estimators': 997, 'learning_rate': 0.010331092962261533, 'num_leaves': 232, 'max_depth': 5, 'lambda_l1': 8.479353161965954e-08, 'lambda_l2': 0.024984884424074014}. Best is trial 94 with value: 0.13239218318839277.\n",
      "[I 2025-09-01 12:44:49,420] Trial 153 finished with value: 0.13171910074169432 and parameters: {'n_estimators': 1006, 'learning_rate': 0.010042533947690946, 'num_leaves': 232, 'max_depth': 5, 'lambda_l1': 2.3395874237599785e-07, 'lambda_l2': 0.04302647555547358}. Best is trial 94 with value: 0.13239218318839277.\n",
      "[I 2025-09-01 12:44:56,915] Trial 154 finished with value: 0.13157556153537425 and parameters: {'n_estimators': 973, 'learning_rate': 0.01374972544842688, 'num_leaves': 212, 'max_depth': 5, 'lambda_l1': 4.200192788882603e-08, 'lambda_l2': 7.608889713084503e-07}. Best is trial 94 with value: 0.13239218318839277.\n",
      "[I 2025-09-01 12:45:05,041] Trial 155 finished with value: 0.13188798148007225 and parameters: {'n_estimators': 1037, 'learning_rate': 0.010063303743732037, 'num_leaves': 224, 'max_depth': 5, 'lambda_l1': 9.919693471740266e-08, 'lambda_l2': 0.007485899858435496}. Best is trial 94 with value: 0.13239218318839277.\n",
      "[I 2025-09-01 12:45:11,777] Trial 156 finished with value: 0.12023771937016431 and parameters: {'n_estimators': 944, 'learning_rate': 0.08033870000269822, 'num_leaves': 237, 'max_depth': 5, 'lambda_l1': 6.256700173628982e-08, 'lambda_l2': 0.011685936225496492}. Best is trial 94 with value: 0.13239218318839277.\n",
      "[I 2025-09-01 12:45:18,213] Trial 157 finished with value: 0.13109392248429674 and parameters: {'n_estimators': 848, 'learning_rate': 0.01615369012005612, 'num_leaves': 218, 'max_depth': 5, 'lambda_l1': 9.24398223937232e-08, 'lambda_l2': 0.022021856158375014}. Best is trial 94 with value: 0.13239218318839277.\n",
      "[I 2025-09-01 12:45:26,690] Trial 158 finished with value: 0.13128044799644123 and parameters: {'n_estimators': 996, 'learning_rate': 0.012265008482478431, 'num_leaves': 134, 'max_depth': 5, 'lambda_l1': 1.446761565515014e-07, 'lambda_l2': 0.019528185162707754}. Best is trial 94 with value: 0.13239218318839277.\n",
      "[I 2025-09-01 12:45:36,334] Trial 159 finished with value: 0.12858969247734275 and parameters: {'n_estimators': 1072, 'learning_rate': 0.01429853933337707, 'num_leaves': 230, 'max_depth': 6, 'lambda_l1': 3.294600029794038e-08, 'lambda_l2': 0.0038360551712349903}. Best is trial 94 with value: 0.13239218318839277.\n",
      "[I 2025-09-01 12:45:42,870] Trial 160 finished with value: 0.13187146456159576 and parameters: {'n_estimators': 819, 'learning_rate': 0.012134636078135074, 'num_leaves': 224, 'max_depth': 5, 'lambda_l1': 3.089951786007843e-07, 'lambda_l2': 0.04677675283859391}. Best is trial 94 with value: 0.13239218318839277.\n",
      "[I 2025-09-01 12:45:50,022] Trial 161 finished with value: 0.13171514621412495 and parameters: {'n_estimators': 926, 'learning_rate': 0.011588623895950837, 'num_leaves': 242, 'max_depth': 5, 'lambda_l1': 0.00018794545653956873, 'lambda_l2': 0.0022888521992696573}. Best is trial 94 with value: 0.13239218318839277.\n",
      "[I 2025-09-01 12:45:57,261] Trial 162 finished with value: 0.1318290911495013 and parameters: {'n_estimators': 890, 'learning_rate': 0.01012000088722703, 'num_leaves': 258, 'max_depth': 5, 'lambda_l1': 2.846274467095237, 'lambda_l2': 0.14057094663269298}. Best is trial 94 with value: 0.13239218318839277.\n",
      "[I 2025-09-01 12:46:04,588] Trial 163 finished with value: 0.13172175210674505 and parameters: {'n_estimators': 964, 'learning_rate': 0.013449022990242497, 'num_leaves': 234, 'max_depth': 5, 'lambda_l1': 0.004980213738336658, 'lambda_l2': 0.004847109149580076}. Best is trial 94 with value: 0.13239218318839277.\n",
      "[I 2025-09-01 12:46:11,644] Trial 164 finished with value: 0.13166798782211075 and parameters: {'n_estimators': 925, 'learning_rate': 0.015507193961635194, 'num_leaves': 267, 'max_depth': 5, 'lambda_l1': 0.028982155500739813, 'lambda_l2': 9.791769115558135e-08}. Best is trial 94 with value: 0.13239218318839277.\n",
      "[I 2025-09-01 12:46:18,445] Trial 165 finished with value: 0.1321201892055077 and parameters: {'n_estimators': 867, 'learning_rate': 0.011899971034621409, 'num_leaves': 205, 'max_depth': 5, 'lambda_l1': 1.470795766287435e-07, 'lambda_l2': 1.5551012137849576e-07}. Best is trial 94 with value: 0.13239218318839277.\n",
      "[I 2025-09-01 12:46:26,271] Trial 166 finished with value: 0.13172071197928237 and parameters: {'n_estimators': 840, 'learning_rate': 0.01002205625552859, 'num_leaves': 208, 'max_depth': 5, 'lambda_l1': 1.5547903941563758e-07, 'lambda_l2': 2.756985715139288e-07}. Best is trial 94 with value: 0.13239218318839277.\n",
      "[I 2025-09-01 12:46:33,642] Trial 167 finished with value: 0.12691139272802895 and parameters: {'n_estimators': 1021, 'learning_rate': 0.035673758575373984, 'num_leaves': 186, 'max_depth': 5, 'lambda_l1': 6.626888985923455e-08, 'lambda_l2': 0.005914915088913217}. Best is trial 94 with value: 0.13239218318839277.\n",
      "[I 2025-09-01 12:46:40,550] Trial 168 finished with value: 0.13205847752936056 and parameters: {'n_estimators': 878, 'learning_rate': 0.013059882954781762, 'num_leaves': 203, 'max_depth': 5, 'lambda_l1': 1.2028817997299647e-07, 'lambda_l2': 0.012148985785987679}. Best is trial 94 with value: 0.13239218318839277.\n",
      "[I 2025-09-01 12:46:46,676] Trial 169 finished with value: 0.1313385770003386 and parameters: {'n_estimators': 798, 'learning_rate': 0.01764078248801403, 'num_leaves': 205, 'max_depth': 5, 'lambda_l1': 6.174947679218995e-07, 'lambda_l2': 0.02490628939411565}. Best is trial 94 with value: 0.13239218318839277.\n",
      "[I 2025-09-01 12:46:53,436] Trial 170 finished with value: 0.1318360143995876 and parameters: {'n_estimators': 866, 'learning_rate': 0.01351984205354962, 'num_leaves': 195, 'max_depth': 5, 'lambda_l1': 1.6911931591611002e-07, 'lambda_l2': 0.035564835927980404}. Best is trial 94 with value: 0.13239218318839277.\n",
      "[I 2025-09-01 12:47:00,462] Trial 171 finished with value: 0.13232417737622532 and parameters: {'n_estimators': 889, 'learning_rate': 0.012112920680625073, 'num_leaves': 214, 'max_depth': 5, 'lambda_l1': 8.919533842219234e-08, 'lambda_l2': 0.0024090832823894346}. Best is trial 94 with value: 0.13239218318839277.\n",
      "[I 2025-09-01 12:47:14,206] Trial 172 finished with value: 0.1297344644347588 and parameters: {'n_estimators': 1992, 'learning_rate': 0.012022507076402886, 'num_leaves': 215, 'max_depth': 5, 'lambda_l1': 2.660755239780562e-07, 'lambda_l2': 0.0029115271843146912}. Best is trial 94 with value: 0.13239218318839277.\n",
      "[I 2025-09-01 12:47:21,014] Trial 173 finished with value: 0.13139147054449396 and parameters: {'n_estimators': 892, 'learning_rate': 0.014011434814988157, 'num_leaves': 201, 'max_depth': 5, 'lambda_l1': 4.345338361933196e-08, 'lambda_l2': 0.010117633925644838}. Best is trial 94 with value: 0.13239218318839277.\n",
      "[I 2025-09-01 12:47:35,080] Trial 174 finished with value: 0.13031845653637217 and parameters: {'n_estimators': 1688, 'learning_rate': 0.011933949722067957, 'num_leaves': 221, 'max_depth': 5, 'lambda_l1': 8.60637056322529e-08, 'lambda_l2': 0.014491577423316429}. Best is trial 94 with value: 0.13239218318839277.\n",
      "[I 2025-09-01 12:47:57,815] Trial 175 finished with value: 0.11749771329401315 and parameters: {'n_estimators': 943, 'learning_rate': 0.015027592701632665, 'num_leaves': 210, 'max_depth': 11, 'lambda_l1': 1.2377892876525315e-07, 'lambda_l2': 0.02852139849590929}. Best is trial 94 with value: 0.13239218318839277.\n",
      "[I 2025-09-01 12:48:04,522] Trial 176 finished with value: 0.13208890818788355 and parameters: {'n_estimators': 831, 'learning_rate': 0.012386473103351388, 'num_leaves': 216, 'max_depth': 5, 'lambda_l1': 4.205596170286037e-07, 'lambda_l2': 0.06712762821336468}. Best is trial 94 with value: 0.13239218318839277.\n",
      "[I 2025-09-01 12:48:10,904] Trial 177 finished with value: 0.131306487953164 and parameters: {'n_estimators': 818, 'learning_rate': 0.016670655148902806, 'num_leaves': 215, 'max_depth': 5, 'lambda_l1': 1.0781111758497533e-06, 'lambda_l2': 0.07224140070071756}. Best is trial 94 with value: 0.13239218318839277.\n",
      "[I 2025-09-01 12:48:17,765] Trial 178 finished with value: 0.1318554931865884 and parameters: {'n_estimators': 855, 'learning_rate': 0.01001482888526419, 'num_leaves': 203, 'max_depth': 5, 'lambda_l1': 3.986074928704276e-07, 'lambda_l2': 0.07000997788914505}. Best is trial 94 with value: 0.13239218318839277.\n",
      "[I 2025-09-01 12:48:23,906] Trial 179 finished with value: 0.13194153810562273 and parameters: {'n_estimators': 783, 'learning_rate': 0.012741752063687516, 'num_leaves': 173, 'max_depth': 5, 'lambda_l1': 2.416481249931608e-07, 'lambda_l2': 0.18849094238598674}. Best is trial 94 with value: 0.13239218318839277.\n",
      "[I 2025-09-01 12:48:29,807] Trial 180 finished with value: 0.13202170352793047 and parameters: {'n_estimators': 755, 'learning_rate': 0.014912651806113808, 'num_leaves': 190, 'max_depth': 5, 'lambda_l1': 1.8912593913840612e-07, 'lambda_l2': 0.0003770704235995272}. Best is trial 94 with value: 0.13239218318839277.\n",
      "[I 2025-09-01 12:48:36,778] Trial 181 finished with value: 0.13192061611396133 and parameters: {'n_estimators': 885, 'learning_rate': 0.012126982057364146, 'num_leaves': 226, 'max_depth': 5, 'lambda_l1': 2.1314886611943555e-08, 'lambda_l2': 0.008049345024841881}. Best is trial 94 with value: 0.13239218318839277.\n",
      "[I 2025-09-01 12:48:44,279] Trial 182 finished with value: 0.1319092535831887 and parameters: {'n_estimators': 979, 'learning_rate': 0.011513751153319485, 'num_leaves': 219, 'max_depth': 5, 'lambda_l1': 5.352200795739219e-08, 'lambda_l2': 0.0016129814116428562}. Best is trial 94 with value: 0.13239218318839277.\n",
      "[I 2025-09-01 12:48:51,051] Trial 183 finished with value: 0.13170983393104 and parameters: {'n_estimators': 867, 'learning_rate': 0.013272465301460593, 'num_leaves': 214, 'max_depth': 5, 'lambda_l1': 2.996513354994809e-08, 'lambda_l2': 0.016467785750756206}. Best is trial 94 with value: 0.13239218318839277.\n",
      "[I 2025-09-01 12:49:05,420] Trial 184 finished with value: 0.10677211247410326 and parameters: {'n_estimators': 832, 'learning_rate': 0.0470374489970283, 'num_leaves': 229, 'max_depth': 9, 'lambda_l1': 4.110681643892566e-07, 'lambda_l2': 1.7563967379068737e-07}. Best is trial 94 with value: 0.13239218318839277.\n",
      "[I 2025-09-01 12:49:12,662] Trial 185 finished with value: 0.13204476916262756 and parameters: {'n_estimators': 915, 'learning_rate': 0.01155106208819527, 'num_leaves': 207, 'max_depth': 5, 'lambda_l1': 1.1946468064560832e-07, 'lambda_l2': 0.005541012515751995}. Best is trial 94 with value: 0.13239218318839277.\n",
      "[I 2025-09-01 12:49:19,994] Trial 186 finished with value: 0.13183245347411546 and parameters: {'n_estimators': 913, 'learning_rate': 0.010122336708522646, 'num_leaves': 209, 'max_depth': 5, 'lambda_l1': 1.1743429828527281e-07, 'lambda_l2': 0.006615288690216634}. Best is trial 94 with value: 0.13239218318839277.\n",
      "[I 2025-09-01 12:49:27,224] Trial 187 finished with value: 0.13128730940489036 and parameters: {'n_estimators': 954, 'learning_rate': 0.01363823851491567, 'num_leaves': 198, 'max_depth': 5, 'lambda_l1': 7.944810942528743e-08, 'lambda_l2': 0.011891442517468995}. Best is trial 94 with value: 0.13239218318839277.\n",
      "[I 2025-09-01 12:49:34,740] Trial 188 finished with value: 0.132013269533615 and parameters: {'n_estimators': 908, 'learning_rate': 0.011598194381283431, 'num_leaves': 207, 'max_depth': 5, 'lambda_l1': 6.327534439297698e-07, 'lambda_l2': 0.33951806703266}. Best is trial 94 with value: 0.13239218318839277.\n",
      "[I 2025-09-01 12:49:41,362] Trial 189 finished with value: 0.13107067792399618 and parameters: {'n_estimators': 869, 'learning_rate': 0.015562420048048201, 'num_leaves': 219, 'max_depth': 5, 'lambda_l1': 1.9888801713525225e-07, 'lambda_l2': 0.0020306312283548183}. Best is trial 94 with value: 0.13239218318839277.\n",
      "[I 2025-09-01 12:49:49,790] Trial 190 finished with value: 0.13165422024982695 and parameters: {'n_estimators': 991, 'learning_rate': 0.013032101533917128, 'num_leaves': 223, 'max_depth': 5, 'lambda_l1': 1.17349959480005e-07, 'lambda_l2': 0.00397633658346128}. Best is trial 94 with value: 0.13239218318839277.\n",
      "[I 2025-09-01 12:49:57,112] Trial 191 finished with value: 0.13177687720453396 and parameters: {'n_estimators': 938, 'learning_rate': 0.011691573416556295, 'num_leaves': 232, 'max_depth': 5, 'lambda_l1': 4.323083705451658e-08, 'lambda_l2': 0.0027040034065831968}. Best is trial 94 with value: 0.13239218318839277.\n",
      "[I 2025-09-01 12:50:05,049] Trial 192 finished with value: 0.13212623949849073 and parameters: {'n_estimators': 1044, 'learning_rate': 0.010112509723239736, 'num_leaves': 211, 'max_depth': 5, 'lambda_l1': 6.197343637059316e-08, 'lambda_l2': 0.0009445460708694157}. Best is trial 94 with value: 0.13239218318839277.\n",
      "[I 2025-09-01 12:50:13,117] Trial 193 finished with value: 0.13189299036375668 and parameters: {'n_estimators': 1039, 'learning_rate': 0.010183785576564634, 'num_leaves': 211, 'max_depth': 5, 'lambda_l1': 6.509939994406974e-08, 'lambda_l2': 0.0007754963156177858}. Best is trial 94 with value: 0.13239218318839277.\n",
      "[I 2025-09-01 12:50:20,951] Trial 194 finished with value: 0.1321927388869334 and parameters: {'n_estimators': 1011, 'learning_rate': 0.010013895225258413, 'num_leaves': 203, 'max_depth': 5, 'lambda_l1': 2.884134557684099e-07, 'lambda_l2': 0.0013545306094501497}. Best is trial 94 with value: 0.13239218318839277.\n",
      "[I 2025-09-01 12:50:28,625] Trial 195 finished with value: 0.1316622697927926 and parameters: {'n_estimators': 1004, 'learning_rate': 0.013822541185906409, 'num_leaves': 204, 'max_depth': 5, 'lambda_l1': 1.2478005418727638e-07, 'lambda_l2': 0.0010616690311979246}. Best is trial 94 with value: 0.13239218318839277.\n",
      "[I 2025-09-01 12:50:38,773] Trial 196 finished with value: 0.13122304583029043 and parameters: {'n_estimators': 1403, 'learning_rate': 0.011844086694012991, 'num_leaves': 194, 'max_depth': 5, 'lambda_l1': 0.00861955175973949, 'lambda_l2': 0.0006692320707007738}. Best is trial 94 with value: 0.13239218318839277.\n",
      "[I 2025-09-01 12:50:46,760] Trial 197 finished with value: 0.13160023495590392 and parameters: {'n_estimators': 1056, 'learning_rate': 0.014817893490345325, 'num_leaves': 200, 'max_depth': 5, 'lambda_l1': 6.418710629498332e-08, 'lambda_l2': 0.0014078906714265146}. Best is trial 94 with value: 0.13239218318839277.\n",
      "[I 2025-09-01 12:50:54,609] Trial 198 finished with value: 0.13191384467474354 and parameters: {'n_estimators': 978, 'learning_rate': 0.01000815391532536, 'num_leaves': 184, 'max_depth': 5, 'lambda_l1': 0.5818929194487683, 'lambda_l2': 0.006553269910281921}. Best is trial 94 with value: 0.13239218318839277.\n",
      "[I 2025-09-01 12:51:02,413] Trial 199 finished with value: 0.13180551002476054 and parameters: {'n_estimators': 1019, 'learning_rate': 0.012187734848584477, 'num_leaves': 214, 'max_depth': 5, 'lambda_l1': 3.1501153411143514e-07, 'lambda_l2': 0.0010827992766680923}. Best is trial 94 with value: 0.13239218318839277.\n",
      "[I 2025-09-01 12:51:13,151] Trial 200 finished with value: 0.12407519771115624 and parameters: {'n_estimators': 955, 'learning_rate': 0.016172383096688555, 'num_leaves': 149, 'max_depth': 7, 'lambda_l1': 3.9087590940848325e-08, 'lambda_l2': 0.00029341555681747927}. Best is trial 94 with value: 0.13239218318839277.\n",
      "[I 2025-09-01 12:51:19,615] Trial 201 finished with value: 0.13175330541657426 and parameters: {'n_estimators': 818, 'learning_rate': 0.011472451134340476, 'num_leaves': 204, 'max_depth': 5, 'lambda_l1': 2.0394183415279749e-07, 'lambda_l2': 0.003773360450220846}. Best is trial 94 with value: 0.13239218318839277.\n",
      "[I 2025-09-01 12:51:39,446] Trial 202 finished with value: 0.12182177026712866 and parameters: {'n_estimators': 911, 'learning_rate': 0.010114489190734892, 'num_leaves': 219, 'max_depth': 12, 'lambda_l1': 4.4952114188258824e-07, 'lambda_l2': 0.0025029847171630353}. Best is trial 94 with value: 0.13239218318839277.\n",
      "[I 2025-09-01 12:51:45,877] Trial 203 finished with value: 0.12285796010416294 and parameters: {'n_estimators': 875, 'learning_rate': 0.06726333891286446, 'num_leaves': 226, 'max_depth': 5, 'lambda_l1': 8.713783150533871e-08, 'lambda_l2': 2.2696968064896237e-06}. Best is trial 94 with value: 0.13239218318839277.\n",
      "[I 2025-09-01 12:51:54,153] Trial 204 finished with value: 0.13130568363238315 and parameters: {'n_estimators': 1097, 'learning_rate': 0.01332384316062393, 'num_leaves': 212, 'max_depth': 5, 'lambda_l1': 2.690538088038086e-07, 'lambda_l2': 1.4970864426886865e-06}. Best is trial 94 with value: 0.13239218318839277.\n",
      "[I 2025-09-01 12:52:01,441] Trial 205 finished with value: 0.13177794059519535 and parameters: {'n_estimators': 942, 'learning_rate': 0.011845055395121078, 'num_leaves': 238, 'max_depth': 5, 'lambda_l1': 1.4882640255762303e-07, 'lambda_l2': 0.0020196650370970016}. Best is trial 94 with value: 0.13239218318839277.\n",
      "[I 2025-09-01 12:52:08,018] Trial 206 finished with value: 0.13175187414740597 and parameters: {'n_estimators': 836, 'learning_rate': 0.01389539844681122, 'num_leaves': 222, 'max_depth': 5, 'lambda_l1': 8.086894644575921e-07, 'lambda_l2': 0.0001688163797609278}. Best is trial 94 with value: 0.13239218318839277.\n",
      "[I 2025-09-01 12:52:14,358] Trial 207 finished with value: 0.13173381682917076 and parameters: {'n_estimators': 790, 'learning_rate': 0.0100141050759967, 'num_leaves': 161, 'max_depth': 5, 'lambda_l1': 1.5180830960192093e-05, 'lambda_l2': 4.073023185124863e-06}. Best is trial 94 with value: 0.13239218318839277.\n",
      "[I 2025-09-01 12:52:22,009] Trial 208 finished with value: 0.13158622590585503 and parameters: {'n_estimators': 1020, 'learning_rate': 0.012841083844239192, 'num_leaves': 206, 'max_depth': 5, 'lambda_l1': 0.16168078966271449, 'lambda_l2': 0.1008689073470538}. Best is trial 94 with value: 0.13239218318839277.\n",
      "[I 2025-09-01 12:52:29,751] Trial 209 finished with value: 0.13203375712560247 and parameters: {'n_estimators': 974, 'learning_rate': 0.010023928848434146, 'num_leaves': 215, 'max_depth': 5, 'lambda_l1': 9.39076941419517e-08, 'lambda_l2': 0.0005536792059871215}. Best is trial 94 with value: 0.13239218318839277.\n",
      "[I 2025-09-01 12:52:38,300] Trial 210 finished with value: 0.13194701256776503 and parameters: {'n_estimators': 973, 'learning_rate': 0.011703226993378849, 'num_leaves': 216, 'max_depth': 5, 'lambda_l1': 6.692885197958037e-05, 'lambda_l2': 0.0005267562818195997}. Best is trial 94 with value: 0.13239218318839277.\n",
      "[I 2025-09-01 12:52:45,428] Trial 211 finished with value: 0.13206253094972786 and parameters: {'n_estimators': 910, 'learning_rate': 0.010011114789895597, 'num_leaves': 212, 'max_depth': 5, 'lambda_l1': 1.0169574460763408e-07, 'lambda_l2': 0.0008420290865440794}. Best is trial 94 with value: 0.13239218318839277.\n",
      "[I 2025-09-01 12:52:52,570] Trial 212 finished with value: 0.13171651936227938 and parameters: {'n_estimators': 907, 'learning_rate': 0.010043340508881003, 'num_leaves': 232, 'max_depth': 5, 'lambda_l1': 7.738819771423922e-08, 'lambda_l2': 0.0007603825728596386}. Best is trial 94 with value: 0.13239218318839277.\n",
      "[I 2025-09-01 12:53:01,181] Trial 213 finished with value: 0.13151843103193928 and parameters: {'n_estimators': 992, 'learning_rate': 0.011880523238479455, 'num_leaves': 197, 'max_depth': 5, 'lambda_l1': 4.656787719379813e-08, 'lambda_l2': 0.001445042049006907}. Best is trial 94 with value: 0.13239218318839277.\n",
      "[I 2025-09-01 12:53:08,187] Trial 214 finished with value: 0.13182267844438939 and parameters: {'n_estimators': 929, 'learning_rate': 0.01398963125372437, 'num_leaves': 212, 'max_depth': 5, 'lambda_l1': 1.1087637461061137e-07, 'lambda_l2': 0.0012453469413314271}. Best is trial 94 with value: 0.13239218318839277.\n",
      "[I 2025-09-01 12:53:16,186] Trial 215 finished with value: 0.13193735162238657 and parameters: {'n_estimators': 1051, 'learning_rate': 0.0118150632007926, 'num_leaves': 224, 'max_depth': 5, 'lambda_l1': 2.2782324183657117e-08, 'lambda_l2': 0.0003894145818710088}. Best is trial 94 with value: 0.13239218318839277.\n",
      "[I 2025-09-01 12:53:23,838] Trial 216 finished with value: 0.1318336315798102 and parameters: {'n_estimators': 885, 'learning_rate': 0.01316744814295499, 'num_leaves': 217, 'max_depth': 5, 'lambda_l1': 1.5144260930470517e-07, 'lambda_l2': 0.000993523939833025}. Best is trial 94 with value: 0.13239218318839277.\n",
      "[I 2025-09-01 12:53:31,338] Trial 217 finished with value: 0.1323276660812828 and parameters: {'n_estimators': 953, 'learning_rate': 0.010212611484440864, 'num_leaves': 207, 'max_depth': 5, 'lambda_l1': 6.400169011687127e-08, 'lambda_l2': 0.005614404696876928}. Best is trial 94 with value: 0.13239218318839277.\n",
      "[I 2025-09-01 12:53:37,849] Trial 218 finished with value: 0.1314823095172023 and parameters: {'n_estimators': 857, 'learning_rate': 0.015169978078196117, 'num_leaves': 275, 'max_depth': 5, 'lambda_l1': 0.0006892409441309379, 'lambda_l2': 0.004085498234184435}. Best is trial 94 with value: 0.13239218318839277.\n",
      "[I 2025-09-01 12:53:45,206] Trial 219 finished with value: 0.13202741236253035 and parameters: {'n_estimators': 932, 'learning_rate': 0.01002466865029646, 'num_leaves': 206, 'max_depth': 5, 'lambda_l1': 4.881567361787002e-08, 'lambda_l2': 0.009673755230023074}. Best is trial 94 with value: 0.13239218318839277.\n",
      "[I 2025-09-01 12:53:52,158] Trial 220 finished with value: 0.1323936960329027 and parameters: {'n_estimators': 891, 'learning_rate': 0.012647851195408432, 'num_leaves': 200, 'max_depth': 5, 'lambda_l1': 3.121643892147168e-08, 'lambda_l2': 0.005654740731327179}. Best is trial 220 with value: 0.1323936960329027.\n",
      "[I 2025-09-01 12:53:59,122] Trial 221 finished with value: 0.13191485712605042 and parameters: {'n_estimators': 893, 'learning_rate': 0.012042211941225426, 'num_leaves': 200, 'max_depth': 5, 'lambda_l1': 3.230724854982585e-08, 'lambda_l2': 0.006441579715654797}. Best is trial 220 with value: 0.1323936960329027.\n",
      "[I 2025-09-01 12:54:06,428] Trial 222 finished with value: 0.13179957370631246 and parameters: {'n_estimators': 944, 'learning_rate': 0.013088506136953422, 'num_leaves': 191, 'max_depth': 5, 'lambda_l1': 6.522175697381627e-08, 'lambda_l2': 0.0051199022720252885}. Best is trial 220 with value: 0.1323936960329027.\n",
      "[I 2025-09-01 12:54:13,473] Trial 223 finished with value: 0.13171274217990872 and parameters: {'n_estimators': 907, 'learning_rate': 0.011557613725312324, 'num_leaves': 208, 'max_depth': 5, 'lambda_l1': 1.7590902751169613e-08, 'lambda_l2': 0.0027691681414447502}. Best is trial 220 with value: 0.1323936960329027.\n",
      "[I 2025-09-01 12:54:20,024] Trial 224 finished with value: 0.13187849409720936 and parameters: {'n_estimators': 859, 'learning_rate': 0.014502472040059401, 'num_leaves': 200, 'max_depth': 5, 'lambda_l1': 3.537281690898512e-08, 'lambda_l2': 0.017987960735040723}. Best is trial 220 with value: 0.1323936960329027.\n",
      "[I 2025-09-01 12:54:27,812] Trial 225 finished with value: 0.13197722599139683 and parameters: {'n_estimators': 1011, 'learning_rate': 0.011672901603823206, 'num_leaves': 227, 'max_depth': 5, 'lambda_l1': 0.0003101511823819439, 'lambda_l2': 0.01233522823862197}. Best is trial 220 with value: 0.1323936960329027.\n",
      "[I 2025-09-01 12:54:35,307] Trial 226 finished with value: 0.13185627119219234 and parameters: {'n_estimators': 958, 'learning_rate': 0.010052626443459032, 'num_leaves': 169, 'max_depth': 5, 'lambda_l1': 2.7415644350277443e-08, 'lambda_l2': 0.002314832726853426}. Best is trial 220 with value: 0.1323936960329027.\n",
      "[I 2025-09-01 12:54:42,208] Trial 227 finished with value: 0.13201656150789576 and parameters: {'n_estimators': 879, 'learning_rate': 0.013790571117590092, 'num_leaves': 282, 'max_depth': 5, 'lambda_l1': 6.116458242952045e-08, 'lambda_l2': 4.912371385217387e-05}. Best is trial 220 with value: 0.1323936960329027.\n",
      "[I 2025-09-01 12:54:49,088] Trial 228 finished with value: 0.1311808398256705 and parameters: {'n_estimators': 926, 'learning_rate': 0.015597307485721223, 'num_leaves': 220, 'max_depth': 5, 'lambda_l1': 1.0500427128353493e-07, 'lambda_l2': 0.009547389032686187}. Best is trial 220 with value: 0.1323936960329027.\n",
      "[I 2025-09-01 12:54:56,903] Trial 229 finished with value: 0.13159798134475928 and parameters: {'n_estimators': 1038, 'learning_rate': 0.012808363923294363, 'num_leaves': 236, 'max_depth': 5, 'lambda_l1': 0.00015596223962129982, 'lambda_l2': 0.005176150461896643}. Best is trial 220 with value: 0.1323936960329027.\n",
      "[I 2025-09-01 12:55:04,480] Trial 230 finished with value: 0.13201459632702853 and parameters: {'n_estimators': 993, 'learning_rate': 0.011527331765884875, 'num_leaves': 211, 'max_depth': 5, 'lambda_l1': 2.1511179254472568e-07, 'lambda_l2': 0.032600936806558296}. Best is trial 220 with value: 0.1323936960329027.\n",
      "[I 2025-09-01 12:55:12,041] Trial 231 finished with value: 0.1320650009941852 and parameters: {'n_estimators': 970, 'learning_rate': 0.010044208352230731, 'num_leaves': 215, 'max_depth': 5, 'lambda_l1': 8.575892206363348e-08, 'lambda_l2': 0.000628454606560645}. Best is trial 220 with value: 0.1323936960329027.\n",
      "[I 2025-09-01 12:55:19,584] Trial 232 finished with value: 0.13214337550129088 and parameters: {'n_estimators': 964, 'learning_rate': 0.010108768551932127, 'num_leaves': 206, 'max_depth': 5, 'lambda_l1': 7.633254381082628e-08, 'lambda_l2': 0.001925454813558569}. Best is trial 220 with value: 0.1323936960329027.\n",
      "[I 2025-09-01 12:55:27,115] Trial 233 finished with value: 0.13201577899315148 and parameters: {'n_estimators': 964, 'learning_rate': 0.010219908476346254, 'num_leaves': 204, 'max_depth': 5, 'lambda_l1': 9.398714050000721e-08, 'lambda_l2': 0.0021700637205451113}. Best is trial 220 with value: 0.1323936960329027.\n",
      "[I 2025-09-01 12:55:34,778] Trial 234 finished with value: 0.13188021408750703 and parameters: {'n_estimators': 988, 'learning_rate': 0.010005358845703203, 'num_leaves': 208, 'max_depth': 5, 'lambda_l1': 1.5443624116730703e-07, 'lambda_l2': 0.0015665812556844006}. Best is trial 220 with value: 0.1323936960329027.\n",
      "[I 2025-09-01 12:55:41,783] Trial 235 finished with value: 0.13252206390173127 and parameters: {'n_estimators': 914, 'learning_rate': 0.011824181816259443, 'num_leaves': 196, 'max_depth': 5, 'lambda_l1': 5.42948906114636e-08, 'lambda_l2': 1.3586612579055367e-07}. Best is trial 235 with value: 0.13252206390173127.\n",
      "[I 2025-09-01 12:55:48,756] Trial 236 finished with value: 0.13207559585618184 and parameters: {'n_estimators': 913, 'learning_rate': 0.012870490252411649, 'num_leaves': 199, 'max_depth': 5, 'lambda_l1': 6.199907411821855e-08, 'lambda_l2': 0.0006551390622132749}. Best is trial 235 with value: 0.13252206390173127.\n",
      "[I 2025-09-01 12:55:56,022] Trial 237 finished with value: 0.13165859405617264 and parameters: {'n_estimators': 960, 'learning_rate': 0.013036050075675081, 'num_leaves': 194, 'max_depth': 5, 'lambda_l1': 4.9960061834868735e-08, 'lambda_l2': 0.0008448127098322862}. Best is trial 235 with value: 0.13252206390173127.\n",
      "[I 2025-09-01 12:56:02,795] Trial 238 finished with value: 0.12495005554166434 and parameters: {'n_estimators': 939, 'learning_rate': 0.051280407877424744, 'num_leaves': 203, 'max_depth': 5, 'lambda_l1': 6.661210081262168e-08, 'lambda_l2': 0.000520280603332547}. Best is trial 235 with value: 0.13252206390173127.\n",
      "[I 2025-09-01 12:56:10,347] Trial 239 finished with value: 0.13121729687715766 and parameters: {'n_estimators': 1012, 'learning_rate': 0.01405725806407533, 'num_leaves': 189, 'max_depth': 5, 'lambda_l1': 7.341013270463602e-08, 'lambda_l2': 0.0007878215638921406}. Best is trial 235 with value: 0.13252206390173127.\n",
      "[I 2025-09-01 12:56:19,735] Trial 240 finished with value: 0.13155547461533323 and parameters: {'n_estimators': 1072, 'learning_rate': 0.012004514361534425, 'num_leaves': 197, 'max_depth': 5, 'lambda_l1': 4.448941472508176e-08, 'lambda_l2': 0.00035455235208915325}. Best is trial 235 with value: 0.13252206390173127.\n",
      "[I 2025-09-01 12:56:26,741] Trial 241 finished with value: 0.13198108320425916 and parameters: {'n_estimators': 908, 'learning_rate': 0.011589443079932867, 'num_leaves': 200, 'max_depth': 5, 'lambda_l1': 1.246048308809083e-07, 'lambda_l2': 0.001623384573323561}. Best is trial 235 with value: 0.13252206390173127.\n",
      "[I 2025-09-01 12:56:33,867] Trial 242 finished with value: 0.13174993675708943 and parameters: {'n_estimators': 916, 'learning_rate': 0.01197228865121213, 'num_leaves': 194, 'max_depth': 5, 'lambda_l1': 8.697435836593386e-08, 'lambda_l2': 0.003466912438953898}. Best is trial 235 with value: 0.13252206390173127.\n",
      "[I 2025-09-01 12:56:41,008] Trial 243 finished with value: 0.13184034366193398 and parameters: {'n_estimators': 897, 'learning_rate': 0.010012836379582063, 'num_leaves': 206, 'max_depth': 5, 'lambda_l1': 1.9344402047998145e-07, 'lambda_l2': 1.40277441039887e-07}. Best is trial 235 with value: 0.13252206390173127.\n",
      "[I 2025-09-01 12:56:48,219] Trial 244 finished with value: 0.13133136197592404 and parameters: {'n_estimators': 950, 'learning_rate': 0.013402911876284462, 'num_leaves': 213, 'max_depth': 5, 'lambda_l1': 2.8242821506241483e-08, 'lambda_l2': 0.0010509545586456733}. Best is trial 235 with value: 0.13252206390173127.\n",
      "[I 2025-09-01 12:56:55,732] Trial 245 finished with value: 0.1318522093033423 and parameters: {'n_estimators': 973, 'learning_rate': 0.011611577926383823, 'num_leaves': 153, 'max_depth': 5, 'lambda_l1': 5.124252721716985e-08, 'lambda_l2': 0.00519226528094246}. Best is trial 235 with value: 0.13252206390173127.\n",
      "[I 2025-09-01 12:57:02,553] Trial 246 finished with value: 0.13133225358041484 and parameters: {'n_estimators': 929, 'learning_rate': 0.015397956038038837, 'num_leaves': 203, 'max_depth': 5, 'lambda_l1': 1.1550810222397551e-07, 'lambda_l2': 1.8903008807346523e-05}. Best is trial 235 with value: 0.13252206390173127.\n",
      "[I 2025-09-01 12:57:09,425] Trial 247 finished with value: 0.13189810632892945 and parameters: {'n_estimators': 891, 'learning_rate': 0.013125570655016433, 'num_leaves': 209, 'max_depth': 5, 'lambda_l1': 7.160176392192365e-08, 'lambda_l2': 0.0005401743192977978}. Best is trial 235 with value: 0.13252206390173127.\n",
      "[I 2025-09-01 12:57:32,986] Trial 248 finished with value: 0.12143322655282814 and parameters: {'n_estimators': 1030, 'learning_rate': 0.01000067977972885, 'num_leaves': 197, 'max_depth': 10, 'lambda_l1': 3.4196523128046626e-07, 'lambda_l2': 0.007078823690212571}. Best is trial 235 with value: 0.13252206390173127.\n",
      "[I 2025-09-01 12:57:40,607] Trial 249 finished with value: 0.1315972324292506 and parameters: {'n_estimators': 994, 'learning_rate': 0.01140536177833588, 'num_leaves': 229, 'max_depth': 5, 'lambda_l1': 1.3503289870323422e-07, 'lambda_l2': 0.0019799152009502825}. Best is trial 235 with value: 0.13252206390173127.\n"
     ]
    },
    {
     "name": "stdout",
     "output_type": "stream",
     "text": [
      "\n",
      "--- Tuning Complete for lightgbm ---\n",
      "Number of finished trials:  250\n",
      "Best trial:\n",
      "  Value (PR AUC):  0.13252206390173127\n",
      "  Params: \n",
      "    n_estimators: 914\n",
      "    learning_rate: 0.011824181816259443\n",
      "    num_leaves: 196\n",
      "    max_depth: 5\n",
      "    lambda_l1: 5.42948906114636e-08\n",
      "    lambda_l2: 1.3586612579055367e-07\n",
      "--- Preparing to Train Model: lightgbm ---\n",
      "--- Fitting LightGBMModel ---\n",
      "Validation accuracy: 0.9156\n",
      "Validation ROC AUC: 0.6189\n",
      "Validation PR AUC (AUC-PR): 0.1325\n",
      "Model saved to ..\\models\\lightgbm_model.joblib\n",
      "Reading file: lightgbm_model.joblib\n",
      "Successfully read file!\n",
      "Reading file: clean_test_data.csv\n",
      "Successfully read file!\n",
      "\n",
      "--- Test Set Performance ---\n",
      "Test accuracy: 0.9158\n",
      "Test ROC AUC: 0.6154\n",
      "Test PR AUC: 0.1298\n"
     ]
    }
   ],
   "execution_count": 6
  },
  {
   "metadata": {
    "ExecuteTime": {
     "end_time": "2025-09-01T07:27:50.845592Z",
     "start_time": "2025-09-01T07:27:48.796476Z"
    }
   },
   "cell_type": "code",
   "source": [
    "model_name = 'xgboost'\n",
    "run_model(model_name)\n",
    "# params = train.tune_model_with_optuna(model_name, n_trials=1)\n",
    "# run_model(model_name, params=params)"
   ],
   "id": "5deb95454ff25d57",
   "outputs": [
    {
     "name": "stdout",
     "output_type": "stream",
     "text": [
      "--- Preparing to Train Model: xgboost ---\n",
      "--- Fitting XGBoostModel ---\n",
      "Validation accuracy: 0.9118\n",
      "Validation ROC AUC: 0.5852\n",
      "Validation PR AUC (AUC-PR): 0.1179\n",
      "Model saved to ..\\models\\xgboost_model.joblib\n",
      "Reading file: xgboost_model.joblib\n",
      "Successfully read file!\n",
      "Reading file: clean_test_data.csv\n",
      "Successfully read file!\n",
      "\n",
      "--- Test Set Performance ---\n",
      "Test accuracy: 0.9115\n",
      "Test ROC AUC: 0.5892\n",
      "Test PR AUC: 0.1176\n"
     ]
    }
   ],
   "execution_count": 7
  },
  {
   "metadata": {
    "ExecuteTime": {
     "end_time": "2025-09-01T08:49:56.512327Z",
     "start_time": "2025-09-01T08:32:09.562288Z"
    }
   },
   "cell_type": "code",
   "source": [
    "model_name = 'catboost'\n",
    "run_model(model_name)\n",
    "params = train.tune_model_with_optuna(model_name, n_trials=10)\n",
    "run_model(model_name, params=params)"
   ],
   "id": "3e377e92357517e8",
   "outputs": [
    {
     "name": "stdout",
     "output_type": "stream",
     "text": [
      "--- Preparing to Train Model: catboost ---\n",
      "--- Fitting CatBoostModel ---\n",
      "Validation accuracy: 0.9137\n",
      "Validation ROC AUC: 0.5929\n",
      "Validation PR AUC (AUC-PR): 0.1208\n",
      "Model saved to ..\\models\\catboost_model.joblib\n",
      "Reading file: catboost_model.joblib\n",
      "Successfully read file!\n",
      "Reading file: clean_test_data.csv\n"
     ]
    },
    {
     "name": "stderr",
     "output_type": "stream",
     "text": [
      "[I 2025-09-01 14:02:29,384] A new study created in memory with name: no-name-6f15410c-1038-49a6-a154-9cd1b2f735cf\n"
     ]
    },
    {
     "name": "stdout",
     "output_type": "stream",
     "text": [
      "Successfully read file!\n",
      "\n",
      "--- Test Set Performance ---\n",
      "Test accuracy: 0.9137\n",
      "Test ROC AUC: 0.5939\n",
      "Test PR AUC: 0.1193\n",
      "--- Starting Hyperparameter Tuning for catboost ---\n"
     ]
    },
    {
     "name": "stderr",
     "output_type": "stream",
     "text": [
      "[I 2025-09-01 14:03:43,889] Trial 0 finished with value: 0.10892498334654069 and parameters: {'iterations': 1450, 'learning_rate': 0.09339280927795574, 'depth': 9, 'l2_leaf_reg': 5.05378953072099}. Best is trial 0 with value: 0.10892498334654069.\n",
      "[I 2025-09-01 14:04:17,253] Trial 1 finished with value: 0.11995052432635887 and parameters: {'iterations': 1270, 'learning_rate': 0.074523140257616, 'depth': 7, 'l2_leaf_reg': 5.321588551624511}. Best is trial 1 with value: 0.11995052432635887.\n",
      "[I 2025-09-01 14:04:55,708] Trial 2 finished with value: 0.11983915568138233 and parameters: {'iterations': 1805, 'learning_rate': 0.07781503365678426, 'depth': 6, 'l2_leaf_reg': 7.023193448523134}. Best is trial 1 with value: 0.11995052432635887.\n",
      "[I 2025-09-01 14:05:56,016] Trial 3 finished with value: 0.11411673655748285 and parameters: {'iterations': 590, 'learning_rate': 0.06069179592570378, 'depth': 10, 'l2_leaf_reg': 2.127291852997087}. Best is trial 1 with value: 0.11995052432635887.\n",
      "[I 2025-09-01 14:08:44,100] Trial 4 finished with value: 0.1008043858843635 and parameters: {'iterations': 1411, 'learning_rate': 0.08955254966104896, 'depth': 10, 'l2_leaf_reg': 3.308730238501137}. Best is trial 1 with value: 0.11995052432635887.\n",
      "[I 2025-09-01 14:09:00,994] Trial 5 finished with value: 0.12779226361731266 and parameters: {'iterations': 670, 'learning_rate': 0.08467699248746405, 'depth': 6, 'l2_leaf_reg': 7.028043022644782}. Best is trial 5 with value: 0.12779226361731266.\n",
      "[I 2025-09-01 14:09:59,901] Trial 6 finished with value: 0.11770568819149388 and parameters: {'iterations': 1549, 'learning_rate': 0.06018235341831045, 'depth': 8, 'l2_leaf_reg': 6.487601951437752}. Best is trial 5 with value: 0.12779226361731266.\n",
      "[I 2025-09-01 14:10:30,217] Trial 7 finished with value: 0.11994114080533674 and parameters: {'iterations': 1040, 'learning_rate': 0.0757619381826563, 'depth': 7, 'l2_leaf_reg': 3.164084341941267}. Best is trial 5 with value: 0.12779226361731266.\n",
      "[I 2025-09-01 14:18:53,763] Trial 8 finished with value: 0.10291161273380414 and parameters: {'iterations': 1374, 'learning_rate': 0.08236750341618572, 'depth': 12, 'l2_leaf_reg': 4.729152030456641}. Best is trial 5 with value: 0.12779226361731266.\n",
      "[I 2025-09-01 14:19:38,056] Trial 9 finished with value: 0.12445458679178745 and parameters: {'iterations': 1135, 'learning_rate': 0.030766338644044967, 'depth': 8, 'l2_leaf_reg': 1.378611436428967}. Best is trial 5 with value: 0.12779226361731266.\n"
     ]
    },
    {
     "name": "stdout",
     "output_type": "stream",
     "text": [
      "\n",
      "--- Tuning Complete for catboost ---\n",
      "Number of finished trials:  10\n",
      "Best trial:\n",
      "  Value (PR AUC):  0.12779226361731266\n",
      "  Params: \n",
      "    iterations: 670\n",
      "    learning_rate: 0.08467699248746405\n",
      "    depth: 6\n",
      "    l2_leaf_reg: 7.028043022644782\n",
      "--- Preparing to Train Model: catboost ---\n",
      "--- Fitting CatBoostModel ---\n",
      "Validation accuracy: 0.9148\n",
      "Validation ROC AUC: 0.6092\n",
      "Validation PR AUC (AUC-PR): 0.1278\n",
      "Model saved to ..\\models\\catboost_model.joblib\n",
      "Reading file: catboost_model.joblib\n",
      "Successfully read file!\n",
      "Reading file: clean_test_data.csv\n",
      "Successfully read file!\n",
      "\n",
      "--- Test Set Performance ---\n",
      "Test accuracy: 0.9148\n",
      "Test ROC AUC: 0.6082\n",
      "Test PR AUC: 0.1265\n"
     ]
    }
   ],
   "execution_count": 6
  },
  {
   "metadata": {
    "ExecuteTime": {
     "end_time": "2025-09-01T08:50:00.914165Z",
     "start_time": "2025-09-01T08:49:56.531108Z"
    }
   },
   "cell_type": "code",
   "source": [
    "model_name = 'logistic_regression'\n",
    "run_model(model_name)\n",
    "# params = train.tune_model_with_optuna(model_name, n_trials=1)\n",
    "# run_model(model_name, params=params)"
   ],
   "id": "94811a29876db1ad",
   "outputs": [
    {
     "name": "stdout",
     "output_type": "stream",
     "text": [
      "--- Preparing to Train Model: logistic_regression ---\n",
      "--- Fitting LogisticRegressionModel ---\n",
      "Validation accuracy: 0.9193\n",
      "Validation ROC AUC: 0.5521\n",
      "Validation PR AUC (AUC-PR): 0.0988\n",
      "Model saved to ..\\models\\logistic_regression_model.joblib\n",
      "Reading file: logistic_regression_model.joblib\n",
      "Successfully read file!\n",
      "Reading file: clean_test_data.csv\n",
      "Successfully read file!\n",
      "\n",
      "--- Test Set Performance ---\n",
      "Test accuracy: 0.9193\n",
      "Test ROC AUC: 0.5478\n",
      "Test PR AUC: 0.0981\n"
     ]
    }
   ],
   "execution_count": 7
  },
  {
   "metadata": {
    "ExecuteTime": {
     "end_time": "2025-09-01T08:50:33.886072Z",
     "start_time": "2025-09-01T08:50:00.917891Z"
    }
   },
   "cell_type": "code",
   "source": [
    "model_name = 'ensemble'\n",
    "run_model(model_name)\n",
    "# params = train.tune_model_with_optuna(model_name, n_trials=1)\n",
    "# run_model(model_name, params=params)"
   ],
   "id": "a46444a23db73b63",
   "outputs": [
    {
     "name": "stdout",
     "output_type": "stream",
     "text": [
      "--- Preparing to Train Model: ensemble ---\n",
      "--- Fitting Stacking Ensemble ---\n",
      "Fitting base model: LightGBMModel\n",
      "--- Fitting LightGBMModel ---\n",
      "[LightGBM] [Warning] Found whitespace in feature_names, replace with underlines\n",
      "[LightGBM] [Info] Number of positive: 17377, number of negative: 197880\n",
      "[LightGBM] [Info] Auto-choosing col-wise multi-threading, the overhead of testing was 0.048380 seconds.\n",
      "You can set `force_col_wise=true` to remove the overhead.\n",
      "[LightGBM] [Info] Total Bins 14406\n",
      "[LightGBM] [Info] Number of data points in the train set: 215257, number of used features: 88\n",
      "[LightGBM] [Info] [binary:BoostFromScore]: pavg=0.500000 -> initscore=-0.000000\n",
      "[LightGBM] [Info] Start training from score -0.000000\n",
      "Fitting base model: XGBoostModel\n",
      "--- Fitting XGBoostModel ---\n",
      "Fitting base model: CatBoostModel\n",
      "--- Fitting CatBoostModel ---\n",
      "Fitting base model: LogisticRegressionModel\n",
      "--- Fitting LogisticRegressionModel ---\n",
      "Fitting meta-learner...\n",
      "--- Ensemble Fitting Complete ---\n",
      "Validation accuracy: 0.9164\n",
      "Validation ROC AUC: 0.5607\n",
      "Validation PR AUC (AUC-PR): 0.1038\n",
      "Ensemble model saved to ..\\models\\ensemble_model.joblib\n",
      "Reading file: ensemble_model.joblib\n",
      "Successfully read file!\n",
      "Reading file: clean_test_data.csv\n",
      "Successfully read file!\n",
      "\n",
      "--- Test Set Performance ---\n",
      "Test accuracy: 0.9162\n",
      "Test ROC AUC: 0.5621\n",
      "Test PR AUC: 0.1027\n"
     ]
    }
   ],
   "execution_count": 8
  },
  {
   "metadata": {
    "ExecuteTime": {
     "end_time": "2025-09-01T08:55:40.403156Z",
     "start_time": "2025-09-01T08:50:33.891562Z"
    }
   },
   "cell_type": "code",
   "source": [
    "model_name = 'tabnet'\n",
    "run_model(model_name)\n",
    "# params = train.tune_model_with_optuna(model_name, n_trials=1)\n",
    "# run_model(model_name, params=params)"
   ],
   "id": "a682fd1e533afe32",
   "outputs": [
    {
     "name": "stdout",
     "output_type": "stream",
     "text": [
      "--- Preparing to Train Model: tabnet ---\n",
      "--- Fitting TabNetModel ---\n",
      "Validation accuracy: 0.9193\n",
      "Validation ROC AUC: 0.6145\n",
      "Validation PR AUC (AUC-PR): 0.1226\n",
      "Model saved to ..\\models\\tabnet_model.joblib\n",
      "Reading file: tabnet_model.joblib\n",
      "Successfully read file!\n",
      "Reading file: clean_test_data.csv\n",
      "Successfully read file!\n",
      "\n",
      "--- Test Set Performance ---\n",
      "Test accuracy: 0.9193\n",
      "Test ROC AUC: 0.6123\n",
      "Test PR AUC: 0.1248\n"
     ]
    }
   ],
   "execution_count": 9
  },
  {
   "metadata": {
    "ExecuteTime": {
     "end_time": "2025-09-01T09:03:03.661860Z",
     "start_time": "2025-09-01T08:55:40.424170Z"
    }
   },
   "cell_type": "code",
   "source": [
    "model = 'ziber'\n",
    "run_model(model)\n",
    "# params = train.tune_model_with_optuna(model_name, n_trials=1)\n",
    "# run_model(model_name, params=params)"
   ],
   "id": "ea3e50ebe2b3e3eb",
   "outputs": [
    {
     "name": "stdout",
     "output_type": "stream",
     "text": [
      "--- Preparing to Train Model: ziber ---\n",
      "--- Fitting ZIBerModel ---\n",
      "Iteration 1, Log-Likelihood: -72254.0131\n",
      "Iteration 2, Log-Likelihood: -61208.3912\n",
      "Iteration 3, Log-Likelihood: -59895.4608\n",
      "Iteration 4, Log-Likelihood: -59470.5533\n",
      "Iteration 5, Log-Likelihood: -59281.7925\n",
      "Iteration 6, Log-Likelihood: -59181.1916\n",
      "Iteration 7, Log-Likelihood: -59151.8512\n",
      "Iteration 8, Log-Likelihood: -59088.0712\n",
      "Iteration 9, Log-Likelihood: -59067.8927\n",
      "Iteration 10, Log-Likelihood: -59044.5221\n",
      "Validation accuracy: 0.9192\n",
      "Validation ROC AUC: 0.6138\n",
      "Validation PR AUC (AUC-PR): 0.1264\n",
      "Model saved to ..\\models\\ziber_model.joblib\n",
      "Reading file: ziber_model.joblib\n",
      "Successfully read file!\n",
      "Reading file: clean_test_data.csv\n",
      "Successfully read file!\n",
      "\n",
      "--- Test Set Performance ---\n",
      "Test accuracy: 0.9193\n",
      "Test ROC AUC: 0.6126\n",
      "Test PR AUC: 0.1267\n"
     ]
    }
   ],
   "execution_count": 10
  },
  {
   "metadata": {
    "ExecuteTime": {
     "end_time": "2025-09-01T09:20:28.857861Z",
     "start_time": "2025-09-01T09:03:03.678090Z"
    }
   },
   "cell_type": "code",
   "source": [
    "model = 'lightgbm-ziber'\n",
    "run_model(model)\n",
    "# params = train.tune_model_with_optuna(model_name, n_trials=1)\n",
    "# run_model(model_name, params=params)"
   ],
   "id": "df8cb30c59b76471",
   "outputs": [
    {
     "name": "stdout",
     "output_type": "stream",
     "text": [
      "--- Preparing to Train Model: lightgbm-ziber ---\n",
      "--- Fitting LightGBMZIBerModel ---\n",
      "Fitting base LightGBM model...\n",
      "[LightGBM] [Warning] Found whitespace in feature_names, replace with underlines\n",
      "[LightGBM] [Info] Number of positive: 17377, number of negative: 197880\n",
      "[LightGBM] [Info] Auto-choosing col-wise multi-threading, the overhead of testing was 0.041951 seconds.\n",
      "You can set `force_col_wise=true` to remove the overhead.\n",
      "[LightGBM] [Info] Total Bins 14406\n",
      "[LightGBM] [Info] Number of data points in the train set: 215257, number of used features: 88\n",
      "[LightGBM] [Info] [binary:BoostFromScore]: pavg=0.500000 -> initscore=-0.000000\n",
      "[LightGBM] [Info] Start training from score -0.000000\n",
      "Generating LightGBM predictions as a new feature...\n",
      "Fitting ZIBer model on augmented data...\n",
      "--- Fitting ZIBerModel ---\n",
      "Iteration 1, Log-Likelihood: -65788.6043\n",
      "Iteration 2, Log-Likelihood: -56327.0580\n",
      "Iteration 3, Log-Likelihood: -55088.8254\n",
      "Iteration 4, Log-Likelihood: -54632.9293\n",
      "Iteration 5, Log-Likelihood: -54405.2684\n",
      "Iteration 6, Log-Likelihood: -54232.6291\n",
      "Iteration 7, Log-Likelihood: -54231.3872\n",
      "Iteration 8, Log-Likelihood: -54274.0440\n",
      "Iteration 9, Log-Likelihood: -54207.4883\n",
      "Iteration 10, Log-Likelihood: -54179.0100\n",
      "Validation accuracy: 0.9193\n",
      "Validation ROC AUC: 0.5982\n",
      "Validation PR AUC (AUC-PR): 0.1225\n",
      "LightGBM-ZIBer stacked model saved to ..\\models\\lightgbm-ziber_model.joblib\n",
      "Reading file: lightgbm-ziber_model.joblib\n",
      "Successfully read file!\n",
      "Reading file: clean_test_data.csv\n",
      "Successfully read file!\n",
      "\n",
      "--- Test Set Performance ---\n",
      "Test accuracy: 0.9193\n",
      "Test ROC AUC: 0.5981\n",
      "Test PR AUC: 0.1210\n"
     ]
    }
   ],
   "execution_count": 11
  },
  {
   "metadata": {},
   "cell_type": "code",
   "source": "",
   "id": "e49507e041ac6a13",
   "outputs": [],
   "execution_count": null
  }
 ],
 "metadata": {
  "kernelspec": {
   "display_name": "Python 3",
   "language": "python",
   "name": "python3"
  },
  "language_info": {
   "codemirror_mode": {
    "name": "ipython",
    "version": 2
   },
   "file_extension": ".py",
   "mimetype": "text/x-python",
   "name": "python",
   "nbconvert_exporter": "python",
   "pygments_lexer": "ipython2",
   "version": "2.7.6"
  }
 },
 "nbformat": 4,
 "nbformat_minor": 5
}
