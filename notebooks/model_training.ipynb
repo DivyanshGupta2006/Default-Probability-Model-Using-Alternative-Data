{
 "cells": [
  {
   "cell_type": "code",
   "id": "initial_id",
   "metadata": {
    "collapsed": true,
    "ExecuteTime": {
     "end_time": "2025-08-30T19:46:39.354342Z",
     "start_time": "2025-08-30T19:46:39.013961Z"
    }
   },
   "source": [
    "import sys\n",
    "import os\n",
    "import pandas as pd\n",
    "from pathlib import Path\n",
    "import warnings\n",
    "import joblib\n",
    "\n",
    "warnings.filterwarnings('ignore')"
   ],
   "outputs": [],
   "execution_count": 1
  },
  {
   "metadata": {
    "ExecuteTime": {
     "end_time": "2025-08-30T19:46:39.362119Z",
     "start_time": "2025-08-30T19:46:39.359882Z"
    }
   },
   "cell_type": "code",
   "source": [
    "project_root = os.path.abspath(os.path.join(os.getcwd(), '..'))\n",
    "if project_root not in sys.path:\n",
    "    sys.path.append(project_root)"
   ],
   "id": "1ff8e6124afacac6",
   "outputs": [],
   "execution_count": 2
  },
  {
   "metadata": {
    "ExecuteTime": {
     "end_time": "2025-08-30T19:46:40.446416Z",
     "start_time": "2025-08-30T19:46:39.365473Z"
    }
   },
   "cell_type": "code",
   "source": [
    "from src.model import train, test\n",
    "from src.model.model import (\n",
    "    LightGBMModel,\n",
    "    XGBoostModel,\n",
    "    CatBoostModel,\n",
    "    LogisticRegressionModel,\n",
    "    StackingEnsemble\n",
    ")\n",
    "from src.utils import get_config"
   ],
   "id": "e65d6d2b24c3ac66",
   "outputs": [],
   "execution_count": 3
  },
  {
   "metadata": {
    "ExecuteTime": {
     "end_time": "2025-08-30T19:46:40.456924Z",
     "start_time": "2025-08-30T19:46:40.450067Z"
    }
   },
   "cell_type": "code",
   "source": [
    "config = get_config.read_yaml_from_main()\n",
    "print(\"Configuration loaded successfully!\")"
   ],
   "id": "f8661607222d67d7",
   "outputs": [
    {
     "name": "stdout",
     "output_type": "stream",
     "text": [
      "Configuration loaded successfully!\n"
     ]
    }
   ],
   "execution_count": 4
  },
  {
   "metadata": {
    "ExecuteTime": {
     "end_time": "2025-08-30T19:46:40.467627Z",
     "start_time": "2025-08-30T19:46:40.465069Z"
    }
   },
   "cell_type": "code",
   "source": [
    "def run_model(model_name):\n",
    "    model_dir = Path(config['paths']['model_data_directory'])\n",
    "    model_path = model_dir / f\"{model_name}_model.joblib\"\n",
    "    train.train_model(model_name, model_path)\n",
    "    test.test_model(model_name)"
   ],
   "id": "b04221cbbbf8e1ef",
   "outputs": [],
   "execution_count": 5
  },
  {
   "metadata": {
    "ExecuteTime": {
     "end_time": "2025-08-30T19:46:46.342032Z",
     "start_time": "2025-08-30T19:46:40.470733Z"
    }
   },
   "cell_type": "code",
   "source": [
    "model_name = 'lightgbm'\n",
    "run_model(model_name)"
   ],
   "id": "8cfd708239eff64e",
   "outputs": [
    {
     "name": "stdout",
     "output_type": "stream",
     "text": [
      "--- Preparing to Train Model: lightgbm ---\n",
      "--- Fitting LightGBMModel ---\n",
      "[LightGBM] [Warning] Found whitespace in feature_names, replace with underlines\n",
      "[LightGBM] [Info] Number of positive: 17377, number of negative: 197880\n",
      "[LightGBM] [Info] Auto-choosing col-wise multi-threading, the overhead of testing was 0.064601 seconds.\n",
      "You can set `force_col_wise=true` to remove the overhead.\n",
      "[LightGBM] [Info] Total Bins 15686\n",
      "[LightGBM] [Info] Number of data points in the train set: 215257, number of used features: 96\n",
      "[LightGBM] [Info] [binary:BoostFromScore]: pavg=0.500000 -> initscore=-0.000000\n",
      "[LightGBM] [Info] Start training from score -0.000000\n",
      "Validation ROC AUC: 0.6125\n",
      "Validation PR AUC (AUC-PR): 0.1277\n",
      "Model saved to ..\\models\\lightgbm_model.joblib\n",
      "--- Testing Model from: ../models/lightgbm_model.joblib ---\n",
      "\n",
      "--- Test Set Performance ---\n",
      "Test ROC AUC: 0.6133\n",
      "Test PR AUC: 0.1268\n"
     ]
    }
   ],
   "execution_count": 6
  },
  {
   "metadata": {
    "ExecuteTime": {
     "end_time": "2025-08-30T19:46:51.164821Z",
     "start_time": "2025-08-30T19:46:46.348177Z"
    }
   },
   "cell_type": "code",
   "source": [
    "model_name = 'xgboost'\n",
    "run_model(model_name)"
   ],
   "id": "5deb95454ff25d57",
   "outputs": [
    {
     "name": "stdout",
     "output_type": "stream",
     "text": [
      "--- Preparing to Train Model: xgboost ---\n",
      "--- Fitting XGBoostModel ---\n",
      "Validation ROC AUC: 0.5797\n",
      "Validation PR AUC (AUC-PR): 0.1156\n",
      "Model saved to ..\\models\\xgboost_model.joblib\n",
      "--- Testing Model from: ../models/xgboost_model.joblib ---\n",
      "\n",
      "--- Test Set Performance ---\n",
      "Test ROC AUC: 0.5875\n",
      "Test PR AUC: 0.1158\n"
     ]
    }
   ],
   "execution_count": 7
  },
  {
   "metadata": {
    "ExecuteTime": {
     "end_time": "2025-08-30T19:46:51.171804Z",
     "start_time": "2025-08-30T19:46:51.169397Z"
    }
   },
   "cell_type": "code",
   "source": [
    "# model_name = 'catboost'\n",
    "# run_model(model_name)"
   ],
   "id": "3e377e92357517e8",
   "outputs": [],
   "execution_count": 8
  },
  {
   "metadata": {
    "ExecuteTime": {
     "end_time": "2025-08-30T19:46:55.814155Z",
     "start_time": "2025-08-30T19:46:51.188305Z"
    }
   },
   "cell_type": "code",
   "source": [
    "model_name = 'logistic_regression'\n",
    "run_model(model_name)"
   ],
   "id": "94811a29876db1ad",
   "outputs": [
    {
     "name": "stdout",
     "output_type": "stream",
     "text": [
      "--- Preparing to Train Model: logistic_regression ---\n",
      "--- Fitting LogisticRegressionModel ---\n",
      "Validation ROC AUC: 0.6114\n",
      "Validation PR AUC (AUC-PR): 0.1242\n",
      "Model saved to ..\\models\\logistic_regression_model.joblib\n",
      "--- Testing Model from: ../models/logistic_regression_model.joblib ---\n",
      "\n",
      "--- Test Set Performance ---\n",
      "Test ROC AUC: 0.6140\n",
      "Test PR AUC: 0.1263\n"
     ]
    }
   ],
   "execution_count": 9
  },
  {
   "metadata": {
    "ExecuteTime": {
     "end_time": "2025-08-30T19:46:55.820659Z",
     "start_time": "2025-08-30T19:46:55.818092Z"
    }
   },
   "cell_type": "code",
   "source": [
    "# model_name = 'ensemble'\n",
    "# run_model(model_name)"
   ],
   "id": "a46444a23db73b63",
   "outputs": [],
   "execution_count": 10
  },
  {
   "metadata": {
    "jupyter": {
     "is_executing": true
    },
    "ExecuteTime": {
     "start_time": "2025-08-30T19:54:23.053916Z"
    }
   },
   "cell_type": "code",
   "source": [
    "import optuna\n",
    "from sklearn.metrics import roc_auc_score\n",
    "\n",
    "# --- This code goes in a new cell in your notebook ---\n",
    "\n",
    "def objective(trial):\n",
    "\n",
    "    data_dir = config['paths']['processed_data_directory']\n",
    "    train_df = pd.read_csv(data_dir + 'clean_train_data.csv')\n",
    "    val_df = pd.read_csv(data_dir + \"/clean_val_data.csv\")\n",
    "\n",
    "    # 2. Prepare Data\n",
    "    id_col = config['data']['id']\n",
    "    target_col = config['data']['target']\n",
    "\n",
    "    X_train = train_df.drop(columns=[id_col, target_col])\n",
    "    y_train = train_df[target_col]\n",
    "    X_val = val_df.drop(columns=[id_col, target_col])\n",
    "    y_val = val_df[target_col]\n",
    "\n",
    "    # 1. Define the hyperparameters to search\n",
    "    params = {\n",
    "        'objective': 'binary',\n",
    "        'metric': 'aucpr', # Optimize directly for PR AUC\n",
    "        'n_estimators': trial.suggest_int('n_estimators', 200, 2000),\n",
    "        'learning_rate': trial.suggest_float('learning_rate', 0.01, 0.3),\n",
    "        'num_leaves': trial.suggest_int('num_leaves', 20, 300),\n",
    "        'max_depth': trial.suggest_int('max_depth', 3, 12),\n",
    "        'min_child_samples': trial.suggest_int('min_child_samples', 20, 200),\n",
    "        'feature_fraction': trial.suggest_float('feature_fraction', 0.6, 1.0),\n",
    "        'bagging_fraction': trial.suggest_float('bagging_fraction', 0.6, 1.0),\n",
    "        'bagging_freq': trial.suggest_int('bagging_freq', 1, 7),\n",
    "        'lambda_l1': trial.suggest_float('lambda_l1', 1e-8, 10.0, log=True),\n",
    "        'lambda_l2': trial.suggest_float('lambda_l2', 1e-8, 10.0, log=True),\n",
    "        'class_weight': 'balanced',\n",
    "        'random_state': 42,\n",
    "        'verbose': -1\n",
    "    }\n",
    "\n",
    "    # 2. Create Base Model Instances with the Tuned Parameters\n",
    "\n",
    "    # Using the model classes from your src/model/model.py\n",
    "    model = LightGBMModel(params)\n",
    "    model.fit(X_train, y_train)\n",
    "\n",
    "    val_preds = model.predict_proba(X_val)[:, 1]\n",
    "    roc_auc = roc_auc_score(y_val, val_preds)\n",
    "\n",
    "    return roc_auc\n",
    "\n",
    "# --- Create and run the study ---\n",
    "# We want to MAXIMIZE the PR AUC, so the direction is 'maximize'\n",
    "study = optuna.create_study(direction='maximize')\n",
    "study.optimize(objective, n_trials=250) # Run 50 trials\n",
    "\n",
    "print(\"Best trial:\")\n",
    "trial = study.best_trial\n",
    "print(f\"  Value: {trial.value:.4f}\")\n",
    "print(\"  Params: \")\n",
    "for key, value in trial.params.items():\n",
    "    print(f\"    {key}: {value}\")\n",
    "\n",
    "# You can now retrain your model using these best parameters."
   ],
   "id": "a2f83c1de8e3d954",
   "outputs": [
    {
     "name": "stderr",
     "output_type": "stream",
     "text": [
      "[I 2025-08-31 01:24:23,057] A new study created in memory with name: no-name-a4c56d20-1f71-407a-bdb4-5da49a2d2bd9\n"
     ]
    },
    {
     "name": "stdout",
     "output_type": "stream",
     "text": [
      "--- Fitting LightGBMModel ---\n"
     ]
    },
    {
     "name": "stderr",
     "output_type": "stream",
     "text": [
      "[I 2025-08-31 01:24:33,027] Trial 0 finished with value: 0.6101183853168081 and parameters: {'n_estimators': 912, 'learning_rate': 0.026546647363322858, 'num_leaves': 193, 'max_depth': 5, 'min_child_samples': 124, 'feature_fraction': 0.8591028789629291, 'bagging_fraction': 0.9528020111522623, 'bagging_freq': 7, 'lambda_l1': 4.6629043400251597e-07, 'lambda_l2': 2.6666708478138462e-06}. Best is trial 0 with value: 0.6101183853168081.\n"
     ]
    },
    {
     "name": "stdout",
     "output_type": "stream",
     "text": [
      "--- Fitting LightGBMModel ---\n"
     ]
    },
    {
     "name": "stderr",
     "output_type": "stream",
     "text": [
      "[I 2025-08-31 01:24:39,844] Trial 1 finished with value: 0.5832335394261694 and parameters: {'n_estimators': 505, 'learning_rate': 0.1371697410246986, 'num_leaves': 291, 'max_depth': 5, 'min_child_samples': 117, 'feature_fraction': 0.7491070729141187, 'bagging_fraction': 0.9626997942385456, 'bagging_freq': 1, 'lambda_l1': 0.006413301450857833, 'lambda_l2': 4.867846006457378e-07}. Best is trial 0 with value: 0.6101183853168081.\n"
     ]
    },
    {
     "name": "stdout",
     "output_type": "stream",
     "text": [
      "--- Fitting LightGBMModel ---\n"
     ]
    },
    {
     "name": "stderr",
     "output_type": "stream",
     "text": [
      "[I 2025-08-31 01:24:58,012] Trial 2 finished with value: 0.5708465898271947 and parameters: {'n_estimators': 713, 'learning_rate': 0.07032311365963849, 'num_leaves': 292, 'max_depth': 12, 'min_child_samples': 141, 'feature_fraction': 0.8512310071650804, 'bagging_fraction': 0.6233535352690743, 'bagging_freq': 7, 'lambda_l1': 0.025681955303060118, 'lambda_l2': 0.004758548501323506}. Best is trial 0 with value: 0.6101183853168081.\n"
     ]
    },
    {
     "name": "stdout",
     "output_type": "stream",
     "text": [
      "--- Fitting LightGBMModel ---\n"
     ]
    },
    {
     "name": "stderr",
     "output_type": "stream",
     "text": [
      "[I 2025-08-31 01:25:17,760] Trial 3 finished with value: 0.5550016182761526 and parameters: {'n_estimators': 1165, 'learning_rate': 0.2069824296081856, 'num_leaves': 286, 'max_depth': 8, 'min_child_samples': 115, 'feature_fraction': 0.9262035021040738, 'bagging_fraction': 0.7245305229048068, 'bagging_freq': 5, 'lambda_l1': 0.0016448138985775134, 'lambda_l2': 0.09820411879438742}. Best is trial 0 with value: 0.6101183853168081.\n"
     ]
    },
    {
     "name": "stdout",
     "output_type": "stream",
     "text": [
      "--- Fitting LightGBMModel ---\n"
     ]
    },
    {
     "name": "stderr",
     "output_type": "stream",
     "text": [
      "[I 2025-08-31 01:25:25,535] Trial 4 finished with value: 0.5955098998553418 and parameters: {'n_estimators': 463, 'learning_rate': 0.09096718772181524, 'num_leaves': 132, 'max_depth': 6, 'min_child_samples': 97, 'feature_fraction': 0.6955505780468582, 'bagging_fraction': 0.7433967317913072, 'bagging_freq': 2, 'lambda_l1': 1.3990993775037658e-07, 'lambda_l2': 0.007064612952889489}. Best is trial 0 with value: 0.6101183853168081.\n"
     ]
    },
    {
     "name": "stdout",
     "output_type": "stream",
     "text": [
      "--- Fitting LightGBMModel ---\n"
     ]
    },
    {
     "name": "stderr",
     "output_type": "stream",
     "text": [
      "[I 2025-08-31 01:25:39,397] Trial 5 finished with value: 0.5519285084428368 and parameters: {'n_estimators': 797, 'learning_rate': 0.21306658099814224, 'num_leaves': 280, 'max_depth': 7, 'min_child_samples': 57, 'feature_fraction': 0.9525756716299603, 'bagging_fraction': 0.8584527187007732, 'bagging_freq': 3, 'lambda_l1': 5.870080899107899e-05, 'lambda_l2': 1.2936678707074621e-05}. Best is trial 0 with value: 0.6101183853168081.\n"
     ]
    },
    {
     "name": "stdout",
     "output_type": "stream",
     "text": [
      "--- Fitting LightGBMModel ---\n"
     ]
    },
    {
     "name": "stderr",
     "output_type": "stream",
     "text": [
      "[I 2025-08-31 01:25:50,182] Trial 6 finished with value: 0.6036110584154248 and parameters: {'n_estimators': 1327, 'learning_rate': 0.08549263553996665, 'num_leaves': 265, 'max_depth': 3, 'min_child_samples': 37, 'feature_fraction': 0.6693153403454565, 'bagging_fraction': 0.9816416226326425, 'bagging_freq': 6, 'lambda_l1': 2.730286319558868e-07, 'lambda_l2': 2.588590818688984e-06}. Best is trial 0 with value: 0.6101183853168081.\n"
     ]
    },
    {
     "name": "stdout",
     "output_type": "stream",
     "text": [
      "--- Fitting LightGBMModel ---\n"
     ]
    },
    {
     "name": "stderr",
     "output_type": "stream",
     "text": [
      "[I 2025-08-31 01:26:06,631] Trial 7 finished with value: 0.5595076250735456 and parameters: {'n_estimators': 816, 'learning_rate': 0.21232143591676567, 'num_leaves': 156, 'max_depth': 9, 'min_child_samples': 104, 'feature_fraction': 0.7120339977271648, 'bagging_fraction': 0.8445463300665181, 'bagging_freq': 3, 'lambda_l1': 1.475394617045446e-07, 'lambda_l2': 6.805834134922645}. Best is trial 0 with value: 0.6101183853168081.\n"
     ]
    },
    {
     "name": "stdout",
     "output_type": "stream",
     "text": [
      "--- Fitting LightGBMModel ---\n"
     ]
    },
    {
     "name": "stderr",
     "output_type": "stream",
     "text": [
      "[I 2025-08-31 01:26:11,552] Trial 8 finished with value: 0.6163778444176615 and parameters: {'n_estimators': 206, 'learning_rate': 0.014225756209577476, 'num_leaves': 35, 'max_depth': 3, 'min_child_samples': 144, 'feature_fraction': 0.7561259435313912, 'bagging_fraction': 0.805651685182263, 'bagging_freq': 2, 'lambda_l1': 5.579935356828512e-05, 'lambda_l2': 8.508736418905885}. Best is trial 8 with value: 0.6163778444176615.\n"
     ]
    },
    {
     "name": "stdout",
     "output_type": "stream",
     "text": [
      "--- Fitting LightGBMModel ---\n"
     ]
    },
    {
     "name": "stderr",
     "output_type": "stream",
     "text": [
      "[I 2025-08-31 01:26:41,878] Trial 9 finished with value: 0.5870301429486133 and parameters: {'n_estimators': 1779, 'learning_rate': 0.01728310704279356, 'num_leaves': 141, 'max_depth': 11, 'min_child_samples': 64, 'feature_fraction': 0.8586888089665563, 'bagging_fraction': 0.6660956222085702, 'bagging_freq': 7, 'lambda_l1': 0.00048475190388934153, 'lambda_l2': 0.022084042526333798}. Best is trial 8 with value: 0.6163778444176615.\n"
     ]
    },
    {
     "name": "stdout",
     "output_type": "stream",
     "text": [
      "--- Fitting LightGBMModel ---\n"
     ]
    },
    {
     "name": "stderr",
     "output_type": "stream",
     "text": [
      "[I 2025-08-31 01:26:47,093] Trial 10 finished with value: 0.6046827468204236 and parameters: {'n_estimators': 283, 'learning_rate': 0.29675077964553653, 'num_leaves': 23, 'max_depth': 3, 'min_child_samples': 189, 'feature_fraction': 0.6015236641585884, 'bagging_fraction': 0.7982790974202455, 'bagging_freq': 1, 'lambda_l1': 3.4001313935756885, 'lambda_l2': 1.0960488082665665e-08}. Best is trial 8 with value: 0.6163778444176615.\n"
     ]
    },
    {
     "name": "stdout",
     "output_type": "stream",
     "text": [
      "--- Fitting LightGBMModel ---\n"
     ]
    },
    {
     "name": "stderr",
     "output_type": "stream",
     "text": [
      "[I 2025-08-31 01:27:01,681] Trial 11 finished with value: 0.6109895022171409 and parameters: {'n_estimators': 1568, 'learning_rate': 0.021702714421614394, 'num_leaves': 21, 'max_depth': 5, 'min_child_samples': 168, 'feature_fraction': 0.8206063923483901, 'bagging_fraction': 0.8833787453707539, 'bagging_freq': 4, 'lambda_l1': 9.392420845878046e-06, 'lambda_l2': 8.236424297949139e-05}. Best is trial 8 with value: 0.6163778444176615.\n"
     ]
    },
    {
     "name": "stdout",
     "output_type": "stream",
     "text": [
      "--- Fitting LightGBMModel ---\n"
     ]
    },
    {
     "name": "stderr",
     "output_type": "stream",
     "text": [
      "[I 2025-08-31 01:27:15,945] Trial 12 finished with value: 0.617048899601347 and parameters: {'n_estimators': 1618, 'learning_rate': 0.01109650439568216, 'num_leaves': 30, 'max_depth': 4, 'min_child_samples': 173, 'feature_fraction': 0.7904087235687741, 'bagging_fraction': 0.9044452872224198, 'bagging_freq': 4, 'lambda_l1': 1.875996145681347e-05, 'lambda_l2': 0.0002914356561342159}. Best is trial 12 with value: 0.617048899601347.\n"
     ]
    },
    {
     "name": "stdout",
     "output_type": "stream",
     "text": [
      "--- Fitting LightGBMModel ---\n"
     ]
    },
    {
     "name": "stderr",
     "output_type": "stream",
     "text": [
      "[I 2025-08-31 01:27:29,392] Trial 13 finished with value: 0.6075671780919176 and parameters: {'n_estimators': 1832, 'learning_rate': 0.058037206931575075, 'num_leaves': 75, 'max_depth': 3, 'min_child_samples': 161, 'feature_fraction': 0.7759170872360942, 'bagging_fraction': 0.9181927377666955, 'bagging_freq': 4, 'lambda_l1': 1.1511639495071484e-05, 'lambda_l2': 5.678326345415028}. Best is trial 12 with value: 0.617048899601347.\n"
     ]
    },
    {
     "name": "stdout",
     "output_type": "stream",
     "text": [
      "--- Fitting LightGBMModel ---\n"
     ]
    },
    {
     "name": "stderr",
     "output_type": "stream",
     "text": [
      "[I 2025-08-31 01:27:41,721] Trial 14 finished with value: 0.5845292052552977 and parameters: {'n_estimators': 1423, 'learning_rate': 0.14227502350324556, 'num_leaves': 80, 'max_depth': 4, 'min_child_samples': 198, 'feature_fraction': 0.7755648508199641, 'bagging_fraction': 0.7968287833721751, 'bagging_freq': 3, 'lambda_l1': 0.17097893043104717, 'lambda_l2': 0.0003088623058642401}. Best is trial 12 with value: 0.617048899601347.\n"
     ]
    },
    {
     "name": "stdout",
     "output_type": "stream",
     "text": [
      "--- Fitting LightGBMModel ---\n"
     ]
    },
    {
     "name": "stderr",
     "output_type": "stream",
     "text": [
      "[I 2025-08-31 01:27:56,408] Trial 15 finished with value: 0.5836038481763381 and parameters: {'n_estimators': 1993, 'learning_rate': 0.11547259077150757, 'num_leaves': 68, 'max_depth': 4, 'min_child_samples': 158, 'feature_fraction': 0.6298922175515634, 'bagging_fraction': 0.7444144137032567, 'bagging_freq': 5, 'lambda_l1': 4.464805794240276e-06, 'lambda_l2': 0.39925643414078227}. Best is trial 12 with value: 0.617048899601347.\n"
     ]
    },
    {
     "name": "stdout",
     "output_type": "stream",
     "text": [
      "--- Fitting LightGBMModel ---\n"
     ]
    },
    {
     "name": "stderr",
     "output_type": "stream",
     "text": [
      "[I 2025-08-31 01:28:11,821] Trial 16 finished with value: 0.5838606166856899 and parameters: {'n_estimators': 1056, 'learning_rate': 0.05733100295912748, 'num_leaves': 102, 'max_depth': 7, 'min_child_samples': 174, 'feature_fraction': 0.7361357077878503, 'bagging_fraction': 0.9051423975209937, 'bagging_freq': 2, 'lambda_l1': 1.148348789195053e-08, 'lambda_l2': 0.0012896117611338484}. Best is trial 12 with value: 0.617048899601347.\n"
     ]
    },
    {
     "name": "stdout",
     "output_type": "stream",
     "text": [
      "--- Fitting LightGBMModel ---\n"
     ]
    },
    {
     "name": "stderr",
     "output_type": "stream",
     "text": [
      "[I 2025-08-31 01:29:13,419] Trial 17 finished with value: 0.5613910416579011 and parameters: {'n_estimators': 1599, 'learning_rate': 0.18537050756532478, 'num_leaves': 203, 'max_depth': 9, 'min_child_samples': 138, 'feature_fraction': 0.8123590955359371, 'bagging_fraction': 0.8244444196713637, 'bagging_freq': 2, 'lambda_l1': 8.899729965921098e-05, 'lambda_l2': 0.5330411774741496}. Best is trial 12 with value: 0.617048899601347.\n"
     ]
    },
    {
     "name": "stdout",
     "output_type": "stream",
     "text": [
      "--- Fitting LightGBMModel ---\n"
     ]
    },
    {
     "name": "stderr",
     "output_type": "stream",
     "text": [
      "[I 2025-08-31 01:29:48,503] Trial 18 finished with value: 0.5606913465200021 and parameters: {'n_estimators': 1250, 'learning_rate': 0.27379357468209903, 'num_leaves': 47, 'max_depth': 4, 'min_child_samples': 138, 'feature_fraction': 0.9055175136496305, 'bagging_fraction': 0.777796479566536, 'bagging_freq': 5, 'lambda_l1': 0.00016312279904131383, 'lambda_l2': 0.00011607133913447532}. Best is trial 12 with value: 0.617048899601347.\n"
     ]
    },
    {
     "name": "stdout",
     "output_type": "stream",
     "text": [
      "--- Fitting LightGBMModel ---\n"
     ]
    },
    {
     "name": "stderr",
     "output_type": "stream",
     "text": [
      "[I 2025-08-31 01:30:08,339] Trial 19 finished with value: 0.6127789404884992 and parameters: {'n_estimators': 231, 'learning_rate': 0.044744276209331066, 'num_leaves': 110, 'max_depth': 6, 'min_child_samples': 83, 'feature_fraction': 0.6632888919600441, 'bagging_fraction': 0.6925071276073381, 'bagging_freq': 3, 'lambda_l1': 2.0080187321480515e-06, 'lambda_l2': 0.0008330088685223918}. Best is trial 12 with value: 0.617048899601347.\n"
     ]
    },
    {
     "name": "stdout",
     "output_type": "stream",
     "text": [
      "--- Fitting LightGBMModel ---\n"
     ]
    },
    {
     "name": "stderr",
     "output_type": "stream",
     "text": [
      "[I 2025-08-31 01:30:37,661] Trial 20 finished with value: 0.5845765680452508 and parameters: {'n_estimators': 578, 'learning_rate': 0.10285100941559568, 'num_leaves': 198, 'max_depth': 6, 'min_child_samples': 180, 'feature_fraction': 0.9916455570407006, 'bagging_fraction': 0.928045206320436, 'bagging_freq': 4, 'lambda_l1': 0.03612630370154391, 'lambda_l2': 7.348682129000926e-08}. Best is trial 12 with value: 0.617048899601347.\n"
     ]
    },
    {
     "name": "stdout",
     "output_type": "stream",
     "text": [
      "--- Fitting LightGBMModel ---\n"
     ]
    },
    {
     "name": "stderr",
     "output_type": "stream",
     "text": [
      "[I 2025-08-31 01:30:57,460] Trial 21 finished with value: 0.6169093190085728 and parameters: {'n_estimators': 232, 'learning_rate': 0.03745205110297705, 'num_leaves': 111, 'max_depth': 6, 'min_child_samples': 91, 'feature_fraction': 0.6452296648729785, 'bagging_fraction': 0.667407883667598, 'bagging_freq': 3, 'lambda_l1': 3.946317449324487e-06, 'lambda_l2': 2.8019839925597258e-05}. Best is trial 12 with value: 0.617048899601347.\n"
     ]
    },
    {
     "name": "stdout",
     "output_type": "stream",
     "text": [
      "--- Fitting LightGBMModel ---\n"
     ]
    },
    {
     "name": "stderr",
     "output_type": "stream",
     "text": [
      "[I 2025-08-31 01:31:18,150] Trial 22 finished with value: 0.6194417369036345 and parameters: {'n_estimators': 390, 'learning_rate': 0.03597099239889046, 'num_leaves': 54, 'max_depth': 4, 'min_child_samples': 154, 'feature_fraction': 0.7531002025687771, 'bagging_fraction': 0.6210666901502615, 'bagging_freq': 2, 'lambda_l1': 3.2075332380889834e-05, 'lambda_l2': 3.1725927602669235e-05}. Best is trial 22 with value: 0.6194417369036345.\n"
     ]
    },
    {
     "name": "stdout",
     "output_type": "stream",
     "text": [
      "--- Fitting LightGBMModel ---\n"
     ]
    },
    {
     "name": "stderr",
     "output_type": "stream",
     "text": [
      "[I 2025-08-31 01:31:38,634] Trial 23 finished with value: 0.6150399865056262 and parameters: {'n_estimators': 347, 'learning_rate': 0.04022015636543759, 'num_leaves': 58, 'max_depth': 5, 'min_child_samples': 85, 'feature_fraction': 0.7163662312685026, 'bagging_fraction': 0.6176266449272152, 'bagging_freq': 4, 'lambda_l1': 1.8589115656819026e-05, 'lambda_l2': 2.6395372487860306e-05}. Best is trial 22 with value: 0.6194417369036345.\n"
     ]
    },
    {
     "name": "stdout",
     "output_type": "stream",
     "text": [
      "--- Fitting LightGBMModel ---\n"
     ]
    },
    {
     "name": "stderr",
     "output_type": "stream",
     "text": [
      "[I 2025-08-31 01:32:02,942] Trial 24 finished with value: 0.6048146774265333 and parameters: {'n_estimators': 634, 'learning_rate': 0.07826130685700781, 'num_leaves': 102, 'max_depth': 4, 'min_child_samples': 23, 'feature_fraction': 0.665884069906494, 'bagging_fraction': 0.6500179087308313, 'bagging_freq': 3, 'lambda_l1': 9.590181353952642e-07, 'lambda_l2': 1.0483686294586815e-05}. Best is trial 22 with value: 0.6194417369036345.\n"
     ]
    },
    {
     "name": "stdout",
     "output_type": "stream",
     "text": [
      "--- Fitting LightGBMModel ---\n"
     ]
    },
    {
     "name": "stderr",
     "output_type": "stream",
     "text": [
      "[I 2025-08-31 01:32:25,462] Trial 25 finished with value: 0.6055985097522005 and parameters: {'n_estimators': 409, 'learning_rate': 0.04564197190649312, 'num_leaves': 89, 'max_depth': 6, 'min_child_samples': 153, 'feature_fraction': 0.7919813949313688, 'bagging_fraction': 0.6007271419004636, 'bagging_freq': 1, 'lambda_l1': 0.0009543660663461261, 'lambda_l2': 1.0221453938008546e-06}. Best is trial 22 with value: 0.6194417369036345.\n"
     ]
    },
    {
     "name": "stdout",
     "output_type": "stream",
     "text": [
      "--- Fitting LightGBMModel ---\n"
     ]
    },
    {
     "name": "stderr",
     "output_type": "stream",
     "text": [
      "[I 2025-08-31 01:33:01,620] Trial 26 finished with value: 0.5682113784027146 and parameters: {'n_estimators': 1001, 'learning_rate': 0.1223605047115923, 'num_leaves': 47, 'max_depth': 8, 'min_child_samples': 76, 'feature_fraction': 0.6298272877171369, 'bagging_fraction': 0.6914563154943267, 'bagging_freq': 2, 'lambda_l1': 2.2247820605724284e-05, 'lambda_l2': 7.956275578252914e-05}. Best is trial 22 with value: 0.6194417369036345.\n"
     ]
    },
    {
     "name": "stdout",
     "output_type": "stream",
     "text": [
      "--- Fitting LightGBMModel ---\n"
     ]
    },
    {
     "name": "stderr",
     "output_type": "stream",
     "text": [
      "[I 2025-08-31 01:33:38,027] Trial 27 finished with value: 0.572813776298634 and parameters: {'n_estimators': 1528, 'learning_rate': 0.18024775145625163, 'num_leaves': 114, 'max_depth': 4, 'min_child_samples': 199, 'feature_fraction': 0.6981303287718669, 'bagging_fraction': 0.6485894078661527, 'bagging_freq': 5, 'lambda_l1': 1.2802647267921768e-08, 'lambda_l2': 1.740459506502792e-07}. Best is trial 22 with value: 0.6194417369036345.\n"
     ]
    },
    {
     "name": "stdout",
     "output_type": "stream",
     "text": [
      "--- Fitting LightGBMModel ---\n"
     ]
    },
    {
     "name": "stderr",
     "output_type": "stream",
     "text": [
      "[I 2025-08-31 01:34:04,194] Trial 28 finished with value: 0.6198500992712426 and parameters: {'n_estimators': 562, 'learning_rate': 0.010855754074885994, 'num_leaves': 59, 'max_depth': 5, 'min_child_samples': 126, 'feature_fraction': 0.8307900545132114, 'bagging_fraction': 0.6864200731209178, 'bagging_freq': 3, 'lambda_l1': 2.8531341874875232e-06, 'lambda_l2': 0.00034249534816263523}. Best is trial 28 with value: 0.6198500992712426.\n"
     ]
    },
    {
     "name": "stdout",
     "output_type": "stream",
     "text": [
      "--- Fitting LightGBMModel ---\n"
     ]
    },
    {
     "name": "stderr",
     "output_type": "stream",
     "text": [
      "[I 2025-08-31 01:34:36,897] Trial 29 finished with value: 0.6172940601425232 and parameters: {'n_estimators': 935, 'learning_rate': 0.010948099371850333, 'num_leaves': 221, 'max_depth': 5, 'min_child_samples': 127, 'feature_fraction': 0.8268546869391601, 'bagging_fraction': 0.7049239846216632, 'bagging_freq': 4, 'lambda_l1': 6.642092550681353e-07, 'lambda_l2': 0.0013839878158765056}. Best is trial 28 with value: 0.6198500992712426.\n"
     ]
    },
    {
     "name": "stdout",
     "output_type": "stream",
     "text": [
      "--- Fitting LightGBMModel ---\n"
     ]
    },
    {
     "name": "stderr",
     "output_type": "stream",
     "text": [
      "[I 2025-08-31 01:35:06,853] Trial 30 finished with value: 0.598598138677185 and parameters: {'n_estimators': 853, 'learning_rate': 0.059981892530627266, 'num_leaves': 251, 'max_depth': 5, 'min_child_samples': 127, 'feature_fraction': 0.8359613678771483, 'bagging_fraction': 0.7080969481746493, 'bagging_freq': 6, 'lambda_l1': 4.41431200955975e-08, 'lambda_l2': 0.0022798087210028337}. Best is trial 28 with value: 0.6198500992712426.\n"
     ]
    },
    {
     "name": "stdout",
     "output_type": "stream",
     "text": [
      "--- Fitting LightGBMModel ---\n"
     ]
    },
    {
     "name": "stderr",
     "output_type": "stream",
     "text": [
      "[I 2025-08-31 01:35:37,918] Trial 31 finished with value: 0.6175686237367485 and parameters: {'n_estimators': 985, 'learning_rate': 0.014539347548446832, 'num_leaves': 242, 'max_depth': 4, 'min_child_samples': 151, 'feature_fraction': 0.8791747645870607, 'bagging_fraction': 0.759838095033487, 'bagging_freq': 4, 'lambda_l1': 8.466381109867048e-07, 'lambda_l2': 0.00038047288216525504}. Best is trial 28 with value: 0.6198500992712426.\n"
     ]
    },
    {
     "name": "stdout",
     "output_type": "stream",
     "text": [
      "--- Fitting LightGBMModel ---\n"
     ]
    },
    {
     "name": "stderr",
     "output_type": "stream",
     "text": [
      "[I 2025-08-31 01:36:10,731] Trial 32 finished with value: 0.6079267781273101 and parameters: {'n_estimators': 919, 'learning_rate': 0.03111839043545303, 'num_leaves': 220, 'max_depth': 5, 'min_child_samples': 124, 'feature_fraction': 0.8895593349659, 'bagging_fraction': 0.7539703010389569, 'bagging_freq': 4, 'lambda_l1': 8.077853326909362e-07, 'lambda_l2': 0.01803505935599119}. Best is trial 28 with value: 0.6198500992712426.\n"
     ]
    },
    {
     "name": "stdout",
     "output_type": "stream",
     "text": [
      "--- Fitting LightGBMModel ---\n"
     ]
    },
    {
     "name": "stderr",
     "output_type": "stream",
     "text": [
      "[I 2025-08-31 01:36:38,494] Trial 33 finished with value: 0.6125028823604556 and parameters: {'n_estimators': 668, 'learning_rate': 0.02907904446924258, 'num_leaves': 236, 'max_depth': 5, 'min_child_samples': 126, 'feature_fraction': 0.879958755687519, 'bagging_fraction': 0.7127917548789275, 'bagging_freq': 3, 'lambda_l1': 5.252767790052085e-08, 'lambda_l2': 0.0004702211042220705}. Best is trial 28 with value: 0.6198500992712426.\n"
     ]
    },
    {
     "name": "stdout",
     "output_type": "stream",
     "text": [
      "--- Fitting LightGBMModel ---\n"
     ]
    },
    {
     "name": "stderr",
     "output_type": "stream",
     "text": [
      "[I 2025-08-31 01:36:59,574] Trial 34 finished with value: 0.6202836090701788 and parameters: {'n_estimators': 513, 'learning_rate': 0.010279647682804456, 'num_leaves': 186, 'max_depth': 3, 'min_child_samples': 148, 'feature_fraction': 0.8315170261461632, 'bagging_fraction': 0.6402043369693041, 'bagging_freq': 1, 'lambda_l1': 1.3047628305976415e-06, 'lambda_l2': 5.941719979872871e-06}. Best is trial 34 with value: 0.6202836090701788.\n"
     ]
    },
    {
     "name": "stdout",
     "output_type": "stream",
     "text": [
      "--- Fitting LightGBMModel ---\n"
     ]
    },
    {
     "name": "stderr",
     "output_type": "stream",
     "text": [
      "[I 2025-08-31 01:37:19,929] Trial 35 finished with value: 0.6154528831368532 and parameters: {'n_estimators': 517, 'learning_rate': 0.06827395662703388, 'num_leaves': 166, 'max_depth': 3, 'min_child_samples': 151, 'feature_fraction': 0.8769405332098137, 'bagging_fraction': 0.6322122106919639, 'bagging_freq': 1, 'lambda_l1': 2.4498072950804047e-06, 'lambda_l2': 2.480716142851459e-06}. Best is trial 34 with value: 0.6202836090701788.\n"
     ]
    },
    {
     "name": "stdout",
     "output_type": "stream",
     "text": [
      "--- Fitting LightGBMModel ---\n"
     ]
    },
    {
     "name": "stderr",
     "output_type": "stream",
     "text": [
      "[I 2025-08-31 01:37:42,207] Trial 36 finished with value: 0.6184572950766789 and parameters: {'n_estimators': 723, 'learning_rate': 0.04588075401579686, 'num_leaves': 175, 'max_depth': 3, 'min_child_samples': 110, 'feature_fraction': 0.8504588876144231, 'bagging_fraction': 0.6738455422451499, 'bagging_freq': 1, 'lambda_l1': 0.005272373379597285, 'lambda_l2': 5.537671797398425e-06}. Best is trial 34 with value: 0.6202836090701788.\n"
     ]
    },
    {
     "name": "stdout",
     "output_type": "stream",
     "text": [
      "--- Fitting LightGBMModel ---\n"
     ]
    },
    {
     "name": "stderr",
     "output_type": "stream",
     "text": [
      "[I 2025-08-31 01:38:05,408] Trial 37 finished with value: 0.6101643295661877 and parameters: {'n_estimators': 749, 'learning_rate': 0.09391006515909174, 'num_leaves': 181, 'max_depth': 3, 'min_child_samples': 107, 'feature_fraction': 0.8453339181285404, 'bagging_fraction': 0.6035102613334601, 'bagging_freq': 1, 'lambda_l1': 0.00332442320944698, 'lambda_l2': 5.151700873983699e-06}. Best is trial 34 with value: 0.6202836090701788.\n"
     ]
    },
    {
     "name": "stdout",
     "output_type": "stream",
     "text": [
      "--- Fitting LightGBMModel ---\n"
     ]
    },
    {
     "name": "stderr",
     "output_type": "stream",
     "text": [
      "[I 2025-08-31 01:38:25,102] Trial 38 finished with value: 0.6199103809128476 and parameters: {'n_estimators': 437, 'learning_rate': 0.04782887322273032, 'num_leaves': 180, 'max_depth': 3, 'min_child_samples': 113, 'feature_fraction': 0.9105321105327848, 'bagging_fraction': 0.6683867237743073, 'bagging_freq': 1, 'lambda_l1': 0.00023359224550993887, 'lambda_l2': 4.969101814955169e-07}. Best is trial 34 with value: 0.6202836090701788.\n"
     ]
    },
    {
     "name": "stdout",
     "output_type": "stream",
     "text": [
      "--- Fitting LightGBMModel ---\n"
     ]
    },
    {
     "name": "stderr",
     "output_type": "stream",
     "text": [
      "[I 2025-08-31 01:38:45,757] Trial 39 finished with value: 0.6158735437446121 and parameters: {'n_estimators': 434, 'learning_rate': 0.07603655922886943, 'num_leaves': 148, 'max_depth': 3, 'min_child_samples': 100, 'feature_fraction': 0.9333620359709186, 'bagging_fraction': 0.6369091082665536, 'bagging_freq': 2, 'lambda_l1': 0.0002887893646973366, 'lambda_l2': 7.559813330195548e-07}. Best is trial 34 with value: 0.6202836090701788.\n"
     ]
    },
    {
     "name": "stdout",
     "output_type": "stream",
     "text": [
      "--- Fitting LightGBMModel ---\n"
     ]
    },
    {
     "name": "stderr",
     "output_type": "stream",
     "text": [
      "[I 2025-08-31 01:39:20,141] Trial 40 finished with value: 0.5983123027516166 and parameters: {'n_estimators': 552, 'learning_rate': 0.033155668197049945, 'num_leaves': 127, 'max_depth': 11, 'min_child_samples': 115, 'feature_fraction': 0.753412178199151, 'bagging_fraction': 0.7286715512049649, 'bagging_freq': 1, 'lambda_l1': 5.082336046115631e-05, 'lambda_l2': 2.0930207641459683e-07}. Best is trial 34 with value: 0.6202836090701788.\n"
     ]
    },
    {
     "name": "stdout",
     "output_type": "stream",
     "text": [
      "--- Fitting LightGBMModel ---\n"
     ]
    },
    {
     "name": "stderr",
     "output_type": "stream",
     "text": [
      "[I 2025-08-31 01:39:39,221] Trial 41 finished with value: 0.6193029795710145 and parameters: {'n_estimators': 414, 'learning_rate': 0.047965998333748254, 'num_leaves': 179, 'max_depth': 3, 'min_child_samples': 138, 'feature_fraction': 0.9084638959611221, 'bagging_fraction': 0.6725114983038307, 'bagging_freq': 1, 'lambda_l1': 0.00203397541030555, 'lambda_l2': 3.0738353921496383e-06}. Best is trial 34 with value: 0.6202836090701788.\n"
     ]
    },
    {
     "name": "stdout",
     "output_type": "stream",
     "text": [
      "--- Fitting LightGBMModel ---\n"
     ]
    },
    {
     "name": "stderr",
     "output_type": "stream",
     "text": [
      "[I 2025-08-31 01:39:57,742] Trial 42 finished with value: 0.6196863654920957 and parameters: {'n_estimators': 351, 'learning_rate': 0.05578123021473083, 'num_leaves': 188, 'max_depth': 3, 'min_child_samples': 139, 'feature_fraction': 0.9489488098445696, 'bagging_fraction': 0.6553418110272635, 'bagging_freq': 1, 'lambda_l1': 0.0006492146303054295, 'lambda_l2': 3.299879112215833e-08}. Best is trial 34 with value: 0.6202836090701788.\n"
     ]
    },
    {
     "name": "stdout",
     "output_type": "stream",
     "text": [
      "--- Fitting LightGBMModel ---\n"
     ]
    },
    {
     "name": "stderr",
     "output_type": "stream",
     "text": [
      "[I 2025-08-31 01:40:18,601] Trial 43 finished with value: 0.6135526847108912 and parameters: {'n_estimators': 346, 'learning_rate': 0.06829877730359585, 'num_leaves': 210, 'max_depth': 4, 'min_child_samples': 133, 'feature_fraction': 0.9608252570195391, 'bagging_fraction': 0.6212291124088977, 'bagging_freq': 2, 'lambda_l1': 0.01877624690652372, 'lambda_l2': 2.569568282623825e-08}. Best is trial 34 with value: 0.6202836090701788.\n"
     ]
    },
    {
     "name": "stdout",
     "output_type": "stream",
     "text": [
      "--- Fitting LightGBMModel ---\n"
     ]
    },
    {
     "name": "stderr",
     "output_type": "stream",
     "text": [
      "[I 2025-08-31 01:40:36,553] Trial 44 finished with value: 0.620899641978091 and parameters: {'n_estimators': 320, 'learning_rate': 0.025711492024767274, 'num_leaves': 159, 'max_depth': 3, 'min_child_samples': 146, 'feature_fraction': 0.9984984880407817, 'bagging_fraction': 0.6505537641314048, 'bagging_freq': 1, 'lambda_l1': 0.0006695759403075248, 'lambda_l2': 4.3401775271577085e-08}. Best is trial 44 with value: 0.620899641978091.\n"
     ]
    },
    {
     "name": "stdout",
     "output_type": "stream",
     "text": [
      "--- Fitting LightGBMModel ---\n"
     ]
    },
    {
     "name": "stderr",
     "output_type": "stream",
     "text": [
      "[I 2025-08-31 01:40:57,789] Trial 45 finished with value: 0.6204695898718028 and parameters: {'n_estimators': 496, 'learning_rate': 0.023983111662681012, 'num_leaves': 158, 'max_depth': 3, 'min_child_samples': 120, 'feature_fraction': 0.9884839094219817, 'bagging_fraction': 0.6468432645448338, 'bagging_freq': 1, 'lambda_l1': 0.0006728697978930459, 'lambda_l2': 5.8499105231892756e-08}. Best is trial 44 with value: 0.620899641978091.\n"
     ]
    },
    {
     "name": "stdout",
     "output_type": "stream",
     "text": [
      "--- Fitting LightGBMModel ---\n"
     ]
    },
    {
     "name": "stderr",
     "output_type": "stream",
     "text": [
      "[I 2025-08-31 01:41:20,281] Trial 46 finished with value: 0.6209356754417671 and parameters: {'n_estimators': 626, 'learning_rate': 0.02310875667193532, 'num_leaves': 161, 'max_depth': 3, 'min_child_samples': 113, 'feature_fraction': 0.9993284531348676, 'bagging_fraction': 0.6928258067924233, 'bagging_freq': 1, 'lambda_l1': 0.00018378019893641888, 'lambda_l2': 2.3309049853605813e-07}. Best is trial 46 with value: 0.6209356754417671.\n"
     ]
    },
    {
     "name": "stdout",
     "output_type": "stream",
     "text": [
      "--- Fitting LightGBMModel ---\n"
     ]
    },
    {
     "name": "stderr",
     "output_type": "stream",
     "text": [
      "[I 2025-08-31 01:41:43,011] Trial 47 finished with value: 0.6197277691450858 and parameters: {'n_estimators': 650, 'learning_rate': 0.02375163738625339, 'num_leaves': 158, 'max_depth': 3, 'min_child_samples': 117, 'feature_fraction': 0.9975423553115641, 'bagging_fraction': 0.7262514210134743, 'bagging_freq': 1, 'lambda_l1': 0.0002481138756929375, 'lambda_l2': 1.0525488165169279e-07}. Best is trial 46 with value: 0.6209356754417671.\n"
     ]
    },
    {
     "name": "stdout",
     "output_type": "stream",
     "text": [
      "--- Fitting LightGBMModel ---\n"
     ]
    },
    {
     "name": "stderr",
     "output_type": "stream",
     "text": [
      "[I 2025-08-31 01:42:03,877] Trial 48 finished with value: 0.5976022598668552 and parameters: {'n_estimators': 474, 'learning_rate': 0.2383394665055445, 'num_leaves': 137, 'max_depth': 3, 'min_child_samples': 96, 'feature_fraction': 0.9757089178949473, 'bagging_fraction': 0.6433596083404196, 'bagging_freq': 1, 'lambda_l1': 0.009833707297839984, 'lambda_l2': 3.532221423482164e-07}. Best is trial 46 with value: 0.6209356754417671.\n"
     ]
    },
    {
     "name": "stdout",
     "output_type": "stream",
     "text": [
      "--- Fitting LightGBMModel ---\n"
     ]
    },
    {
     "name": "stderr",
     "output_type": "stream",
     "text": [
      "[I 2025-08-31 01:42:23,025] Trial 49 finished with value: 0.6198878109190793 and parameters: {'n_estimators': 287, 'learning_rate': 0.024892439112431743, 'num_leaves': 168, 'max_depth': 4, 'min_child_samples': 145, 'feature_fraction': 0.9792563293010758, 'bagging_fraction': 0.659317769650519, 'bagging_freq': 1, 'lambda_l1': 0.149722358609307, 'lambda_l2': 1.0404646203111932e-08}. Best is trial 46 with value: 0.6209356754417671.\n"
     ]
    },
    {
     "name": "stdout",
     "output_type": "stream",
     "text": [
      "--- Fitting LightGBMModel ---\n"
     ]
    },
    {
     "name": "stderr",
     "output_type": "stream",
     "text": [
      "[I 2025-08-31 01:42:44,548] Trial 50 finished with value: 0.6129177421505121 and parameters: {'n_estimators': 488, 'learning_rate': 0.08852822827587611, 'num_leaves': 148, 'max_depth': 3, 'min_child_samples': 165, 'feature_fraction': 0.9350524007321619, 'bagging_fraction': 0.6880030034563571, 'bagging_freq': 2, 'lambda_l1': 0.00011597762733840841, 'lambda_l2': 3.344878280291644e-08}. Best is trial 46 with value: 0.6209356754417671.\n"
     ]
    },
    {
     "name": "stdout",
     "output_type": "stream",
     "text": [
      "--- Fitting LightGBMModel ---\n"
     ]
    },
    {
     "name": "stderr",
     "output_type": "stream",
     "text": [
      "[I 2025-08-31 01:43:03,774] Trial 51 finished with value: 0.6209266449111516 and parameters: {'n_estimators': 266, 'learning_rate': 0.025250671028511737, 'num_leaves': 167, 'max_depth': 4, 'min_child_samples': 121, 'feature_fraction': 0.9699554890769253, 'bagging_fraction': 0.6569901733376665, 'bagging_freq': 1, 'lambda_l1': 1.5485771200451015, 'lambda_l2': 1.1502330212462476e-08}. Best is trial 46 with value: 0.6209356754417671.\n"
     ]
    },
    {
     "name": "stdout",
     "output_type": "stream",
     "text": [
      "--- Fitting LightGBMModel ---\n"
     ]
    },
    {
     "name": "stderr",
     "output_type": "stream",
     "text": [
      "[I 2025-08-31 01:43:22,138] Trial 52 finished with value: 0.6210167728997348 and parameters: {'n_estimators': 307, 'learning_rate': 0.02228547083582471, 'num_leaves': 188, 'max_depth': 3, 'min_child_samples': 120, 'feature_fraction': 0.9681617375597851, 'bagging_fraction': 0.6315036017203621, 'bagging_freq': 1, 'lambda_l1': 3.431094984361913, 'lambda_l2': 7.865654409808722e-08}. Best is trial 52 with value: 0.6210167728997348.\n"
     ]
    },
    {
     "name": "stdout",
     "output_type": "stream",
     "text": [
      "--- Fitting LightGBMModel ---\n"
     ]
    },
    {
     "name": "stderr",
     "output_type": "stream",
     "text": [
      "[I 2025-08-31 01:43:40,529] Trial 53 finished with value: 0.6208467443467928 and parameters: {'n_estimators': 283, 'learning_rate': 0.02023230646364986, 'num_leaves': 128, 'max_depth': 4, 'min_child_samples': 132, 'feature_fraction': 0.9655839756524017, 'bagging_fraction': 0.6318974157869897, 'bagging_freq': 1, 'lambda_l1': 7.285965874989995, 'lambda_l2': 8.619135904111228e-08}. Best is trial 52 with value: 0.6210167728997348.\n"
     ]
    },
    {
     "name": "stdout",
     "output_type": "stream",
     "text": [
      "--- Fitting LightGBMModel ---\n"
     ]
    },
    {
     "name": "stderr",
     "output_type": "stream",
     "text": [
      "[I 2025-08-31 01:44:00,316] Trial 54 finished with value: 0.6199590482535067 and parameters: {'n_estimators': 288, 'learning_rate': 0.02717076443018167, 'num_leaves': 126, 'max_depth': 4, 'min_child_samples': 103, 'feature_fraction': 0.9706579500869387, 'bagging_fraction': 0.6170736843223996, 'bagging_freq': 2, 'lambda_l1': 7.9716806459505305, 'lambda_l2': 7.328505817496227e-08}. Best is trial 52 with value: 0.6210167728997348.\n"
     ]
    },
    {
     "name": "stdout",
     "output_type": "stream",
     "text": [
      "--- Fitting LightGBMModel ---\n"
     ]
    },
    {
     "name": "stderr",
     "output_type": "stream",
     "text": [
      "[I 2025-08-31 01:44:23,289] Trial 55 finished with value: 0.613590048056355 and parameters: {'n_estimators': 212, 'learning_rate': 0.02245652846931904, 'num_leaves': 148, 'max_depth': 9, 'min_child_samples': 120, 'feature_fraction': 0.9496653844633094, 'bagging_fraction': 0.6298522845083783, 'bagging_freq': 1, 'lambda_l1': 1.066630976205954, 'lambda_l2': 1.822908637879751e-08}. Best is trial 52 with value: 0.6210167728997348.\n"
     ]
    },
    {
     "name": "stdout",
     "output_type": "stream",
     "text": [
      "--- Fitting LightGBMModel ---\n"
     ]
    },
    {
     "name": "stderr",
     "output_type": "stream",
     "text": [
      "[I 2025-08-31 01:44:42,559] Trial 56 finished with value: 0.6141342863460428 and parameters: {'n_estimators': 303, 'learning_rate': 0.060127593513293304, 'num_leaves': 165, 'max_depth': 4, 'min_child_samples': 130, 'feature_fraction': 0.9898863099217314, 'bagging_fraction': 0.6117336347811492, 'bagging_freq': 2, 'lambda_l1': 1.2280896084058508, 'lambda_l2': 6.677797755190793e-08}. Best is trial 52 with value: 0.6210167728997348.\n"
     ]
    },
    {
     "name": "stdout",
     "output_type": "stream",
     "text": [
      "--- Fitting LightGBMModel ---\n"
     ]
    },
    {
     "name": "stderr",
     "output_type": "stream",
     "text": [
      "[I 2025-08-31 01:45:00,387] Trial 57 finished with value: 0.6059905968998353 and parameters: {'n_estimators': 205, 'learning_rate': 0.15677880459414284, 'num_leaves': 136, 'max_depth': 4, 'min_child_samples': 120, 'feature_fraction': 0.9609484648527948, 'bagging_fraction': 0.6817051396899273, 'bagging_freq': 1, 'lambda_l1': 1.5525451879683079, 'lambda_l2': 2.2496655667784474e-07}. Best is trial 52 with value: 0.6210167728997348.\n"
     ]
    },
    {
     "name": "stdout",
     "output_type": "stream",
     "text": [
      "--- Fitting LightGBMModel ---\n"
     ]
    },
    {
     "name": "stderr",
     "output_type": "stream",
     "text": [
      "[I 2025-08-31 01:45:47,555] Trial 58 finished with value: 0.5869751301719958 and parameters: {'n_estimators': 612, 'learning_rate': 0.03705320032402227, 'num_leaves': 198, 'max_depth': 10, 'min_child_samples': 109, 'feature_fraction': 0.9991923834185981, 'bagging_fraction': 0.6535231187034738, 'bagging_freq': 2, 'lambda_l1': 0.3005903676012417, 'lambda_l2': 4.96278242400909e-08}. Best is trial 52 with value: 0.6210167728997348.\n"
     ]
    },
    {
     "name": "stdout",
     "output_type": "stream",
     "text": [
      "--- Fitting LightGBMModel ---\n"
     ]
    },
    {
     "name": "stderr",
     "output_type": "stream",
     "text": [
      "[I 2025-08-31 01:46:14,892] Trial 59 finished with value: 0.610984195355531 and parameters: {'n_estimators': 354, 'learning_rate': 0.021630710405115803, 'num_leaves': 155, 'max_depth': 7, 'min_child_samples': 94, 'feature_fraction': 0.9766439209710387, 'bagging_fraction': 0.9878929101555887, 'bagging_freq': 1, 'lambda_l1': 9.012348533898766, 'lambda_l2': 1.0197892828821188e-08}. Best is trial 52 with value: 0.6210167728997348.\n"
     ]
    },
    {
     "name": "stdout",
     "output_type": "stream",
     "text": [
      "--- Fitting LightGBMModel ---\n"
     ]
    },
    {
     "name": "stderr",
     "output_type": "stream",
     "text": [
      "[I 2025-08-31 01:46:32,742] Trial 60 finished with value: 0.6202486078480807 and parameters: {'n_estimators': 272, 'learning_rate': 0.05469730328583572, 'num_leaves': 129, 'max_depth': 3, 'min_child_samples': 138, 'feature_fraction': 0.9427974285332953, 'bagging_fraction': 0.6003519144516333, 'bagging_freq': 2, 'lambda_l1': 5.676804907639142, 'lambda_l2': 1.1449860563724606e-06}. Best is trial 52 with value: 0.6210167728997348.\n"
     ]
    },
    {
     "name": "stdout",
     "output_type": "stream",
     "text": [
      "--- Fitting LightGBMModel ---\n"
     ]
    },
    {
     "name": "stderr",
     "output_type": "stream",
     "text": [
      "[I 2025-08-31 01:46:52,801] Trial 61 finished with value: 0.6197048381834037 and parameters: {'n_estimators': 505, 'learning_rate': 0.010365162718452692, 'num_leaves': 192, 'max_depth': 3, 'min_child_samples': 143, 'feature_fraction': 0.9217272412648134, 'bagging_fraction': 0.6368003959497266, 'bagging_freq': 1, 'lambda_l1': 2.3428135086325184, 'lambda_l2': 1.2221107420086517e-07}. Best is trial 52 with value: 0.6210167728997348.\n"
     ]
    },
    {
     "name": "stdout",
     "output_type": "stream",
     "text": [
      "--- Fitting LightGBMModel ---\n"
     ]
    },
    {
     "name": "stderr",
     "output_type": "stream",
     "text": [
      "[I 2025-08-31 01:47:24,122] Trial 62 finished with value: 0.6089796582041687 and parameters: {'n_estimators': 1147, 'learning_rate': 0.034252504541556136, 'num_leaves': 170, 'max_depth': 4, 'min_child_samples': 133, 'feature_fraction': 0.9650813380944261, 'bagging_fraction': 0.6399013194720535, 'bagging_freq': 1, 'lambda_l1': 0.37481870669913686, 'lambda_l2': 2.0877220657666665e-08}. Best is trial 52 with value: 0.6210167728997348.\n"
     ]
    },
    {
     "name": "stdout",
     "output_type": "stream",
     "text": [
      "--- Fitting LightGBMModel ---\n"
     ]
    },
    {
     "name": "stderr",
     "output_type": "stream",
     "text": [
      "[I 2025-08-31 01:47:43,027] Trial 63 finished with value: 0.6211371208687508 and parameters: {'n_estimators': 378, 'learning_rate': 0.02009248491853427, 'num_leaves': 209, 'max_depth': 3, 'min_child_samples': 145, 'feature_fraction': 0.9828139442206529, 'bagging_fraction': 0.6574251306363744, 'bagging_freq': 1, 'lambda_l1': 0.6738988661344133, 'lambda_l2': 2.6906352888796464e-07}. Best is trial 63 with value: 0.6211371208687508.\n"
     ]
    },
    {
     "name": "stdout",
     "output_type": "stream",
     "text": [
      "--- Fitting LightGBMModel ---\n"
     ]
    },
    {
     "name": "stderr",
     "output_type": "stream",
     "text": [
      "[I 2025-08-31 01:48:02,815] Trial 64 finished with value: 0.6202491271352549 and parameters: {'n_estimators': 369, 'learning_rate': 0.02094078537596203, 'num_leaves': 208, 'max_depth': 4, 'min_child_samples': 157, 'feature_fraction': 0.9849899323739858, 'bagging_fraction': 0.701054988787459, 'bagging_freq': 1, 'lambda_l1': 0.6890905070539709, 'lambda_l2': 2.853247697277191e-07}. Best is trial 63 with value: 0.6211371208687508.\n"
     ]
    },
    {
     "name": "stdout",
     "output_type": "stream",
     "text": [
      "--- Fitting LightGBMModel ---\n"
     ]
    },
    {
     "name": "stderr",
     "output_type": "stream",
     "text": [
      "[I 2025-08-31 01:48:20,546] Trial 65 finished with value: 0.6208917640116915 and parameters: {'n_estimators': 270, 'learning_rate': 0.04076619511394744, 'num_leaves': 118, 'max_depth': 3, 'min_child_samples': 121, 'feature_fraction': 0.9999645195496543, 'bagging_fraction': 0.6576124002825237, 'bagging_freq': 1, 'lambda_l1': 0.10245998451245956, 'lambda_l2': 5.528435249031727e-07}. Best is trial 63 with value: 0.6211371208687508.\n"
     ]
    },
    {
     "name": "stdout",
     "output_type": "stream",
     "text": [
      "--- Fitting LightGBMModel ---\n"
     ]
    },
    {
     "name": "stderr",
     "output_type": "stream",
     "text": [
      "[I 2025-08-31 01:48:39,300] Trial 66 finished with value: 0.6195999675052883 and parameters: {'n_estimators': 262, 'learning_rate': 0.040619445027963816, 'num_leaves': 97, 'max_depth': 4, 'min_child_samples': 162, 'feature_fraction': 0.9577171315967692, 'bagging_fraction': 0.6603963562826661, 'bagging_freq': 2, 'lambda_l1': 0.08172409764030776, 'lambda_l2': 1.586538070900331e-06}. Best is trial 63 with value: 0.6211371208687508.\n"
     ]
    },
    {
     "name": "stdout",
     "output_type": "stream",
     "text": [
      "--- Fitting LightGBMModel ---\n"
     ]
    },
    {
     "name": "stderr",
     "output_type": "stream",
     "text": [
      "[I 2025-08-31 01:48:57,608] Trial 67 finished with value: 0.6194810254113051 and parameters: {'n_estimators': 310, 'learning_rate': 0.04937239907706089, 'num_leaves': 119, 'max_depth': 3, 'min_child_samples': 133, 'feature_fraction': 0.9218567027840442, 'bagging_fraction': 0.8525266732527133, 'bagging_freq': 1, 'lambda_l1': 3.7380164685835426, 'lambda_l2': 5.783405948048522e-07}. Best is trial 63 with value: 0.6211371208687508.\n"
     ]
    },
    {
     "name": "stdout",
     "output_type": "stream",
     "text": [
      "--- Fitting LightGBMModel ---\n"
     ]
    },
    {
     "name": "stderr",
     "output_type": "stream",
     "text": [
      "[I 2025-08-31 01:49:17,672] Trial 68 finished with value: 0.612886483595731 and parameters: {'n_estimators': 416, 'learning_rate': 0.06991775497706315, 'num_leaves': 218, 'max_depth': 4, 'min_child_samples': 104, 'feature_fraction': 0.9698145264116824, 'bagging_fraction': 0.6778727014214115, 'bagging_freq': 1, 'lambda_l1': 0.06318684172754249, 'lambda_l2': 1.331782774874948e-07}. Best is trial 63 with value: 0.6211371208687508.\n"
     ]
    },
    {
     "name": "stdout",
     "output_type": "stream",
     "text": [
      "--- Fitting LightGBMModel ---\n"
     ]
    },
    {
     "name": "stderr",
     "output_type": "stream",
     "text": [
      "[I 2025-08-31 01:49:40,307] Trial 69 finished with value: 0.5813739847207475 and parameters: {'n_estimators': 211, 'learning_rate': 0.10253203284669715, 'num_leaves': 120, 'max_depth': 12, 'min_child_samples': 172, 'feature_fraction': 0.9384780123527643, 'bagging_fraction': 0.6238210249494888, 'bagging_freq': 6, 'lambda_l1': 0.4505407540206022, 'lambda_l2': 3.9598611036692087e-07}. Best is trial 63 with value: 0.6211371208687508.\n"
     ]
    },
    {
     "name": "stdout",
     "output_type": "stream",
     "text": [
      "--- Fitting LightGBMModel ---\n"
     ]
    },
    {
     "name": "stderr",
     "output_type": "stream",
     "text": [
      "[I 2025-08-31 01:50:01,356] Trial 70 finished with value: 0.620894607425609 and parameters: {'n_estimators': 325, 'learning_rate': 0.03220462633836005, 'num_leaves': 297, 'max_depth': 3, 'min_child_samples': 61, 'feature_fraction': 0.9985053156606717, 'bagging_fraction': 0.9593499927615436, 'bagging_freq': 2, 'lambda_l1': 3.6019511554040626, 'lambda_l2': 1.7460159256762444e-08}. Best is trial 63 with value: 0.6211371208687508.\n"
     ]
    },
    {
     "name": "stdout",
     "output_type": "stream",
     "text": [
      "--- Fitting LightGBMModel ---\n"
     ]
    },
    {
     "name": "stderr",
     "output_type": "stream",
     "text": [
      "[I 2025-08-31 01:50:21,643] Trial 71 finished with value: 0.6204717556792856 and parameters: {'n_estimators': 334, 'learning_rate': 0.0367878009736086, 'num_leaves': 297, 'max_depth': 3, 'min_child_samples': 122, 'feature_fraction': 0.9979246548210989, 'bagging_fraction': 0.9975604644439009, 'bagging_freq': 1, 'lambda_l1': 2.9641288625301705, 'lambda_l2': 2.4097402476511818e-08}. Best is trial 63 with value: 0.6211371208687508.\n"
     ]
    },
    {
     "name": "stdout",
     "output_type": "stream",
     "text": [
      "--- Fitting LightGBMModel ---\n"
     ]
    },
    {
     "name": "stderr",
     "output_type": "stream",
     "text": [
      "[I 2025-08-31 01:50:29,899] Trial 72 finished with value: 0.6183065498096585 and parameters: {'n_estimators': 256, 'learning_rate': 0.016172579133451548, 'num_leaves': 281, 'max_depth': 3, 'min_child_samples': 66, 'feature_fraction': 0.9855586661586723, 'bagging_fraction': 0.949764712781487, 'bagging_freq': 2, 'lambda_l1': 0.7340151840255661, 'lambda_l2': 4.077197364895641e-08}. Best is trial 63 with value: 0.6211371208687508.\n"
     ]
    },
    {
     "name": "stdout",
     "output_type": "stream",
     "text": [
      "--- Fitting LightGBMModel ---\n"
     ]
    },
    {
     "name": "stderr",
     "output_type": "stream",
     "text": [
      "[I 2025-08-31 01:50:34,971] Trial 73 finished with value: 0.6209056517772172 and parameters: {'n_estimators': 397, 'learning_rate': 0.030085978749231405, 'num_leaves': 263, 'max_depth': 3, 'min_child_samples': 47, 'feature_fraction': 0.9779991140724348, 'bagging_fraction': 0.8799952041610657, 'bagging_freq': 1, 'lambda_l1': 4.915740579234263, 'lambda_l2': 1.505446251743192e-08}. Best is trial 63 with value: 0.6211371208687508.\n"
     ]
    },
    {
     "name": "stdout",
     "output_type": "stream",
     "text": [
      "--- Fitting LightGBMModel ---\n"
     ]
    },
    {
     "name": "stderr",
     "output_type": "stream",
     "text": [
      "[I 2025-08-31 01:50:40,159] Trial 74 finished with value: 0.6208696816412453 and parameters: {'n_estimators': 391, 'learning_rate': 0.031200065405295782, 'num_leaves': 264, 'max_depth': 3, 'min_child_samples': 41, 'feature_fraction': 0.9802915397046676, 'bagging_fraction': 0.8283541864460086, 'bagging_freq': 1, 'lambda_l1': 1.9983888924387632, 'lambda_l2': 1.616787296622878e-08}. Best is trial 63 with value: 0.6211371208687508.\n"
     ]
    },
    {
     "name": "stdout",
     "output_type": "stream",
     "text": [
      "--- Fitting LightGBMModel ---\n"
     ]
    },
    {
     "name": "stderr",
     "output_type": "stream",
     "text": [
      "[I 2025-08-31 01:50:46,865] Trial 75 finished with value: 0.614751592140809 and parameters: {'n_estimators': 560, 'learning_rate': 0.061743176592807, 'num_leaves': 260, 'max_depth': 3, 'min_child_samples': 51, 'feature_fraction': 0.9547833465857793, 'bagging_fraction': 0.8713975754112168, 'bagging_freq': 2, 'lambda_l1': 0.17809297675370403, 'lambda_l2': 4.15600570493161e-08}. Best is trial 63 with value: 0.6211371208687508.\n"
     ]
    },
    {
     "name": "stdout",
     "output_type": "stream",
     "text": [
      "--- Fitting LightGBMModel ---\n"
     ]
    },
    {
     "name": "stderr",
     "output_type": "stream",
     "text": [
      "[I 2025-08-31 01:50:52,578] Trial 76 finished with value: 0.6198575022798607 and parameters: {'n_estimators': 463, 'learning_rate': 0.04387651086070865, 'num_leaves': 229, 'max_depth': 3, 'min_child_samples': 47, 'feature_fraction': 0.9913598109569255, 'bagging_fraction': 0.8883718146476892, 'bagging_freq': 1, 'lambda_l1': 3.7388706573246497, 'lambda_l2': 1.5147106071586786e-07}. Best is trial 63 with value: 0.6211371208687508.\n"
     ]
    },
    {
     "name": "stdout",
     "output_type": "stream",
     "text": [
      "--- Fitting LightGBMModel ---\n"
     ]
    },
    {
     "name": "stderr",
     "output_type": "stream",
     "text": [
      "[I 2025-08-31 01:50:58,627] Trial 77 finished with value: 0.6187603181411606 and parameters: {'n_estimators': 398, 'learning_rate': 0.05149906519087891, 'num_leaves': 285, 'max_depth': 3, 'min_child_samples': 23, 'feature_fraction': 0.9798504487540198, 'bagging_fraction': 0.9658773695179379, 'bagging_freq': 2, 'lambda_l1': 0.8080922800690111, 'lambda_l2': 1.5104568238519326e-08}. Best is trial 63 with value: 0.6211371208687508.\n"
     ]
    },
    {
     "name": "stdout",
     "output_type": "stream",
     "text": [
      "--- Fitting LightGBMModel ---\n"
     ]
    },
    {
     "name": "stderr",
     "output_type": "stream",
     "text": [
      "[I 2025-08-31 01:51:07,573] Trial 78 finished with value: 0.5941872310931531 and parameters: {'n_estimators': 798, 'learning_rate': 0.08063966863817881, 'num_leaves': 291, 'max_depth': 5, 'min_child_samples': 65, 'feature_fraction': 0.9466777528708904, 'bagging_fraction': 0.9360768203404989, 'bagging_freq': 1, 'lambda_l1': 3.8681337952430703, 'lambda_l2': 2.2828191050533803e-07}. Best is trial 63 with value: 0.6211371208687508.\n"
     ]
    },
    {
     "name": "stdout",
     "output_type": "stream",
     "text": [
      "--- Fitting LightGBMModel ---\n"
     ]
    },
    {
     "name": "stderr",
     "output_type": "stream",
     "text": [
      "[I 2025-08-31 01:51:12,763] Trial 79 finished with value: 0.6212294463286689 and parameters: {'n_estimators': 331, 'learning_rate': 0.029246613724404378, 'num_leaves': 274, 'max_depth': 3, 'min_child_samples': 34, 'feature_fraction': 0.9997733876554633, 'bagging_fraction': 0.7719812581097273, 'bagging_freq': 1, 'lambda_l1': 0.26953680476874353, 'lambda_l2': 8.037143911183478e-07}. Best is trial 79 with value: 0.6212294463286689.\n"
     ]
    },
    {
     "name": "stdout",
     "output_type": "stream",
     "text": [
      "--- Fitting LightGBMModel ---\n"
     ]
    },
    {
     "name": "stderr",
     "output_type": "stream",
     "text": [
      "[I 2025-08-31 01:51:19,760] Trial 80 finished with value: 0.615466150290878 and parameters: {'n_estimators': 607, 'learning_rate': 0.028587321129200812, 'num_leaves': 270, 'max_depth': 4, 'min_child_samples': 30, 'feature_fraction': 0.9691612024384618, 'bagging_fraction': 0.9079828159360563, 'bagging_freq': 1, 'lambda_l1': 0.26710531594540354, 'lambda_l2': 2.9437438596770192e-08}. Best is trial 79 with value: 0.6212294463286689.\n"
     ]
    },
    {
     "name": "stdout",
     "output_type": "stream",
     "text": [
      "--- Fitting LightGBMModel ---\n"
     ]
    },
    {
     "name": "stderr",
     "output_type": "stream",
     "text": [
      "[I 2025-08-31 01:51:24,706] Trial 81 finished with value: 0.6205746505330305 and parameters: {'n_estimators': 328, 'learning_rate': 0.04105225052369661, 'num_leaves': 273, 'max_depth': 3, 'min_child_samples': 34, 'feature_fraction': 0.9974702732900258, 'bagging_fraction': 0.8000728687250175, 'bagging_freq': 1, 'lambda_l1': 0.05241500161026333, 'lambda_l2': 8.091546896339866e-07}. Best is trial 79 with value: 0.6212294463286689.\n"
     ]
    },
    {
     "name": "stdout",
     "output_type": "stream",
     "text": [
      "--- Fitting LightGBMModel ---\n"
     ]
    },
    {
     "name": "stderr",
     "output_type": "stream",
     "text": [
      "[I 2025-08-31 01:51:29,213] Trial 82 finished with value: 0.6216062208374339 and parameters: {'n_estimators': 250, 'learning_rate': 0.031241197755462646, 'num_leaves': 256, 'max_depth': 3, 'min_child_samples': 55, 'feature_fraction': 0.9867046531698405, 'bagging_fraction': 0.785892835851636, 'bagging_freq': 1, 'lambda_l1': 0.10418186276597859, 'lambda_l2': 1.0066833048689019e-07}. Best is trial 82 with value: 0.6216062208374339.\n"
     ]
    },
    {
     "name": "stdout",
     "output_type": "stream",
     "text": [
      "--- Fitting LightGBMModel ---\n"
     ]
    },
    {
     "name": "stderr",
     "output_type": "stream",
     "text": [
      "[I 2025-08-31 01:51:34,492] Trial 83 finished with value: 0.6208487075056223 and parameters: {'n_estimators': 368, 'learning_rate': 0.017437231964812692, 'num_leaves': 244, 'max_depth': 3, 'min_child_samples': 55, 'feature_fraction': 0.9849313486705196, 'bagging_fraction': 0.7832235533891684, 'bagging_freq': 1, 'lambda_l1': 1.719157810561821, 'lambda_l2': 9.189439702626465e-08}. Best is trial 82 with value: 0.6216062208374339.\n"
     ]
    },
    {
     "name": "stdout",
     "output_type": "stream",
     "text": [
      "--- Fitting LightGBMModel ---\n"
     ]
    },
    {
     "name": "stderr",
     "output_type": "stream",
     "text": [
      "[I 2025-08-31 01:51:40,045] Trial 84 finished with value: 0.6202213072748106 and parameters: {'n_estimators': 427, 'learning_rate': 0.03098147835177382, 'num_leaves': 256, 'max_depth': 3, 'min_child_samples': 73, 'feature_fraction': 0.9740660285802916, 'bagging_fraction': 0.8200292534365905, 'bagging_freq': 1, 'lambda_l1': 0.5010675652116001, 'lambda_l2': 1.512858375448566e-08}. Best is trial 82 with value: 0.6216062208374339.\n"
     ]
    },
    {
     "name": "stdout",
     "output_type": "stream",
     "text": [
      "--- Fitting LightGBMModel ---\n"
     ]
    },
    {
     "name": "stderr",
     "output_type": "stream",
     "text": [
      "[I 2025-08-31 01:51:45,168] Trial 85 finished with value: 0.5857602008329215 and parameters: {'n_estimators': 235, 'learning_rate': 0.2766862148435149, 'num_leaves': 283, 'max_depth': 4, 'min_child_samples': 42, 'feature_fraction': 0.957975554600561, 'bagging_fraction': 0.7783423080671696, 'bagging_freq': 2, 'lambda_l1': 0.03391212196596636, 'lambda_l2': 4.948869471726232e-08}. Best is trial 82 with value: 0.6216062208374339.\n"
     ]
    },
    {
     "name": "stdout",
     "output_type": "stream",
     "text": [
      "--- Fitting LightGBMModel ---\n"
     ]
    },
    {
     "name": "stderr",
     "output_type": "stream",
     "text": [
      "[I 2025-08-31 01:51:50,878] Trial 86 finished with value: 0.6211777075943571 and parameters: {'n_estimators': 459, 'learning_rate': 0.015697695256012088, 'num_leaves': 249, 'max_depth': 3, 'min_child_samples': 87, 'feature_fraction': 0.9861487936757697, 'bagging_fraction': 0.7644150197461296, 'bagging_freq': 1, 'lambda_l1': 0.015414753555920343, 'lambda_l2': 1.8332406801316364e-06}. Best is trial 82 with value: 0.6216062208374339.\n"
     ]
    },
    {
     "name": "stdout",
     "output_type": "stream",
     "text": [
      "--- Fitting LightGBMModel ---\n"
     ]
    },
    {
     "name": "stderr",
     "output_type": "stream",
     "text": [
      "[I 2025-08-31 01:51:56,636] Trial 87 finished with value: 0.6198967274598273 and parameters: {'n_estimators': 458, 'learning_rate': 0.010490264484647242, 'num_leaves': 248, 'max_depth': 3, 'min_child_samples': 81, 'feature_fraction': 0.9863817186155587, 'bagging_fraction': 0.7655702322543486, 'bagging_freq': 1, 'lambda_l1': 0.01644872345485006, 'lambda_l2': 1.6755731342787808e-06}. Best is trial 82 with value: 0.6216062208374339.\n"
     ]
    },
    {
     "name": "stdout",
     "output_type": "stream",
     "text": [
      "--- Fitting LightGBMModel ---\n"
     ]
    },
    {
     "name": "stderr",
     "output_type": "stream",
     "text": [
      "[I 2025-08-31 01:52:03,199] Trial 88 finished with value: 0.6198009253089498 and parameters: {'n_estimators': 538, 'learning_rate': 0.02064916572268862, 'num_leaves': 237, 'max_depth': 4, 'min_child_samples': 86, 'feature_fraction': 0.9248223831252176, 'bagging_fraction': 0.8092599346234145, 'bagging_freq': 1, 'lambda_l1': 0.0010985437848768302, 'lambda_l2': 1.478227929717266e-07}. Best is trial 82 with value: 0.6216062208374339.\n"
     ]
    },
    {
     "name": "stdout",
     "output_type": "stream",
     "text": [
      "--- Fitting LightGBMModel ---\n"
     ]
    },
    {
     "name": "stderr",
     "output_type": "stream",
     "text": [
      "[I 2025-08-31 01:52:12,795] Trial 89 finished with value: 0.5763593298034133 and parameters: {'n_estimators': 1313, 'learning_rate': 0.2216375090646107, 'num_leaves': 271, 'max_depth': 3, 'min_child_samples': 28, 'feature_fraction': 0.9519272074608943, 'bagging_fraction': 0.7341318930173965, 'bagging_freq': 1, 'lambda_l1': 0.12196892423220078, 'lambda_l2': 1.2803115213997455e-05}. Best is trial 82 with value: 0.6216062208374339.\n"
     ]
    },
    {
     "name": "stdout",
     "output_type": "stream",
     "text": [
      "--- Fitting LightGBMModel ---\n"
     ]
    },
    {
     "name": "stderr",
     "output_type": "stream",
     "text": [
      "[I 2025-08-31 01:52:26,854] Trial 90 finished with value: 0.6133909267561146 and parameters: {'n_estimators': 1710, 'learning_rate': 0.01484731994118299, 'num_leaves': 254, 'max_depth': 4, 'min_child_samples': 50, 'feature_fraction': 0.9344692028528376, 'bagging_fraction': 0.7862220054094164, 'bagging_freq': 7, 'lambda_l1': 0.0057802304804150054, 'lambda_l2': 3.107406961822178e-07}. Best is trial 82 with value: 0.6216062208374339.\n"
     ]
    },
    {
     "name": "stdout",
     "output_type": "stream",
     "text": [
      "--- Fitting LightGBMModel ---\n"
     ]
    },
    {
     "name": "stderr",
     "output_type": "stream",
     "text": [
      "[I 2025-08-31 01:52:32,237] Trial 91 finished with value: 0.6211602418135453 and parameters: {'n_estimators': 323, 'learning_rate': 0.028635102306149282, 'num_leaves': 277, 'max_depth': 3, 'min_child_samples': 61, 'feature_fraction': 0.9723301435416724, 'bagging_fraction': 0.7578108140850404, 'bagging_freq': 1, 'lambda_l1': 0.24068582743446904, 'lambda_l2': 8.434673701049273e-08}. Best is trial 82 with value: 0.6216062208374339.\n"
     ]
    },
    {
     "name": "stdout",
     "output_type": "stream",
     "text": [
      "--- Fitting LightGBMModel ---\n"
     ]
    },
    {
     "name": "stderr",
     "output_type": "stream",
     "text": [
      "[I 2025-08-31 01:52:37,788] Trial 92 finished with value: 0.620988402088264 and parameters: {'n_estimators': 394, 'learning_rate': 0.024368446949276926, 'num_leaves': 275, 'max_depth': 3, 'min_child_samples': 72, 'feature_fraction': 0.9710869302270815, 'bagging_fraction': 0.7663303616506468, 'bagging_freq': 1, 'lambda_l1': 1.0374789988278024, 'lambda_l2': 2.925782666332667}. Best is trial 82 with value: 0.6216062208374339.\n"
     ]
    },
    {
     "name": "stdout",
     "output_type": "stream",
     "text": [
      "--- Fitting LightGBMModel ---\n"
     ]
    },
    {
     "name": "stderr",
     "output_type": "stream",
     "text": [
      "[I 2025-08-31 01:52:43,141] Trial 93 finished with value: 0.6210803729130386 and parameters: {'n_estimators': 384, 'learning_rate': 0.01640286115670529, 'num_leaves': 273, 'max_depth': 3, 'min_child_samples': 73, 'feature_fraction': 0.9666016440996474, 'bagging_fraction': 0.751069678766062, 'bagging_freq': 1, 'lambda_l1': 0.19217754960489528, 'lambda_l2': 0.1968748650977211}. Best is trial 82 with value: 0.6216062208374339.\n"
     ]
    },
    {
     "name": "stdout",
     "output_type": "stream",
     "text": [
      "--- Fitting LightGBMModel ---\n"
     ]
    },
    {
     "name": "stderr",
     "output_type": "stream",
     "text": [
      "[I 2025-08-31 01:52:48,977] Trial 94 finished with value: 0.6213823384048607 and parameters: {'n_estimators': 456, 'learning_rate': 0.016591755144857178, 'num_leaves': 276, 'max_depth': 3, 'min_child_samples': 77, 'feature_fraction': 0.967975641008824, 'bagging_fraction': 0.7439489854555968, 'bagging_freq': 1, 'lambda_l1': 0.18984694040155814, 'lambda_l2': 1.1644857653289409}. Best is trial 82 with value: 0.6216062208374339.\n"
     ]
    },
    {
     "name": "stdout",
     "output_type": "stream",
     "text": [
      "--- Fitting LightGBMModel ---\n"
     ]
    },
    {
     "name": "stderr",
     "output_type": "stream",
     "text": [
      "[I 2025-08-31 01:52:55,704] Trial 95 finished with value: 0.6211652637004865 and parameters: {'n_estimators': 676, 'learning_rate': 0.01773261055180235, 'num_leaves': 276, 'max_depth': 3, 'min_child_samples': 68, 'feature_fraction': 0.8990455301818189, 'bagging_fraction': 0.7422587316442895, 'bagging_freq': 1, 'lambda_l1': 0.15975872760307938, 'lambda_l2': 2.2450294622328952}. Best is trial 82 with value: 0.6216062208374339.\n"
     ]
    },
    {
     "name": "stdout",
     "output_type": "stream",
     "text": [
      "--- Fitting LightGBMModel ---\n"
     ]
    },
    {
     "name": "stderr",
     "output_type": "stream",
     "text": [
      "[I 2025-08-31 01:53:01,548] Trial 96 finished with value: 0.6212820019903643 and parameters: {'n_estimators': 447, 'learning_rate': 0.016467626946016806, 'num_leaves': 275, 'max_depth': 3, 'min_child_samples': 73, 'feature_fraction': 0.9622008256372792, 'bagging_fraction': 0.7499128568149902, 'bagging_freq': 1, 'lambda_l1': 0.18763197119111616, 'lambda_l2': 2.7086317365087185}. Best is trial 82 with value: 0.6216062208374339.\n"
     ]
    },
    {
     "name": "stdout",
     "output_type": "stream",
     "text": [
      "--- Fitting LightGBMModel ---\n"
     ]
    },
    {
     "name": "stderr",
     "output_type": "stream",
     "text": [
      "[I 2025-08-31 01:53:14,219] Trial 97 finished with value: 0.6067722507524788 and parameters: {'n_estimators': 673, 'learning_rate': 0.01532054144023431, 'num_leaves': 289, 'max_depth': 8, 'min_child_samples': 76, 'feature_fraction': 0.9042735174028732, 'bagging_fraction': 0.7492429135921905, 'bagging_freq': 1, 'lambda_l1': 0.1896270713880108, 'lambda_l2': 1.0084200005948092}. Best is trial 82 with value: 0.6216062208374339.\n"
     ]
    },
    {
     "name": "stdout",
     "output_type": "stream",
     "text": [
      "--- Fitting LightGBMModel ---\n"
     ]
    },
    {
     "name": "stderr",
     "output_type": "stream",
     "text": [
      "[I 2025-08-31 01:53:20,475] Trial 98 finished with value: 0.621551841337858 and parameters: {'n_estimators': 581, 'learning_rate': 0.014741292588689947, 'num_leaves': 276, 'max_depth': 3, 'min_child_samples': 70, 'feature_fraction': 0.8938941904498413, 'bagging_fraction': 0.7415558930088689, 'bagging_freq': 1, 'lambda_l1': 0.04856653633199146, 'lambda_l2': 0.14066487191199414}. Best is trial 82 with value: 0.6216062208374339.\n"
     ]
    },
    {
     "name": "stdout",
     "output_type": "stream",
     "text": [
      "--- Fitting LightGBMModel ---\n"
     ]
    },
    {
     "name": "stderr",
     "output_type": "stream",
     "text": [
      "[I 2025-08-31 01:53:26,223] Trial 99 finished with value: 0.6217240863604461 and parameters: {'n_estimators': 462, 'learning_rate': 0.016057907050901515, 'num_leaves': 276, 'max_depth': 3, 'min_child_samples': 69, 'feature_fraction': 0.8971941891482169, 'bagging_fraction': 0.7444630680245946, 'bagging_freq': 1, 'lambda_l1': 0.025264476926056396, 'lambda_l2': 0.11572340996359329}. Best is trial 99 with value: 0.6217240863604461.\n"
     ]
    },
    {
     "name": "stdout",
     "output_type": "stream",
     "text": [
      "--- Fitting LightGBMModel ---\n"
     ]
    },
    {
     "name": "stderr",
     "output_type": "stream",
     "text": [
      "[I 2025-08-31 01:53:32,666] Trial 100 finished with value: 0.6039111937365962 and parameters: {'n_estimators': 588, 'learning_rate': 0.16414267341188296, 'num_leaves': 278, 'max_depth': 3, 'min_child_samples': 60, 'feature_fraction': 0.8933802785138609, 'bagging_fraction': 0.7367451342748766, 'bagging_freq': 5, 'lambda_l1': 0.023548988441517944, 'lambda_l2': 2.0212115027202446}. Best is trial 99 with value: 0.6217240863604461.\n"
     ]
    },
    {
     "name": "stdout",
     "output_type": "stream",
     "text": [
      "--- Fitting LightGBMModel ---\n"
     ]
    },
    {
     "name": "stderr",
     "output_type": "stream",
     "text": [
      "[I 2025-08-31 01:53:38,740] Trial 101 finished with value: 0.6211371272015211 and parameters: {'n_estimators': 535, 'learning_rate': 0.017018495115983946, 'num_leaves': 268, 'max_depth': 3, 'min_child_samples': 70, 'feature_fraction': 0.8941632878622366, 'bagging_fraction': 0.7186230213321381, 'bagging_freq': 1, 'lambda_l1': 0.04344471941160101, 'lambda_l2': 0.16895903804682258}. Best is trial 99 with value: 0.6217240863604461.\n"
     ]
    },
    {
     "name": "stdout",
     "output_type": "stream",
     "text": [
      "--- Fitting LightGBMModel ---\n"
     ]
    },
    {
     "name": "stderr",
     "output_type": "stream",
     "text": [
      "[I 2025-08-31 01:53:45,421] Trial 102 finished with value: 0.6179270142129912 and parameters: {'n_estimators': 707, 'learning_rate': 0.03576261851007065, 'num_leaves': 267, 'max_depth': 3, 'min_child_samples': 70, 'feature_fraction': 0.8638558460902326, 'bagging_fraction': 0.716909433091872, 'bagging_freq': 1, 'lambda_l1': 0.00969612674235153, 'lambda_l2': 0.05343827112999608}. Best is trial 99 with value: 0.6217240863604461.\n"
     ]
    },
    {
     "name": "stdout",
     "output_type": "stream",
     "text": [
      "--- Fitting LightGBMModel ---\n"
     ]
    },
    {
     "name": "stderr",
     "output_type": "stream",
     "text": [
      "[I 2025-08-31 01:53:51,547] Trial 103 finished with value: 0.6209008452044703 and parameters: {'n_estimators': 522, 'learning_rate': 0.011001773783389714, 'num_leaves': 258, 'max_depth': 3, 'min_child_samples': 78, 'feature_fraction': 0.8653353366593878, 'bagging_fraction': 0.7399114971070551, 'bagging_freq': 1, 'lambda_l1': 0.05838277956162983, 'lambda_l2': 0.41614242717181854}. Best is trial 99 with value: 0.6217240863604461.\n"
     ]
    },
    {
     "name": "stdout",
     "output_type": "stream",
     "text": [
      "--- Fitting LightGBMModel ---\n"
     ]
    },
    {
     "name": "stderr",
     "output_type": "stream",
     "text": [
      "[I 2025-08-31 01:53:58,025] Trial 104 finished with value: 0.6204812358366006 and parameters: {'n_estimators': 491, 'learning_rate': 0.01873744898691119, 'num_leaves': 248, 'max_depth': 4, 'min_child_samples': 88, 'feature_fraction': 0.8911275176879647, 'bagging_fraction': 0.7612610306712654, 'bagging_freq': 1, 'lambda_l1': 0.03568621710913028, 'lambda_l2': 0.19122375098855698}. Best is trial 99 with value: 0.6217240863604461.\n"
     ]
    },
    {
     "name": "stdout",
     "output_type": "stream",
     "text": [
      "--- Fitting LightGBMModel ---\n"
     ]
    },
    {
     "name": "stderr",
     "output_type": "stream",
     "text": [
      "[I 2025-08-31 01:54:03,885] Trial 105 finished with value: 0.6192993445607948 and parameters: {'n_estimators': 459, 'learning_rate': 0.04423466033094955, 'num_leaves': 286, 'max_depth': 3, 'min_child_samples': 69, 'feature_fraction': 0.8961922798506394, 'bagging_fraction': 0.7710214172993659, 'bagging_freq': 1, 'lambda_l1': 0.011318062528250974, 'lambda_l2': 9.85616150925843}. Best is trial 99 with value: 0.6217240863604461.\n"
     ]
    },
    {
     "name": "stdout",
     "output_type": "stream",
     "text": [
      "--- Fitting LightGBMModel ---\n"
     ]
    },
    {
     "name": "stderr",
     "output_type": "stream",
     "text": [
      "[I 2025-08-31 01:54:10,674] Trial 106 finished with value: 0.6156134695291026 and parameters: {'n_estimators': 575, 'learning_rate': 0.035892538418392905, 'num_leaves': 300, 'max_depth': 4, 'min_child_samples': 80, 'feature_fraction': 0.9145096703397091, 'bagging_fraction': 0.7233679726918532, 'bagging_freq': 1, 'lambda_l1': 0.2663419293042223, 'lambda_l2': 0.010663776655605767}. Best is trial 99 with value: 0.6217240863604461.\n"
     ]
    },
    {
     "name": "stdout",
     "output_type": "stream",
     "text": [
      "--- Fitting LightGBMModel ---\n"
     ]
    },
    {
     "name": "stderr",
     "output_type": "stream",
     "text": [
      "[I 2025-08-31 01:54:16,237] Trial 107 finished with value: 0.6212696024258868 and parameters: {'n_estimators': 442, 'learning_rate': 0.026912374276638135, 'num_leaves': 278, 'max_depth': 3, 'min_child_samples': 56, 'feature_fraction': 0.8792646982782714, 'bagging_fraction': 0.7456829127067209, 'bagging_freq': 1, 'lambda_l1': 0.08962077003624293, 'lambda_l2': 3.7995549839008884}. Best is trial 99 with value: 0.6217240863604461.\n"
     ]
    },
    {
     "name": "stdout",
     "output_type": "stream",
     "text": [
      "--- Fitting LightGBMModel ---\n"
     ]
    },
    {
     "name": "stderr",
     "output_type": "stream",
     "text": [
      "[I 2025-08-31 01:54:22,073] Trial 108 finished with value: 0.6187565818066143 and parameters: {'n_estimators': 539, 'learning_rate': 0.05268560431851769, 'num_leaves': 280, 'max_depth': 3, 'min_child_samples': 57, 'feature_fraction': 0.902044139379675, 'bagging_fraction': 0.7555229715393429, 'bagging_freq': 1, 'lambda_l1': 0.09482523558143631, 'lambda_l2': 0.8824613316717036}. Best is trial 99 with value: 0.6217240863604461.\n"
     ]
    },
    {
     "name": "stdout",
     "output_type": "stream",
     "text": [
      "--- Fitting LightGBMModel ---\n"
     ]
    },
    {
     "name": "stderr",
     "output_type": "stream",
     "text": [
      "[I 2025-08-31 01:54:28,613] Trial 109 finished with value: 0.6181668362287056 and parameters: {'n_estimators': 453, 'learning_rate': 0.02944852230034658, 'num_leaves': 266, 'max_depth': 4, 'min_child_samples': 62, 'feature_fraction': 0.8737446438392295, 'bagging_fraction': 0.7442826532306809, 'bagging_freq': 2, 'lambda_l1': 0.04659507321981091, 'lambda_l2': 4.976845071051168}. Best is trial 99 with value: 0.6217240863604461.\n"
     ]
    },
    {
     "name": "stdout",
     "output_type": "stream",
     "text": [
      "--- Fitting LightGBMModel ---\n"
     ]
    },
    {
     "name": "stderr",
     "output_type": "stream",
     "text": [
      "[I 2025-08-31 01:54:48,945] Trial 110 finished with value: 0.5953875000687106 and parameters: {'n_estimators': 670, 'learning_rate': 0.017006518402477234, 'num_leaves': 294, 'max_depth': 11, 'min_child_samples': 53, 'feature_fraction': 0.883926884782317, 'bagging_fraction': 0.7892723013723372, 'bagging_freq': 1, 'lambda_l1': 0.08872483097804125, 'lambda_l2': 2.2403249498419595}. Best is trial 99 with value: 0.6217240863604461.\n"
     ]
    },
    {
     "name": "stdout",
     "output_type": "stream",
     "text": [
      "--- Fitting LightGBMModel ---\n"
     ]
    },
    {
     "name": "stderr",
     "output_type": "stream",
     "text": [
      "[I 2025-08-31 01:54:56,589] Trial 111 finished with value: 0.6192735068574912 and parameters: {'n_estimators': 867, 'learning_rate': 0.026715991060360142, 'num_leaves': 276, 'max_depth': 3, 'min_child_samples': 67, 'feature_fraction': 0.8163127846089411, 'bagging_fraction': 0.7716472624782872, 'bagging_freq': 1, 'lambda_l1': 0.026386234804782194, 'lambda_l2': 0.7587152978336045}. Best is trial 99 with value: 0.6217240863604461.\n"
     ]
    },
    {
     "name": "stdout",
     "output_type": "stream",
     "text": [
      "--- Fitting LightGBMModel ---\n"
     ]
    },
    {
     "name": "stderr",
     "output_type": "stream",
     "text": [
      "[I 2025-08-31 01:55:03,808] Trial 112 finished with value: 0.6213855427866921 and parameters: {'n_estimators': 759, 'learning_rate': 0.010888635144221975, 'num_leaves': 260, 'max_depth': 3, 'min_child_samples': 59, 'feature_fraction': 0.8738288577701459, 'bagging_fraction': 0.7340902422482208, 'bagging_freq': 1, 'lambda_l1': 0.49174137168451193, 'lambda_l2': 0.06431556104315926}. Best is trial 99 with value: 0.6217240863604461.\n"
     ]
    },
    {
     "name": "stdout",
     "output_type": "stream",
     "text": [
      "--- Fitting LightGBMModel ---\n"
     ]
    },
    {
     "name": "stderr",
     "output_type": "stream",
     "text": [
      "[I 2025-08-31 01:55:10,651] Trial 113 finished with value: 0.621088871490939 and parameters: {'n_estimators': 703, 'learning_rate': 0.01035086351726058, 'num_leaves': 260, 'max_depth': 3, 'min_child_samples': 90, 'feature_fraction': 0.8512391019700545, 'bagging_fraction': 0.7181601531826893, 'bagging_freq': 1, 'lambda_l1': 0.15371120068004998, 'lambda_l2': 0.04015049526608038}. Best is trial 99 with value: 0.6217240863604461.\n"
     ]
    },
    {
     "name": "stdout",
     "output_type": "stream",
     "text": [
      "--- Fitting LightGBMModel ---\n"
     ]
    },
    {
     "name": "stderr",
     "output_type": "stream",
     "text": [
      "[I 2025-08-31 01:55:17,051] Trial 114 finished with value: 0.6181491298026179 and parameters: {'n_estimators': 633, 'learning_rate': 0.039551255409404046, 'num_leaves': 254, 'max_depth': 3, 'min_child_samples': 60, 'feature_fraction': 0.8662062424300982, 'bagging_fraction': 0.7315929479039599, 'bagging_freq': 1, 'lambda_l1': 0.3580482610359724, 'lambda_l2': 0.18824432966804555}. Best is trial 99 with value: 0.6217240863604461.\n"
     ]
    },
    {
     "name": "stdout",
     "output_type": "stream",
     "text": [
      "--- Fitting LightGBMModel ---\n"
     ]
    },
    {
     "name": "stderr",
     "output_type": "stream",
     "text": [
      "[I 2025-08-31 01:55:24,052] Trial 115 finished with value: 0.6191269602172575 and parameters: {'n_estimators': 778, 'learning_rate': 0.02624169666898304, 'num_leaves': 288, 'max_depth': 3, 'min_child_samples': 57, 'feature_fraction': 0.9155522492480521, 'bagging_fraction': 0.7006260176140598, 'bagging_freq': 1, 'lambda_l1': 0.07195678016900396, 'lambda_l2': 0.10243239874059237}. Best is trial 99 with value: 0.6217240863604461.\n"
     ]
    },
    {
     "name": "stdout",
     "output_type": "stream",
     "text": [
      "--- Fitting LightGBMModel ---\n"
     ]
    },
    {
     "name": "stderr",
     "output_type": "stream",
     "text": [
      "[I 2025-08-31 01:55:30,924] Trial 116 finished with value: 0.6216678703574492 and parameters: {'n_estimators': 754, 'learning_rate': 0.015813787595866168, 'num_leaves': 279, 'max_depth': 3, 'min_child_samples': 64, 'feature_fraction': 0.8400430673039598, 'bagging_fraction': 0.7447892446327875, 'bagging_freq': 1, 'lambda_l1': 0.018236778150390487, 'lambda_l2': 1.6356320486206872}. Best is trial 99 with value: 0.6217240863604461.\n"
     ]
    },
    {
     "name": "stdout",
     "output_type": "stream",
     "text": [
      "--- Fitting LightGBMModel ---\n"
     ]
    },
    {
     "name": "stderr",
     "output_type": "stream",
     "text": [
      "[I 2025-08-31 01:55:38,967] Trial 117 finished with value: 0.6131498128552353 and parameters: {'n_estimators': 886, 'learning_rate': 0.03507550242120917, 'num_leaves': 281, 'max_depth': 4, 'min_child_samples': 64, 'feature_fraction': 0.7759180875639861, 'bagging_fraction': 0.7439835722073463, 'bagging_freq': 1, 'lambda_l1': 0.003137069771629505, 'lambda_l2': 1.6380216286815001}. Best is trial 99 with value: 0.6217240863604461.\n"
     ]
    },
    {
     "name": "stdout",
     "output_type": "stream",
     "text": [
      "--- Fitting LightGBMModel ---\n"
     ]
    },
    {
     "name": "stderr",
     "output_type": "stream",
     "text": [
      "[I 2025-08-31 01:55:51,121] Trial 118 finished with value: 0.6104208447647228 and parameters: {'n_estimators': 821, 'learning_rate': 0.014832574246511158, 'num_leaves': 262, 'max_depth': 7, 'min_child_samples': 83, 'feature_fraction': 0.8412355756016163, 'bagging_fraction': 0.7554131649809492, 'bagging_freq': 1, 'lambda_l1': 0.2639061888729862, 'lambda_l2': 5.345084503155418}. Best is trial 99 with value: 0.6217240863604461.\n"
     ]
    },
    {
     "name": "stdout",
     "output_type": "stream",
     "text": [
      "--- Fitting LightGBMModel ---\n"
     ]
    },
    {
     "name": "stderr",
     "output_type": "stream",
     "text": [
      "[I 2025-08-31 01:55:57,507] Trial 119 finished with value: 0.6089632626615575 and parameters: {'n_estimators': 592, 'learning_rate': 0.12674344364736082, 'num_leaves': 242, 'max_depth': 3, 'min_child_samples': 76, 'feature_fraction': 0.8513417060792644, 'bagging_fraction': 0.7764673600096985, 'bagging_freq': 1, 'lambda_l1': 0.015520664514152674, 'lambda_l2': 2.9141716443631576}. Best is trial 99 with value: 0.6217240863604461.\n"
     ]
    },
    {
     "name": "stdout",
     "output_type": "stream",
     "text": [
      "--- Fitting LightGBMModel ---\n"
     ]
    },
    {
     "name": "stderr",
     "output_type": "stream",
     "text": [
      "[I 2025-08-31 01:56:05,534] Trial 120 finished with value: 0.6157548802925275 and parameters: {'n_estimators': 749, 'learning_rate': 0.047963916983788574, 'num_leaves': 290, 'max_depth': 3, 'min_child_samples': 48, 'feature_fraction': 0.8046316562195389, 'bagging_fraction': 0.7954541619807638, 'bagging_freq': 2, 'lambda_l1': 0.11277135834720335, 'lambda_l2': 0.3243886629310828}. Best is trial 99 with value: 0.6217240863604461.\n"
     ]
    },
    {
     "name": "stdout",
     "output_type": "stream",
     "text": [
      "--- Fitting LightGBMModel ---\n"
     ]
    },
    {
     "name": "stderr",
     "output_type": "stream",
     "text": [
      "[I 2025-08-31 01:56:11,523] Trial 121 finished with value: 0.6209510387428002 and parameters: {'n_estimators': 500, 'learning_rate': 0.018411984247804443, 'num_leaves': 272, 'max_depth': 3, 'min_child_samples': 69, 'feature_fraction': 0.8752673080213859, 'bagging_fraction': 0.7110343840254074, 'bagging_freq': 1, 'lambda_l1': 0.0421497588185429, 'lambda_l2': 0.10356003872806141}. Best is trial 99 with value: 0.6217240863604461.\n"
     ]
    },
    {
     "name": "stdout",
     "output_type": "stream",
     "text": [
      "--- Fitting LightGBMModel ---\n"
     ]
    },
    {
     "name": "stderr",
     "output_type": "stream",
     "text": [
      "[I 2025-08-31 01:56:17,041] Trial 122 finished with value: 0.6204577285928106 and parameters: {'n_estimators': 445, 'learning_rate': 0.02773611967043221, 'num_leaves': 265, 'max_depth': 3, 'min_child_samples': 43, 'feature_fraction': 0.8815491605882331, 'bagging_fraction': 0.7274078998498518, 'bagging_freq': 1, 'lambda_l1': 0.0262921257036858, 'lambda_l2': 1.118179276193427}. Best is trial 99 with value: 0.6217240863604461.\n"
     ]
    },
    {
     "name": "stdout",
     "output_type": "stream",
     "text": [
      "--- Fitting LightGBMModel ---\n"
     ]
    },
    {
     "name": "stderr",
     "output_type": "stream",
     "text": [
      "[I 2025-08-31 01:56:24,887] Trial 123 finished with value: 0.6197121018710727 and parameters: {'n_estimators': 947, 'learning_rate': 0.01985160705706323, 'num_leaves': 281, 'max_depth': 3, 'min_child_samples': 54, 'feature_fraction': 0.8990236459065023, 'bagging_fraction': 0.7469428758179412, 'bagging_freq': 1, 'lambda_l1': 0.5677606299635732, 'lambda_l2': 3.745982909193077}. Best is trial 99 with value: 0.6217240863604461.\n"
     ]
    },
    {
     "name": "stdout",
     "output_type": "stream",
     "text": [
      "--- Fitting LightGBMModel ---\n"
     ]
    },
    {
     "name": "stderr",
     "output_type": "stream",
     "text": [
      "[I 2025-08-31 01:56:30,983] Trial 124 finished with value: 0.621394807629813 and parameters: {'n_estimators': 552, 'learning_rate': 0.012557414956628144, 'num_leaves': 270, 'max_depth': 3, 'min_child_samples': 65, 'feature_fraction': 0.9070578998829146, 'bagging_fraction': 0.7623508602730822, 'bagging_freq': 1, 'lambda_l1': 0.2233039949222041, 'lambda_l2': 1.4422332747059212}. Best is trial 99 with value: 0.6217240863604461.\n"
     ]
    },
    {
     "name": "stdout",
     "output_type": "stream",
     "text": [
      "--- Fitting LightGBMModel ---\n"
     ]
    },
    {
     "name": "stderr",
     "output_type": "stream",
     "text": [
      "[I 2025-08-31 01:56:37,316] Trial 125 finished with value: 0.6210305466753931 and parameters: {'n_estimators': 568, 'learning_rate': 0.010077530760792253, 'num_leaves': 277, 'max_depth': 3, 'min_child_samples': 63, 'feature_fraction': 0.9285420820642659, 'bagging_fraction': 0.7605151744617838, 'bagging_freq': 1, 'lambda_l1': 0.19822013708500272, 'lambda_l2': 0.6771237638539883}. Best is trial 99 with value: 0.6217240863604461.\n"
     ]
    },
    {
     "name": "stdout",
     "output_type": "stream",
     "text": [
      "--- Fitting LightGBMModel ---\n"
     ]
    },
    {
     "name": "stderr",
     "output_type": "stream",
     "text": [
      "[I 2025-08-31 01:56:43,690] Trial 126 finished with value: 0.618373981149065 and parameters: {'n_estimators': 659, 'learning_rate': 0.03327834987589343, 'num_leaves': 285, 'max_depth': 3, 'min_child_samples': 58, 'feature_fraction': 0.885262161822523, 'bagging_fraction': 0.7350399996098526, 'bagging_freq': 1, 'lambda_l1': 0.3859059824417644, 'lambda_l2': 0.3071275097479839}. Best is trial 99 with value: 0.6217240863604461.\n"
     ]
    },
    {
     "name": "stdout",
     "output_type": "stream",
     "text": [
      "--- Fitting LightGBMModel ---\n"
     ]
    },
    {
     "name": "stderr",
     "output_type": "stream",
     "text": [
      "[I 2025-08-31 01:56:49,705] Trial 127 finished with value: 0.6195959525288437 and parameters: {'n_estimators': 427, 'learning_rate': 0.023926417575062642, 'num_leaves': 253, 'max_depth': 4, 'min_child_samples': 66, 'feature_fraction': 0.8714480689724342, 'bagging_fraction': 0.7670719383687566, 'bagging_freq': 1, 'lambda_l1': 0.12026872856427318, 'lambda_l2': 1.3951576348957608}. Best is trial 99 with value: 0.6217240863604461.\n"
     ]
    },
    {
     "name": "stdout",
     "output_type": "stream",
     "text": [
      "--- Fitting LightGBMModel ---\n"
     ]
    },
    {
     "name": "stderr",
     "output_type": "stream",
     "text": [
      "[I 2025-08-31 01:57:13,533] Trial 128 finished with value: 0.558487605742384 and parameters: {'n_estimators': 1079, 'learning_rate': 0.1947447758564724, 'num_leaves': 293, 'max_depth': 9, 'min_child_samples': 76, 'feature_fraction': 0.8581138738087726, 'bagging_fraction': 0.7556676739688414, 'bagging_freq': 1, 'lambda_l1': 0.07193849382371478, 'lambda_l2': 6.528509338822595}. Best is trial 99 with value: 0.6217240863604461.\n"
     ]
    },
    {
     "name": "stdout",
     "output_type": "stream",
     "text": [
      "--- Fitting LightGBMModel ---\n"
     ]
    },
    {
     "name": "stderr",
     "output_type": "stream",
     "text": [
      "[I 2025-08-31 01:57:19,452] Trial 129 finished with value: 0.6193228644701257 and parameters: {'n_estimators': 487, 'learning_rate': 0.042217797370143875, 'num_leaves': 259, 'max_depth': 3, 'min_child_samples': 73, 'feature_fraction': 0.9073534236209665, 'bagging_fraction': 0.7388278727129021, 'bagging_freq': 1, 'lambda_l1': 0.238536396892065, 'lambda_l2': 0.5953629923722312}. Best is trial 99 with value: 0.6217240863604461.\n"
     ]
    },
    {
     "name": "stdout",
     "output_type": "stream",
     "text": [
      "--- Fitting LightGBMModel ---\n"
     ]
    },
    {
     "name": "stderr",
     "output_type": "stream",
     "text": [
      "[I 2025-08-31 01:57:32,359] Trial 130 finished with value: 0.6134119768849826 and parameters: {'n_estimators': 1937, 'learning_rate': 0.03153510249769935, 'num_leaves': 233, 'max_depth': 3, 'min_child_samples': 80, 'feature_fraction': 0.9423576837153114, 'bagging_fraction': 0.7776233543502916, 'bagging_freq': 1, 'lambda_l1': 0.14468921307831886, 'lambda_l2': 3.440100629526454}. Best is trial 99 with value: 0.6217240863604461.\n"
     ]
    },
    {
     "name": "stdout",
     "output_type": "stream",
     "text": [
      "--- Fitting LightGBMModel ---\n"
     ]
    },
    {
     "name": "stderr",
     "output_type": "stream",
     "text": [
      "[I 2025-08-31 01:57:38,551] Trial 131 finished with value: 0.621658010233909 and parameters: {'n_estimators': 543, 'learning_rate': 0.015545401108283233, 'num_leaves': 269, 'max_depth': 3, 'min_child_samples': 69, 'feature_fraction': 0.8889619874396401, 'bagging_fraction': 0.7209183678293621, 'bagging_freq': 1, 'lambda_l1': 0.008452589050252644, 'lambda_l2': 0.029958524795618693}. Best is trial 99 with value: 0.6217240863604461.\n"
     ]
    },
    {
     "name": "stdout",
     "output_type": "stream",
     "text": [
      "--- Fitting LightGBMModel ---\n"
     ]
    },
    {
     "name": "stderr",
     "output_type": "stream",
     "text": [
      "[I 2025-08-31 01:57:43,904] Trial 132 finished with value: 0.6204039190425723 and parameters: {'n_estimators': 356, 'learning_rate': 0.014351255417932541, 'num_leaves': 273, 'max_depth': 3, 'min_child_samples': 67, 'feature_fraction': 0.8870431341526877, 'bagging_fraction': 0.7478399418377697, 'bagging_freq': 1, 'lambda_l1': 0.00853604110423895, 'lambda_l2': 0.031623425883480466}. Best is trial 99 with value: 0.6217240863604461.\n"
     ]
    },
    {
     "name": "stdout",
     "output_type": "stream",
     "text": [
      "--- Fitting LightGBMModel ---\n"
     ]
    },
    {
     "name": "stderr",
     "output_type": "stream",
     "text": [
      "[I 2025-08-31 01:58:02,825] Trial 133 finished with value: 0.6199863678250883 and parameters: {'n_estimators': 624, 'learning_rate': 0.022755187615879652, 'num_leaves': 269, 'max_depth': 3, 'min_child_samples': 38, 'feature_fraction': 0.9159752378872682, 'bagging_fraction': 0.72395306914237, 'bagging_freq': 1, 'lambda_l1': 0.01383320355475013, 'lambda_l2': 0.005351847504561331}. Best is trial 99 with value: 0.6217240863604461.\n"
     ]
    },
    {
     "name": "stdout",
     "output_type": "stream",
     "text": [
      "--- Fitting LightGBMModel ---\n"
     ]
    },
    {
     "name": "stderr",
     "output_type": "stream",
     "text": [
      "[I 2025-08-31 01:58:24,315] Trial 134 finished with value: 0.6206617007951907 and parameters: {'n_estimators': 523, 'learning_rate': 0.024946665895582833, 'num_leaves': 278, 'max_depth': 3, 'min_child_samples': 62, 'feature_fraction': 0.9002253623008124, 'bagging_fraction': 0.7587653105495746, 'bagging_freq': 1, 'lambda_l1': 0.0033630772824489734, 'lambda_l2': 0.00286815068490897}. Best is trial 99 with value: 0.6217240863604461.\n"
     ]
    },
    {
     "name": "stdout",
     "output_type": "stream",
     "text": [
      "--- Fitting LightGBMModel ---\n"
     ]
    },
    {
     "name": "stderr",
     "output_type": "stream",
     "text": [
      "[I 2025-08-31 01:58:44,981] Trial 135 finished with value: 0.6215048015191961 and parameters: {'n_estimators': 741, 'learning_rate': 0.010220165866906567, 'num_leaves': 250, 'max_depth': 3, 'min_child_samples': 52, 'feature_fraction': 0.8266718866976713, 'bagging_fraction': 0.7914439709212716, 'bagging_freq': 1, 'lambda_l1': 0.021262875826774306, 'lambda_l2': 0.04929328202649216}. Best is trial 99 with value: 0.6217240863604461.\n"
     ]
    },
    {
     "name": "stdout",
     "output_type": "stream",
     "text": [
      "--- Fitting LightGBMModel ---\n"
     ]
    },
    {
     "name": "stderr",
     "output_type": "stream",
     "text": [
      "[I 2025-08-31 01:58:52,081] Trial 136 finished with value: 0.620121604137356 and parameters: {'n_estimators': 745, 'learning_rate': 0.010043899976884648, 'num_leaves': 249, 'max_depth': 4, 'min_child_samples': 45, 'feature_fraction': 0.8312680652513055, 'bagging_fraction': 0.7957884746272583, 'bagging_freq': 1, 'lambda_l1': 0.006857260778067412, 'lambda_l2': 0.02465048295056722}. Best is trial 99 with value: 0.6217240863604461.\n"
     ]
    },
    {
     "name": "stdout",
     "output_type": "stream",
     "text": [
      "--- Fitting LightGBMModel ---\n"
     ]
    },
    {
     "name": "stderr",
     "output_type": "stream",
     "text": [
      "[I 2025-08-31 01:59:11,777] Trial 137 finished with value: 0.5936350135127388 and parameters: {'n_estimators': 830, 'learning_rate': 0.01757757733334533, 'num_leaves': 263, 'max_depth': 10, 'min_child_samples': 55, 'feature_fraction': 0.8426419984444403, 'bagging_fraction': 0.8138619866148483, 'bagging_freq': 1, 'lambda_l1': 0.018847069029935846, 'lambda_l2': 0.0666908968981719}. Best is trial 99 with value: 0.6217240863604461.\n"
     ]
    },
    {
     "name": "stdout",
     "output_type": "stream",
     "text": [
      "--- Fitting LightGBMModel ---\n"
     ]
    },
    {
     "name": "stderr",
     "output_type": "stream",
     "text": [
      "[I 2025-08-31 01:59:18,436] Trial 138 finished with value: 0.6213217337919644 and parameters: {'n_estimators': 675, 'learning_rate': 0.010006450521582503, 'num_leaves': 269, 'max_depth': 3, 'min_child_samples': 51, 'feature_fraction': 0.8605897315231177, 'bagging_fraction': 0.7869717927466673, 'bagging_freq': 1, 'lambda_l1': 0.0634269976713107, 'lambda_l2': 0.01983643019284877}. Best is trial 99 with value: 0.6217240863604461.\n"
     ]
    },
    {
     "name": "stdout",
     "output_type": "stream",
     "text": [
      "--- Fitting LightGBMModel ---\n"
     ]
    },
    {
     "name": "stderr",
     "output_type": "stream",
     "text": [
      "[I 2025-08-31 01:59:26,543] Trial 139 finished with value: 0.6217308497592522 and parameters: {'n_estimators': 777, 'learning_rate': 0.010106351543466435, 'num_leaves': 243, 'max_depth': 3, 'min_child_samples': 51, 'feature_fraction': 0.8599869686937124, 'bagging_fraction': 0.8334594939891885, 'bagging_freq': 2, 'lambda_l1': 0.03247109225639597, 'lambda_l2': 0.014953039650606919}. Best is trial 139 with value: 0.6217308497592522.\n"
     ]
    },
    {
     "name": "stdout",
     "output_type": "stream",
     "text": [
      "--- Fitting LightGBMModel ---\n"
     ]
    },
    {
     "name": "stderr",
     "output_type": "stream",
     "text": [
      "[I 2025-08-31 01:59:34,110] Trial 140 finished with value: 0.6207035540748806 and parameters: {'n_estimators': 728, 'learning_rate': 0.022342842191211, 'num_leaves': 239, 'max_depth': 3, 'min_child_samples': 52, 'feature_fraction': 0.8570063875147422, 'bagging_fraction': 0.834900239301227, 'bagging_freq': 3, 'lambda_l1': 0.02717509009989178, 'lambda_l2': 0.014686003605178962}. Best is trial 139 with value: 0.6217308497592522.\n"
     ]
    },
    {
     "name": "stdout",
     "output_type": "stream",
     "text": [
      "--- Fitting LightGBMModel ---\n"
     ]
    },
    {
     "name": "stderr",
     "output_type": "stream",
     "text": [
      "[I 2025-08-31 01:59:41,999] Trial 141 finished with value: 0.62138854451987 and parameters: {'n_estimators': 778, 'learning_rate': 0.013621640231903554, 'num_leaves': 247, 'max_depth': 3, 'min_child_samples': 40, 'feature_fraction': 0.819449384696543, 'bagging_fraction': 0.7885277886839615, 'bagging_freq': 2, 'lambda_l1': 0.055115783150076814, 'lambda_l2': 0.009134804427438121}. Best is trial 139 with value: 0.6217308497592522.\n"
     ]
    },
    {
     "name": "stdout",
     "output_type": "stream",
     "text": [
      "--- Fitting LightGBMModel ---\n"
     ]
    },
    {
     "name": "stderr",
     "output_type": "stream",
     "text": [
      "[I 2025-08-31 01:59:49,802] Trial 142 finished with value: 0.6215123248504523 and parameters: {'n_estimators': 762, 'learning_rate': 0.010196401021384601, 'num_leaves': 254, 'max_depth': 3, 'min_child_samples': 35, 'feature_fraction': 0.8213810370032597, 'bagging_fraction': 0.8040473947424184, 'bagging_freq': 3, 'lambda_l1': 0.0600159151594453, 'lambda_l2': 0.008460985803063256}. Best is trial 139 with value: 0.6217308497592522.\n"
     ]
    },
    {
     "name": "stdout",
     "output_type": "stream",
     "text": [
      "--- Fitting LightGBMModel ---\n"
     ]
    },
    {
     "name": "stderr",
     "output_type": "stream",
     "text": [
      "[I 2025-08-31 01:59:57,202] Trial 143 finished with value: 0.6217234594161748 and parameters: {'n_estimators': 701, 'learning_rate': 0.013757897290081778, 'num_leaves': 257, 'max_depth': 3, 'min_child_samples': 37, 'feature_fraction': 0.8236975861193431, 'bagging_fraction': 0.8066257286490679, 'bagging_freq': 3, 'lambda_l1': 0.06122353958576411, 'lambda_l2': 0.01032378403609982}. Best is trial 139 with value: 0.6217308497592522.\n"
     ]
    },
    {
     "name": "stdout",
     "output_type": "stream",
     "text": [
      "--- Fitting LightGBMModel ---\n"
     ]
    },
    {
     "name": "stderr",
     "output_type": "stream",
     "text": [
      "[I 2025-08-31 02:00:05,199] Trial 144 finished with value: 0.621668294653067 and parameters: {'n_estimators': 792, 'learning_rate': 0.011204215405821814, 'num_leaves': 227, 'max_depth': 3, 'min_child_samples': 38, 'feature_fraction': 0.8241084315566173, 'bagging_fraction': 0.8016098356765644, 'bagging_freq': 3, 'lambda_l1': 0.053671415139431494, 'lambda_l2': 0.009094235964143571}. Best is trial 139 with value: 0.6217308497592522.\n"
     ]
    },
    {
     "name": "stdout",
     "output_type": "stream",
     "text": [
      "--- Fitting LightGBMModel ---\n"
     ]
    },
    {
     "name": "stderr",
     "output_type": "stream",
     "text": [
      "[I 2025-08-31 02:00:16,597] Trial 145 finished with value: 0.6148205053484933 and parameters: {'n_estimators': 790, 'learning_rate': 0.010176069636533128, 'num_leaves': 244, 'max_depth': 6, 'min_child_samples': 36, 'feature_fraction': 0.8251041496756021, 'bagging_fraction': 0.8051352730984536, 'bagging_freq': 3, 'lambda_l1': 0.05228800939543071, 'lambda_l2': 0.009283888498395305}. Best is trial 139 with value: 0.6217308497592522.\n"
     ]
    },
    {
     "name": "stdout",
     "output_type": "stream",
     "text": [
      "--- Fitting LightGBMModel ---\n"
     ]
    },
    {
     "name": "stderr",
     "output_type": "stream",
     "text": [
      "[I 2025-08-31 02:00:24,402] Trial 146 finished with value: 0.6212307572121453 and parameters: {'n_estimators': 773, 'learning_rate': 0.01049486904701606, 'num_leaves': 229, 'max_depth': 3, 'min_child_samples': 39, 'feature_fraction': 0.8062915405587412, 'bagging_fraction': 0.8421453842177453, 'bagging_freq': 3, 'lambda_l1': 0.03263082517181242, 'lambda_l2': 0.018746483644511668}. Best is trial 139 with value: 0.6217308497592522.\n"
     ]
    },
    {
     "name": "stdout",
     "output_type": "stream",
     "text": [
      "--- Fitting LightGBMModel ---\n"
     ]
    },
    {
     "name": "stderr",
     "output_type": "stream",
     "text": [
      "[I 2025-08-31 02:00:31,758] Trial 147 finished with value: 0.6207069294415133 and parameters: {'n_estimators': 692, 'learning_rate': 0.0207346608837311, 'num_leaves': 256, 'max_depth': 3, 'min_child_samples': 27, 'feature_fraction': 0.7964235333448524, 'bagging_fraction': 0.8153847031512846, 'bagging_freq': 3, 'lambda_l1': 0.022151297256538104, 'lambda_l2': 0.003506680475381813}. Best is trial 139 with value: 0.6217308497592522.\n"
     ]
    },
    {
     "name": "stdout",
     "output_type": "stream",
     "text": [
      "--- Fitting LightGBMModel ---\n"
     ]
    },
    {
     "name": "stderr",
     "output_type": "stream",
     "text": [
      "[I 2025-08-31 02:00:40,676] Trial 148 finished with value: 0.6189328671367288 and parameters: {'n_estimators': 902, 'learning_rate': 0.014961342436367035, 'num_leaves': 226, 'max_depth': 4, 'min_child_samples': 45, 'feature_fraction': 0.8190807873081261, 'bagging_fraction': 0.7899552331793662, 'bagging_freq': 3, 'lambda_l1': 0.06800949985754494, 'lambda_l2': 0.0015712281156955777}. Best is trial 139 with value: 0.6217308497592522.\n"
     ]
    },
    {
     "name": "stdout",
     "output_type": "stream",
     "text": [
      "--- Fitting LightGBMModel ---\n"
     ]
    },
    {
     "name": "stderr",
     "output_type": "stream",
     "text": [
      "[I 2025-08-31 02:00:48,097] Trial 149 finished with value: 0.6203252217045928 and parameters: {'n_estimators': 736, 'learning_rate': 0.021486462217651915, 'num_leaves': 248, 'max_depth': 3, 'min_child_samples': 33, 'feature_fraction': 0.8337665451217676, 'bagging_fraction': 0.8260289842961768, 'bagging_freq': 4, 'lambda_l1': 0.04175377999588692, 'lambda_l2': 0.006510367595773616}. Best is trial 139 with value: 0.6217308497592522.\n"
     ]
    },
    {
     "name": "stdout",
     "output_type": "stream",
     "text": [
      "--- Fitting LightGBMModel ---\n"
     ]
    },
    {
     "name": "stderr",
     "output_type": "stream",
     "text": [
      "[I 2025-08-31 02:00:56,313] Trial 150 finished with value: 0.6218116875736326 and parameters: {'n_estimators': 834, 'learning_rate': 0.010635740999839932, 'num_leaves': 242, 'max_depth': 3, 'min_child_samples': 49, 'feature_fraction': 0.7851743400366283, 'bagging_fraction': 0.806146197286361, 'bagging_freq': 3, 'lambda_l1': 0.011546695591351425, 'lambda_l2': 0.011540201375709918}. Best is trial 150 with value: 0.6218116875736326.\n"
     ]
    },
    {
     "name": "stdout",
     "output_type": "stream",
     "text": [
      "--- Fitting LightGBMModel ---\n"
     ]
    },
    {
     "name": "stderr",
     "output_type": "stream",
     "text": [
      "[I 2025-08-31 02:01:04,433] Trial 151 finished with value: 0.621279145910906 and parameters: {'n_estimators': 834, 'learning_rate': 0.014335727428950916, 'num_leaves': 234, 'max_depth': 3, 'min_child_samples': 48, 'feature_fraction': 0.8091509816786137, 'bagging_fraction': 0.8059763339333819, 'bagging_freq': 3, 'lambda_l1': 0.01354319804984963, 'lambda_l2': 0.011759124251550405}. Best is trial 150 with value: 0.6218116875736326.\n"
     ]
    },
    {
     "name": "stdout",
     "output_type": "stream",
     "text": [
      "--- Fitting LightGBMModel ---\n"
     ]
    },
    {
     "name": "stderr",
     "output_type": "stream",
     "text": [
      "[I 2025-08-31 02:01:11,981] Trial 152 finished with value: 0.6217219142201929 and parameters: {'n_estimators': 764, 'learning_rate': 0.011038155154567708, 'num_leaves': 243, 'max_depth': 3, 'min_child_samples': 41, 'feature_fraction': 0.7781019704448784, 'bagging_fraction': 0.7828384289056711, 'bagging_freq': 3, 'lambda_l1': 0.004530394503554633, 'lambda_l2': 0.054950168844201806}. Best is trial 150 with value: 0.6218116875736326.\n"
     ]
    },
    {
     "name": "stdout",
     "output_type": "stream",
     "text": [
      "--- Fitting LightGBMModel ---\n"
     ]
    },
    {
     "name": "stderr",
     "output_type": "stream",
     "text": [
      "[I 2025-08-31 02:01:19,555] Trial 153 finished with value: 0.6200235538529804 and parameters: {'n_estimators': 793, 'learning_rate': 0.01958956363881202, 'num_leaves': 240, 'max_depth': 3, 'min_child_samples': 39, 'feature_fraction': 0.7885400534598995, 'bagging_fraction': 0.7990657033099894, 'bagging_freq': 3, 'lambda_l1': 0.004426689997417025, 'lambda_l2': 0.060628657078841616}. Best is trial 150 with value: 0.6218116875736326.\n"
     ]
    },
    {
     "name": "stdout",
     "output_type": "stream",
     "text": [
      "--- Fitting LightGBMModel ---\n"
     ]
    },
    {
     "name": "stderr",
     "output_type": "stream",
     "text": [
      "[I 2025-08-31 02:01:27,675] Trial 154 finished with value: 0.6219416486881425 and parameters: {'n_estimators': 857, 'learning_rate': 0.014318687021824015, 'num_leaves': 245, 'max_depth': 3, 'min_child_samples': 23, 'feature_fraction': 0.732817427939995, 'bagging_fraction': 0.8168534846581446, 'bagging_freq': 3, 'lambda_l1': 0.0017905747272605646, 'lambda_l2': 0.042026731646535774}. Best is trial 154 with value: 0.6219416486881425.\n"
     ]
    },
    {
     "name": "stdout",
     "output_type": "stream",
     "text": [
      "--- Fitting LightGBMModel ---\n"
     ]
    },
    {
     "name": "stderr",
     "output_type": "stream",
     "text": [
      "[I 2025-08-31 02:01:36,705] Trial 155 finished with value: 0.6213981196687414 and parameters: {'n_estimators': 1009, 'learning_rate': 0.010757283350352014, 'num_leaves': 243, 'max_depth': 3, 'min_child_samples': 31, 'feature_fraction': 0.7784674369498046, 'bagging_fraction': 0.8353696185561094, 'bagging_freq': 3, 'lambda_l1': 0.0016503272337538835, 'lambda_l2': 0.03605193659004062}. Best is trial 154 with value: 0.6219416486881425.\n"
     ]
    },
    {
     "name": "stdout",
     "output_type": "stream",
     "text": [
      "--- Fitting LightGBMModel ---\n"
     ]
    },
    {
     "name": "stderr",
     "output_type": "stream",
     "text": [
      "[I 2025-08-31 02:01:45,594] Trial 156 finished with value: 0.6188552653680316 and parameters: {'n_estimators': 1012, 'learning_rate': 0.02383303058816689, 'num_leaves': 223, 'max_depth': 3, 'min_child_samples': 31, 'feature_fraction': 0.7622118555376459, 'bagging_fraction': 0.8341372671399663, 'bagging_freq': 3, 'lambda_l1': 0.0004130646110363377, 'lambda_l2': 0.026844898010403084}. Best is trial 154 with value: 0.6219416486881425.\n"
     ]
    },
    {
     "name": "stdout",
     "output_type": "stream",
     "text": [
      "--- Fitting LightGBMModel ---\n"
     ]
    },
    {
     "name": "stderr",
     "output_type": "stream",
     "text": [
      "[I 2025-08-31 02:01:53,899] Trial 157 finished with value: 0.6208299371741046 and parameters: {'n_estimators': 866, 'learning_rate': 0.015102116945431782, 'num_leaves': 243, 'max_depth': 3, 'min_child_samples': 27, 'feature_fraction': 0.7208357640928507, 'bagging_fraction': 0.8512058311938918, 'bagging_freq': 3, 'lambda_l1': 0.0009901841733277658, 'lambda_l2': 0.007465583089660178}. Best is trial 154 with value: 0.6219416486881425.\n"
     ]
    },
    {
     "name": "stdout",
     "output_type": "stream",
     "text": [
      "--- Fitting LightGBMModel ---\n"
     ]
    }
   ],
   "execution_count": null
  },
  {
   "metadata": {},
   "cell_type": "code",
   "source": "",
   "id": "2f79a5565ffb18f3",
   "outputs": [],
   "execution_count": null
  }
 ],
 "metadata": {
  "kernelspec": {
   "display_name": "Python 3",
   "language": "python",
   "name": "python3"
  },
  "language_info": {
   "codemirror_mode": {
    "name": "ipython",
    "version": 2
   },
   "file_extension": ".py",
   "mimetype": "text/x-python",
   "name": "python",
   "nbconvert_exporter": "python",
   "pygments_lexer": "ipython2",
   "version": "2.7.6"
  }
 },
 "nbformat": 4,
 "nbformat_minor": 5
}
