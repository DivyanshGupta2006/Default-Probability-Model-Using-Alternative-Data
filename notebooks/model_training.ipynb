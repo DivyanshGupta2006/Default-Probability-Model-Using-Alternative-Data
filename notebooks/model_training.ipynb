{
 "cells": [
  {
   "cell_type": "code",
   "id": "initial_id",
   "metadata": {
    "collapsed": true,
    "ExecuteTime": {
     "end_time": "2025-08-31T18:16:44.843755Z",
     "start_time": "2025-08-31T18:16:44.840362Z"
    }
   },
   "source": [
    "import sys\n",
    "import os\n",
    "from pathlib import Path\n",
    "import warnings\n",
    "\n",
    "warnings.filterwarnings('ignore')"
   ],
   "outputs": [],
   "execution_count": 1
  },
  {
   "metadata": {
    "ExecuteTime": {
     "end_time": "2025-08-31T18:16:44.856440Z",
     "start_time": "2025-08-31T18:16:44.854056Z"
    }
   },
   "cell_type": "code",
   "source": [
    "project_root = os.path.abspath(os.path.join(os.getcwd(), '..'))\n",
    "if project_root not in sys.path:\n",
    "    sys.path.append(project_root)"
   ],
   "id": "1ff8e6124afacac6",
   "outputs": [],
   "execution_count": 2
  },
  {
   "metadata": {
    "ExecuteTime": {
     "end_time": "2025-08-31T18:16:47.635868Z",
     "start_time": "2025-08-31T18:16:44.868157Z"
    }
   },
   "cell_type": "code",
   "source": [
    "from src.model import model, train, test\n",
    "from src.utils import get_config"
   ],
   "id": "e65d6d2b24c3ac66",
   "outputs": [],
   "execution_count": 3
  },
  {
   "metadata": {
    "ExecuteTime": {
     "end_time": "2025-08-31T18:16:47.648009Z",
     "start_time": "2025-08-31T18:16:47.640565Z"
    }
   },
   "cell_type": "code",
   "source": [
    "config = get_config.read_yaml_from_main()\n",
    "print(\"Configuration loaded successfully!\")"
   ],
   "id": "f8661607222d67d7",
   "outputs": [
    {
     "name": "stdout",
     "output_type": "stream",
     "text": [
      "Configuration loaded successfully!\n"
     ]
    }
   ],
   "execution_count": 4
  },
  {
   "metadata": {
    "ExecuteTime": {
     "end_time": "2025-08-31T18:16:47.654740Z",
     "start_time": "2025-08-31T18:16:47.652437Z"
    }
   },
   "cell_type": "code",
   "source": [
    "def run_model(model_name):\n",
    "    model_dir = Path(config['paths']['model_data_directory'])\n",
    "    model_path = model_dir / f\"{model_name}_model.joblib\"\n",
    "    train.train_model(model_name, model_path)\n",
    "    test.test_model(model_name)"
   ],
   "id": "b04221cbbbf8e1ef",
   "outputs": [],
   "execution_count": 5
  },
  {
   "metadata": {
    "ExecuteTime": {
     "end_time": "2025-08-31T18:16:54.392586Z",
     "start_time": "2025-08-31T18:16:47.665559Z"
    }
   },
   "cell_type": "code",
   "source": [
    "model_name = 'lightgbm'\n",
    "run_model(model_name)"
   ],
   "id": "8cfd708239eff64e",
   "outputs": [
    {
     "name": "stdout",
     "output_type": "stream",
     "text": [
      "--- Preparing to Train Model: lightgbm ---\n",
      "Reading file: clean_train_data.csv\n",
      "Successfully read file!\n",
      "Reading file: clean_val_data.csv\n",
      "Successfully read file!\n",
      "--- Fitting LightGBMModel ---\n",
      "[LightGBM] [Warning] Found whitespace in feature_names, replace with underlines\n",
      "[LightGBM] [Info] Number of positive: 17377, number of negative: 197880\n",
      "[LightGBM] [Info] Auto-choosing col-wise multi-threading, the overhead of testing was 0.045975 seconds.\n",
      "You can set `force_col_wise=true` to remove the overhead.\n",
      "[LightGBM] [Info] Total Bins 12872\n",
      "[LightGBM] [Info] Number of data points in the train set: 215257, number of used features: 81\n",
      "[LightGBM] [Info] [binary:BoostFromScore]: pavg=0.500000 -> initscore=-0.000000\n",
      "[LightGBM] [Info] Start training from score -0.000000\n",
      "Validation ROC AUC: 0.6132\n",
      "Validation PR AUC (AUC-PR): 0.1283\n",
      "Model saved to ..\\models\\lightgbm_model.joblib\n",
      "Reading file: lightgbm_model.joblib\n",
      "Successfully read file!\n",
      "Reading file: clean_test_data.csv\n",
      "Successfully read file!\n",
      "\n",
      "--- Test Set Performance ---\n",
      "Test ROC AUC: 0.6103\n",
      "Test PR AUC: 0.1275\n"
     ]
    }
   ],
   "execution_count": 6
  },
  {
   "metadata": {
    "ExecuteTime": {
     "end_time": "2025-08-31T18:16:58.670691Z",
     "start_time": "2025-08-31T18:16:54.400275Z"
    }
   },
   "cell_type": "code",
   "source": [
    "model_name = 'xgboost'\n",
    "run_model(model_name)"
   ],
   "id": "5deb95454ff25d57",
   "outputs": [
    {
     "name": "stdout",
     "output_type": "stream",
     "text": [
      "--- Preparing to Train Model: xgboost ---\n",
      "Reading file: clean_train_data.csv\n",
      "Successfully read file!\n",
      "Reading file: clean_val_data.csv\n",
      "Successfully read file!\n",
      "--- Fitting XGBoostModel ---\n",
      "Validation ROC AUC: 0.5884\n",
      "Validation PR AUC (AUC-PR): 0.1171\n",
      "Model saved to ..\\models\\xgboost_model.joblib\n",
      "Reading file: xgboost_model.joblib\n",
      "Successfully read file!\n",
      "Reading file: clean_test_data.csv\n",
      "Successfully read file!\n",
      "\n",
      "--- Test Set Performance ---\n",
      "Test ROC AUC: 0.5855\n",
      "Test PR AUC: 0.1181\n"
     ]
    }
   ],
   "execution_count": 7
  },
  {
   "metadata": {
    "ExecuteTime": {
     "end_time": "2025-08-31T18:17:19.826029Z",
     "start_time": "2025-08-31T18:16:58.675392Z"
    }
   },
   "cell_type": "code",
   "source": [
    "model_name = 'catboost'\n",
    "run_model(model_name)"
   ],
   "id": "3e377e92357517e8",
   "outputs": [
    {
     "name": "stdout",
     "output_type": "stream",
     "text": [
      "--- Preparing to Train Model: catboost ---\n",
      "Reading file: clean_train_data.csv\n",
      "Successfully read file!\n",
      "Reading file: clean_val_data.csv\n",
      "Successfully read file!\n",
      "--- Fitting CatBoostModel ---\n",
      "Validation ROC AUC: 0.5945\n",
      "Validation PR AUC (AUC-PR): 0.1230\n",
      "Model saved to ..\\models\\catboost_model.joblib\n",
      "Reading file: catboost_model.joblib\n",
      "Successfully read file!\n",
      "Reading file: clean_test_data.csv\n",
      "Successfully read file!\n",
      "\n",
      "--- Test Set Performance ---\n",
      "Test ROC AUC: 0.5982\n",
      "Test PR AUC: 0.1221\n"
     ]
    }
   ],
   "execution_count": 8
  },
  {
   "metadata": {
    "ExecuteTime": {
     "end_time": "2025-08-31T18:17:23.746931Z",
     "start_time": "2025-08-31T18:17:19.841194Z"
    }
   },
   "cell_type": "code",
   "source": [
    "model_name = 'logistic_regression'\n",
    "run_model(model_name)"
   ],
   "id": "94811a29876db1ad",
   "outputs": [
    {
     "name": "stdout",
     "output_type": "stream",
     "text": [
      "--- Preparing to Train Model: logistic_regression ---\n",
      "Reading file: clean_train_data.csv\n",
      "Successfully read file!\n",
      "Reading file: clean_val_data.csv\n",
      "Successfully read file!\n",
      "--- Fitting LogisticRegressionModel ---\n",
      "Validation ROC AUC: 0.6143\n",
      "Validation PR AUC (AUC-PR): 0.1252\n",
      "Model saved to ..\\models\\logistic_regression_model.joblib\n",
      "Reading file: logistic_regression_model.joblib\n",
      "Successfully read file!\n",
      "Reading file: clean_test_data.csv\n",
      "Successfully read file!\n",
      "\n",
      "--- Test Set Performance ---\n",
      "Test ROC AUC: 0.6138\n",
      "Test PR AUC: 0.1252\n"
     ]
    }
   ],
   "execution_count": 9
  },
  {
   "metadata": {
    "ExecuteTime": {
     "end_time": "2025-08-31T18:17:51.924066Z",
     "start_time": "2025-08-31T18:17:23.750725Z"
    }
   },
   "cell_type": "code",
   "source": [
    "model_name = 'ensemble'\n",
    "run_model(model_name)"
   ],
   "id": "a46444a23db73b63",
   "outputs": [
    {
     "name": "stdout",
     "output_type": "stream",
     "text": [
      "--- Preparing to Train Model: ensemble ---\n",
      "Reading file: clean_train_data.csv\n",
      "Successfully read file!\n",
      "Reading file: clean_val_data.csv\n",
      "Successfully read file!\n",
      "--- Fitting Stacking Ensemble ---\n",
      "Fitting base model: LightGBMModel\n",
      "--- Fitting LightGBMModel ---\n",
      "[LightGBM] [Warning] Found whitespace in feature_names, replace with underlines\n",
      "[LightGBM] [Info] Number of positive: 17377, number of negative: 197880\n",
      "[LightGBM] [Info] Auto-choosing col-wise multi-threading, the overhead of testing was 0.045710 seconds.\n",
      "You can set `force_col_wise=true` to remove the overhead.\n",
      "[LightGBM] [Info] Total Bins 12872\n",
      "[LightGBM] [Info] Number of data points in the train set: 215257, number of used features: 81\n",
      "[LightGBM] [Info] [binary:BoostFromScore]: pavg=0.500000 -> initscore=-0.000000\n",
      "[LightGBM] [Info] Start training from score -0.000000\n",
      "Fitting base model: XGBoostModel\n",
      "--- Fitting XGBoostModel ---\n",
      "Fitting base model: CatBoostModel\n",
      "--- Fitting CatBoostModel ---\n",
      "Fitting base model: LogisticRegressionModel\n",
      "--- Fitting LogisticRegressionModel ---\n",
      "Fitting meta-learner...\n",
      "--- Ensemble Fitting Complete ---\n",
      "Validation ROC AUC: 0.5602\n",
      "Validation PR AUC (AUC-PR): 0.1025\n",
      "Ensemble model saved to ..\\models\\ensemble_model.joblib\n",
      "Reading file: ensemble_model.joblib\n",
      "Successfully read file!\n",
      "Reading file: clean_test_data.csv\n",
      "Successfully read file!\n",
      "\n",
      "--- Test Set Performance ---\n",
      "Test ROC AUC: 0.5608\n",
      "Test PR AUC: 0.1037\n"
     ]
    }
   ],
   "execution_count": 10
  },
  {
   "metadata": {
    "ExecuteTime": {
     "end_time": "2025-08-31T18:25:49.041026Z",
     "start_time": "2025-08-31T18:17:51.930058Z"
    }
   },
   "cell_type": "code",
   "source": [
    "model_name = 'tabnet'\n",
    "run_model(model_name)"
   ],
   "id": "a682fd1e533afe32",
   "outputs": [
    {
     "name": "stdout",
     "output_type": "stream",
     "text": [
      "--- Preparing to Train Model: tabnet ---\n",
      "Reading file: clean_train_data.csv\n",
      "Successfully read file!\n",
      "Reading file: clean_val_data.csv\n",
      "Successfully read file!\n",
      "--- Fitting TabNetModel ---\n",
      "Validation ROC AUC: 0.6152\n",
      "Validation PR AUC (AUC-PR): 0.1230\n",
      "Model saved to ..\\models\\tabnet_model.joblib\n",
      "Reading file: tabnet_model.joblib\n",
      "Successfully read file!\n",
      "Reading file: clean_test_data.csv\n",
      "Successfully read file!\n",
      "\n",
      "--- Test Set Performance ---\n",
      "Test ROC AUC: 0.6155\n",
      "Test PR AUC: 0.1232\n"
     ]
    }
   ],
   "execution_count": 11
  },
  {
   "metadata": {
    "ExecuteTime": {
     "end_time": "2025-08-31T18:33:00.894118Z",
     "start_time": "2025-08-31T18:25:49.062916Z"
    }
   },
   "cell_type": "code",
   "source": [
    "model = 'ziber'\n",
    "run_model(model)"
   ],
   "id": "ea3e50ebe2b3e3eb",
   "outputs": [
    {
     "name": "stdout",
     "output_type": "stream",
     "text": [
      "--- Preparing to Train Model: ziber ---\n",
      "Reading file: clean_train_data.csv\n",
      "Successfully read file!\n",
      "Reading file: clean_val_data.csv\n",
      "Successfully read file!\n",
      "--- Fitting ZIBerModel ---\n",
      "Iteration 1, Log-Likelihood: -72349.7560\n",
      "Iteration 2, Log-Likelihood: -61216.9599\n",
      "Iteration 3, Log-Likelihood: -59891.7834\n",
      "Iteration 4, Log-Likelihood: -59463.4707\n",
      "Iteration 5, Log-Likelihood: -59271.5100\n",
      "Iteration 6, Log-Likelihood: -59168.7835\n",
      "Iteration 7, Log-Likelihood: -59107.1671\n",
      "Iteration 8, Log-Likelihood: -59066.5502\n",
      "Iteration 9, Log-Likelihood: -59038.5401\n",
      "Iteration 10, Log-Likelihood: -59018.1288\n",
      "Iteration 11, Log-Likelihood: -59002.2041\n",
      "Iteration 12, Log-Likelihood: -58989.8890\n",
      "Iteration 13, Log-Likelihood: -58979.6718\n",
      "Iteration 14, Log-Likelihood: -58971.6125\n",
      "Iteration 15, Log-Likelihood: -58964.4212\n",
      "Iteration 16, Log-Likelihood: -58958.4508\n",
      "Iteration 17, Log-Likelihood: -58952.8019\n",
      "Iteration 18, Log-Likelihood: -58947.4122\n",
      "Iteration 19, Log-Likelihood: -58942.8256\n",
      "Iteration 20, Log-Likelihood: -58938.7481\n",
      "Validation ROC AUC: 0.6146\n",
      "Validation PR AUC (AUC-PR): 0.1263\n",
      "Model saved to ..\\models\\ziber_model.joblib\n",
      "Reading file: ziber_model.joblib\n",
      "Successfully read file!\n",
      "Reading file: clean_test_data.csv\n",
      "Successfully read file!\n",
      "\n",
      "--- Test Set Performance ---\n",
      "Test ROC AUC: 0.6142\n",
      "Test PR AUC: 0.1264\n"
     ]
    }
   ],
   "execution_count": 12
  }
 ],
 "metadata": {
  "kernelspec": {
   "display_name": "Python 3",
   "language": "python",
   "name": "python3"
  },
  "language_info": {
   "codemirror_mode": {
    "name": "ipython",
    "version": 2
   },
   "file_extension": ".py",
   "mimetype": "text/x-python",
   "name": "python",
   "nbconvert_exporter": "python",
   "pygments_lexer": "ipython2",
   "version": "2.7.6"
  }
 },
 "nbformat": 4,
 "nbformat_minor": 5
}
